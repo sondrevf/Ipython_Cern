{
 "cells": [
  {
   "cell_type": "markdown",
   "metadata": {},
   "source": [
    "# Testing"
   ]
  },
  {
   "cell_type": "code",
   "execution_count": 3,
   "metadata": {
    "collapsed": false
   },
   "outputs": [],
   "source": [
    "%reset -f\n",
    "import numpy as np\n",
    "import matplotlib.pyplot as plt\n",
    "import scipy.stats as st\n",
    "import scipy as sc\n",
    "from matplotlib.colors import LogNorm\n",
    "%matplotlib notebook\n",
    "plt.close('All')"
   ]
  },
  {
   "cell_type": "markdown",
   "metadata": {},
   "source": [
    "# Input"
   ]
  },
  {
   "cell_type": "code",
   "execution_count": null,
   "metadata": {
    "collapsed": false
   },
   "outputs": [],
   "source": []
  },
  {
   "cell_type": "markdown",
   "metadata": {},
   "source": [
    "# Polyfit vs expfit"
   ]
  },
  {
   "cell_type": "code",
   "execution_count": 24,
   "metadata": {
    "collapsed": false
   },
   "outputs": [
    {
     "name": "stdout",
     "output_type": "stream",
     "text": [
      "[0.66926169 1.36832665]\n",
      "[0.87997217 0.60220684]\n",
      "[0.84622271 0.75633348]\n"
     ]
    },
    {
     "data": {
      "application/javascript": [
       "/* Put everything inside the global mpl namespace */\n",
       "window.mpl = {};\n",
       "\n",
       "\n",
       "mpl.get_websocket_type = function() {\n",
       "    if (typeof(WebSocket) !== 'undefined') {\n",
       "        return WebSocket;\n",
       "    } else if (typeof(MozWebSocket) !== 'undefined') {\n",
       "        return MozWebSocket;\n",
       "    } else {\n",
       "        alert('Your browser does not have WebSocket support.' +\n",
       "              'Please try Chrome, Safari or Firefox ≥ 6. ' +\n",
       "              'Firefox 4 and 5 are also supported but you ' +\n",
       "              'have to enable WebSockets in about:config.');\n",
       "    };\n",
       "}\n",
       "\n",
       "mpl.figure = function(figure_id, websocket, ondownload, parent_element) {\n",
       "    this.id = figure_id;\n",
       "\n",
       "    this.ws = websocket;\n",
       "\n",
       "    this.supports_binary = (this.ws.binaryType != undefined);\n",
       "\n",
       "    if (!this.supports_binary) {\n",
       "        var warnings = document.getElementById(\"mpl-warnings\");\n",
       "        if (warnings) {\n",
       "            warnings.style.display = 'block';\n",
       "            warnings.textContent = (\n",
       "                \"This browser does not support binary websocket messages. \" +\n",
       "                    \"Performance may be slow.\");\n",
       "        }\n",
       "    }\n",
       "\n",
       "    this.imageObj = new Image();\n",
       "\n",
       "    this.context = undefined;\n",
       "    this.message = undefined;\n",
       "    this.canvas = undefined;\n",
       "    this.rubberband_canvas = undefined;\n",
       "    this.rubberband_context = undefined;\n",
       "    this.format_dropdown = undefined;\n",
       "\n",
       "    this.image_mode = 'full';\n",
       "\n",
       "    this.root = $('<div/>');\n",
       "    this._root_extra_style(this.root)\n",
       "    this.root.attr('style', 'display: inline-block');\n",
       "\n",
       "    $(parent_element).append(this.root);\n",
       "\n",
       "    this._init_header(this);\n",
       "    this._init_canvas(this);\n",
       "    this._init_toolbar(this);\n",
       "\n",
       "    var fig = this;\n",
       "\n",
       "    this.waiting = false;\n",
       "\n",
       "    this.ws.onopen =  function () {\n",
       "            fig.send_message(\"supports_binary\", {value: fig.supports_binary});\n",
       "            fig.send_message(\"send_image_mode\", {});\n",
       "            if (mpl.ratio != 1) {\n",
       "                fig.send_message(\"set_dpi_ratio\", {'dpi_ratio': mpl.ratio});\n",
       "            }\n",
       "            fig.send_message(\"refresh\", {});\n",
       "        }\n",
       "\n",
       "    this.imageObj.onload = function() {\n",
       "            if (fig.image_mode == 'full') {\n",
       "                // Full images could contain transparency (where diff images\n",
       "                // almost always do), so we need to clear the canvas so that\n",
       "                // there is no ghosting.\n",
       "                fig.context.clearRect(0, 0, fig.canvas.width, fig.canvas.height);\n",
       "            }\n",
       "            fig.context.drawImage(fig.imageObj, 0, 0);\n",
       "        };\n",
       "\n",
       "    this.imageObj.onunload = function() {\n",
       "        fig.ws.close();\n",
       "    }\n",
       "\n",
       "    this.ws.onmessage = this._make_on_message_function(this);\n",
       "\n",
       "    this.ondownload = ondownload;\n",
       "}\n",
       "\n",
       "mpl.figure.prototype._init_header = function() {\n",
       "    var titlebar = $(\n",
       "        '<div class=\"ui-dialog-titlebar ui-widget-header ui-corner-all ' +\n",
       "        'ui-helper-clearfix\"/>');\n",
       "    var titletext = $(\n",
       "        '<div class=\"ui-dialog-title\" style=\"width: 100%; ' +\n",
       "        'text-align: center; padding: 3px;\"/>');\n",
       "    titlebar.append(titletext)\n",
       "    this.root.append(titlebar);\n",
       "    this.header = titletext[0];\n",
       "}\n",
       "\n",
       "\n",
       "\n",
       "mpl.figure.prototype._canvas_extra_style = function(canvas_div) {\n",
       "\n",
       "}\n",
       "\n",
       "\n",
       "mpl.figure.prototype._root_extra_style = function(canvas_div) {\n",
       "\n",
       "}\n",
       "\n",
       "mpl.figure.prototype._init_canvas = function() {\n",
       "    var fig = this;\n",
       "\n",
       "    var canvas_div = $('<div/>');\n",
       "\n",
       "    canvas_div.attr('style', 'position: relative; clear: both; outline: 0');\n",
       "\n",
       "    function canvas_keyboard_event(event) {\n",
       "        return fig.key_event(event, event['data']);\n",
       "    }\n",
       "\n",
       "    canvas_div.keydown('key_press', canvas_keyboard_event);\n",
       "    canvas_div.keyup('key_release', canvas_keyboard_event);\n",
       "    this.canvas_div = canvas_div\n",
       "    this._canvas_extra_style(canvas_div)\n",
       "    this.root.append(canvas_div);\n",
       "\n",
       "    var canvas = $('<canvas/>');\n",
       "    canvas.addClass('mpl-canvas');\n",
       "    canvas.attr('style', \"left: 0; top: 0; z-index: 0; outline: 0\")\n",
       "\n",
       "    this.canvas = canvas[0];\n",
       "    this.context = canvas[0].getContext(\"2d\");\n",
       "\n",
       "    var backingStore = this.context.backingStorePixelRatio ||\n",
       "\tthis.context.webkitBackingStorePixelRatio ||\n",
       "\tthis.context.mozBackingStorePixelRatio ||\n",
       "\tthis.context.msBackingStorePixelRatio ||\n",
       "\tthis.context.oBackingStorePixelRatio ||\n",
       "\tthis.context.backingStorePixelRatio || 1;\n",
       "\n",
       "    mpl.ratio = (window.devicePixelRatio || 1) / backingStore;\n",
       "\n",
       "    var rubberband = $('<canvas/>');\n",
       "    rubberband.attr('style', \"position: absolute; left: 0; top: 0; z-index: 1;\")\n",
       "\n",
       "    var pass_mouse_events = true;\n",
       "\n",
       "    canvas_div.resizable({\n",
       "        start: function(event, ui) {\n",
       "            pass_mouse_events = false;\n",
       "        },\n",
       "        resize: function(event, ui) {\n",
       "            fig.request_resize(ui.size.width, ui.size.height);\n",
       "        },\n",
       "        stop: function(event, ui) {\n",
       "            pass_mouse_events = true;\n",
       "            fig.request_resize(ui.size.width, ui.size.height);\n",
       "        },\n",
       "    });\n",
       "\n",
       "    function mouse_event_fn(event) {\n",
       "        if (pass_mouse_events)\n",
       "            return fig.mouse_event(event, event['data']);\n",
       "    }\n",
       "\n",
       "    rubberband.mousedown('button_press', mouse_event_fn);\n",
       "    rubberband.mouseup('button_release', mouse_event_fn);\n",
       "    // Throttle sequential mouse events to 1 every 20ms.\n",
       "    rubberband.mousemove('motion_notify', mouse_event_fn);\n",
       "\n",
       "    rubberband.mouseenter('figure_enter', mouse_event_fn);\n",
       "    rubberband.mouseleave('figure_leave', mouse_event_fn);\n",
       "\n",
       "    canvas_div.on(\"wheel\", function (event) {\n",
       "        event = event.originalEvent;\n",
       "        event['data'] = 'scroll'\n",
       "        if (event.deltaY < 0) {\n",
       "            event.step = 1;\n",
       "        } else {\n",
       "            event.step = -1;\n",
       "        }\n",
       "        mouse_event_fn(event);\n",
       "    });\n",
       "\n",
       "    canvas_div.append(canvas);\n",
       "    canvas_div.append(rubberband);\n",
       "\n",
       "    this.rubberband = rubberband;\n",
       "    this.rubberband_canvas = rubberband[0];\n",
       "    this.rubberband_context = rubberband[0].getContext(\"2d\");\n",
       "    this.rubberband_context.strokeStyle = \"#000000\";\n",
       "\n",
       "    this._resize_canvas = function(width, height) {\n",
       "        // Keep the size of the canvas, canvas container, and rubber band\n",
       "        // canvas in synch.\n",
       "        canvas_div.css('width', width)\n",
       "        canvas_div.css('height', height)\n",
       "\n",
       "        canvas.attr('width', width * mpl.ratio);\n",
       "        canvas.attr('height', height * mpl.ratio);\n",
       "        canvas.attr('style', 'width: ' + width + 'px; height: ' + height + 'px;');\n",
       "\n",
       "        rubberband.attr('width', width);\n",
       "        rubberband.attr('height', height);\n",
       "    }\n",
       "\n",
       "    // Set the figure to an initial 600x600px, this will subsequently be updated\n",
       "    // upon first draw.\n",
       "    this._resize_canvas(600, 600);\n",
       "\n",
       "    // Disable right mouse context menu.\n",
       "    $(this.rubberband_canvas).bind(\"contextmenu\",function(e){\n",
       "        return false;\n",
       "    });\n",
       "\n",
       "    function set_focus () {\n",
       "        canvas.focus();\n",
       "        canvas_div.focus();\n",
       "    }\n",
       "\n",
       "    window.setTimeout(set_focus, 100);\n",
       "}\n",
       "\n",
       "mpl.figure.prototype._init_toolbar = function() {\n",
       "    var fig = this;\n",
       "\n",
       "    var nav_element = $('<div/>')\n",
       "    nav_element.attr('style', 'width: 100%');\n",
       "    this.root.append(nav_element);\n",
       "\n",
       "    // Define a callback function for later on.\n",
       "    function toolbar_event(event) {\n",
       "        return fig.toolbar_button_onclick(event['data']);\n",
       "    }\n",
       "    function toolbar_mouse_event(event) {\n",
       "        return fig.toolbar_button_onmouseover(event['data']);\n",
       "    }\n",
       "\n",
       "    for(var toolbar_ind in mpl.toolbar_items) {\n",
       "        var name = mpl.toolbar_items[toolbar_ind][0];\n",
       "        var tooltip = mpl.toolbar_items[toolbar_ind][1];\n",
       "        var image = mpl.toolbar_items[toolbar_ind][2];\n",
       "        var method_name = mpl.toolbar_items[toolbar_ind][3];\n",
       "\n",
       "        if (!name) {\n",
       "            // put a spacer in here.\n",
       "            continue;\n",
       "        }\n",
       "        var button = $('<button/>');\n",
       "        button.addClass('ui-button ui-widget ui-state-default ui-corner-all ' +\n",
       "                        'ui-button-icon-only');\n",
       "        button.attr('role', 'button');\n",
       "        button.attr('aria-disabled', 'false');\n",
       "        button.click(method_name, toolbar_event);\n",
       "        button.mouseover(tooltip, toolbar_mouse_event);\n",
       "\n",
       "        var icon_img = $('<span/>');\n",
       "        icon_img.addClass('ui-button-icon-primary ui-icon');\n",
       "        icon_img.addClass(image);\n",
       "        icon_img.addClass('ui-corner-all');\n",
       "\n",
       "        var tooltip_span = $('<span/>');\n",
       "        tooltip_span.addClass('ui-button-text');\n",
       "        tooltip_span.html(tooltip);\n",
       "\n",
       "        button.append(icon_img);\n",
       "        button.append(tooltip_span);\n",
       "\n",
       "        nav_element.append(button);\n",
       "    }\n",
       "\n",
       "    var fmt_picker_span = $('<span/>');\n",
       "\n",
       "    var fmt_picker = $('<select/>');\n",
       "    fmt_picker.addClass('mpl-toolbar-option ui-widget ui-widget-content');\n",
       "    fmt_picker_span.append(fmt_picker);\n",
       "    nav_element.append(fmt_picker_span);\n",
       "    this.format_dropdown = fmt_picker[0];\n",
       "\n",
       "    for (var ind in mpl.extensions) {\n",
       "        var fmt = mpl.extensions[ind];\n",
       "        var option = $(\n",
       "            '<option/>', {selected: fmt === mpl.default_extension}).html(fmt);\n",
       "        fmt_picker.append(option)\n",
       "    }\n",
       "\n",
       "    // Add hover states to the ui-buttons\n",
       "    $( \".ui-button\" ).hover(\n",
       "        function() { $(this).addClass(\"ui-state-hover\");},\n",
       "        function() { $(this).removeClass(\"ui-state-hover\");}\n",
       "    );\n",
       "\n",
       "    var status_bar = $('<span class=\"mpl-message\"/>');\n",
       "    nav_element.append(status_bar);\n",
       "    this.message = status_bar[0];\n",
       "}\n",
       "\n",
       "mpl.figure.prototype.request_resize = function(x_pixels, y_pixels) {\n",
       "    // Request matplotlib to resize the figure. Matplotlib will then trigger a resize in the client,\n",
       "    // which will in turn request a refresh of the image.\n",
       "    this.send_message('resize', {'width': x_pixels, 'height': y_pixels});\n",
       "}\n",
       "\n",
       "mpl.figure.prototype.send_message = function(type, properties) {\n",
       "    properties['type'] = type;\n",
       "    properties['figure_id'] = this.id;\n",
       "    this.ws.send(JSON.stringify(properties));\n",
       "}\n",
       "\n",
       "mpl.figure.prototype.send_draw_message = function() {\n",
       "    if (!this.waiting) {\n",
       "        this.waiting = true;\n",
       "        this.ws.send(JSON.stringify({type: \"draw\", figure_id: this.id}));\n",
       "    }\n",
       "}\n",
       "\n",
       "\n",
       "mpl.figure.prototype.handle_save = function(fig, msg) {\n",
       "    var format_dropdown = fig.format_dropdown;\n",
       "    var format = format_dropdown.options[format_dropdown.selectedIndex].value;\n",
       "    fig.ondownload(fig, format);\n",
       "}\n",
       "\n",
       "\n",
       "mpl.figure.prototype.handle_resize = function(fig, msg) {\n",
       "    var size = msg['size'];\n",
       "    if (size[0] != fig.canvas.width || size[1] != fig.canvas.height) {\n",
       "        fig._resize_canvas(size[0], size[1]);\n",
       "        fig.send_message(\"refresh\", {});\n",
       "    };\n",
       "}\n",
       "\n",
       "mpl.figure.prototype.handle_rubberband = function(fig, msg) {\n",
       "    var x0 = msg['x0'] / mpl.ratio;\n",
       "    var y0 = (fig.canvas.height - msg['y0']) / mpl.ratio;\n",
       "    var x1 = msg['x1'] / mpl.ratio;\n",
       "    var y1 = (fig.canvas.height - msg['y1']) / mpl.ratio;\n",
       "    x0 = Math.floor(x0) + 0.5;\n",
       "    y0 = Math.floor(y0) + 0.5;\n",
       "    x1 = Math.floor(x1) + 0.5;\n",
       "    y1 = Math.floor(y1) + 0.5;\n",
       "    var min_x = Math.min(x0, x1);\n",
       "    var min_y = Math.min(y0, y1);\n",
       "    var width = Math.abs(x1 - x0);\n",
       "    var height = Math.abs(y1 - y0);\n",
       "\n",
       "    fig.rubberband_context.clearRect(\n",
       "        0, 0, fig.canvas.width, fig.canvas.height);\n",
       "\n",
       "    fig.rubberband_context.strokeRect(min_x, min_y, width, height);\n",
       "}\n",
       "\n",
       "mpl.figure.prototype.handle_figure_label = function(fig, msg) {\n",
       "    // Updates the figure title.\n",
       "    fig.header.textContent = msg['label'];\n",
       "}\n",
       "\n",
       "mpl.figure.prototype.handle_cursor = function(fig, msg) {\n",
       "    var cursor = msg['cursor'];\n",
       "    switch(cursor)\n",
       "    {\n",
       "    case 0:\n",
       "        cursor = 'pointer';\n",
       "        break;\n",
       "    case 1:\n",
       "        cursor = 'default';\n",
       "        break;\n",
       "    case 2:\n",
       "        cursor = 'crosshair';\n",
       "        break;\n",
       "    case 3:\n",
       "        cursor = 'move';\n",
       "        break;\n",
       "    }\n",
       "    fig.rubberband_canvas.style.cursor = cursor;\n",
       "}\n",
       "\n",
       "mpl.figure.prototype.handle_message = function(fig, msg) {\n",
       "    fig.message.textContent = msg['message'];\n",
       "}\n",
       "\n",
       "mpl.figure.prototype.handle_draw = function(fig, msg) {\n",
       "    // Request the server to send over a new figure.\n",
       "    fig.send_draw_message();\n",
       "}\n",
       "\n",
       "mpl.figure.prototype.handle_image_mode = function(fig, msg) {\n",
       "    fig.image_mode = msg['mode'];\n",
       "}\n",
       "\n",
       "mpl.figure.prototype.updated_canvas_event = function() {\n",
       "    // Called whenever the canvas gets updated.\n",
       "    this.send_message(\"ack\", {});\n",
       "}\n",
       "\n",
       "// A function to construct a web socket function for onmessage handling.\n",
       "// Called in the figure constructor.\n",
       "mpl.figure.prototype._make_on_message_function = function(fig) {\n",
       "    return function socket_on_message(evt) {\n",
       "        if (evt.data instanceof Blob) {\n",
       "            /* FIXME: We get \"Resource interpreted as Image but\n",
       "             * transferred with MIME type text/plain:\" errors on\n",
       "             * Chrome.  But how to set the MIME type?  It doesn't seem\n",
       "             * to be part of the websocket stream */\n",
       "            evt.data.type = \"image/png\";\n",
       "\n",
       "            /* Free the memory for the previous frames */\n",
       "            if (fig.imageObj.src) {\n",
       "                (window.URL || window.webkitURL).revokeObjectURL(\n",
       "                    fig.imageObj.src);\n",
       "            }\n",
       "\n",
       "            fig.imageObj.src = (window.URL || window.webkitURL).createObjectURL(\n",
       "                evt.data);\n",
       "            fig.updated_canvas_event();\n",
       "            fig.waiting = false;\n",
       "            return;\n",
       "        }\n",
       "        else if (typeof evt.data === 'string' && evt.data.slice(0, 21) == \"data:image/png;base64\") {\n",
       "            fig.imageObj.src = evt.data;\n",
       "            fig.updated_canvas_event();\n",
       "            fig.waiting = false;\n",
       "            return;\n",
       "        }\n",
       "\n",
       "        var msg = JSON.parse(evt.data);\n",
       "        var msg_type = msg['type'];\n",
       "\n",
       "        // Call the  \"handle_{type}\" callback, which takes\n",
       "        // the figure and JSON message as its only arguments.\n",
       "        try {\n",
       "            var callback = fig[\"handle_\" + msg_type];\n",
       "        } catch (e) {\n",
       "            console.log(\"No handler for the '\" + msg_type + \"' message type: \", msg);\n",
       "            return;\n",
       "        }\n",
       "\n",
       "        if (callback) {\n",
       "            try {\n",
       "                // console.log(\"Handling '\" + msg_type + \"' message: \", msg);\n",
       "                callback(fig, msg);\n",
       "            } catch (e) {\n",
       "                console.log(\"Exception inside the 'handler_\" + msg_type + \"' callback:\", e, e.stack, msg);\n",
       "            }\n",
       "        }\n",
       "    };\n",
       "}\n",
       "\n",
       "// from http://stackoverflow.com/questions/1114465/getting-mouse-location-in-canvas\n",
       "mpl.findpos = function(e) {\n",
       "    //this section is from http://www.quirksmode.org/js/events_properties.html\n",
       "    var targ;\n",
       "    if (!e)\n",
       "        e = window.event;\n",
       "    if (e.target)\n",
       "        targ = e.target;\n",
       "    else if (e.srcElement)\n",
       "        targ = e.srcElement;\n",
       "    if (targ.nodeType == 3) // defeat Safari bug\n",
       "        targ = targ.parentNode;\n",
       "\n",
       "    // jQuery normalizes the pageX and pageY\n",
       "    // pageX,Y are the mouse positions relative to the document\n",
       "    // offset() returns the position of the element relative to the document\n",
       "    var x = e.pageX - $(targ).offset().left;\n",
       "    var y = e.pageY - $(targ).offset().top;\n",
       "\n",
       "    return {\"x\": x, \"y\": y};\n",
       "};\n",
       "\n",
       "/*\n",
       " * return a copy of an object with only non-object keys\n",
       " * we need this to avoid circular references\n",
       " * http://stackoverflow.com/a/24161582/3208463\n",
       " */\n",
       "function simpleKeys (original) {\n",
       "  return Object.keys(original).reduce(function (obj, key) {\n",
       "    if (typeof original[key] !== 'object')\n",
       "        obj[key] = original[key]\n",
       "    return obj;\n",
       "  }, {});\n",
       "}\n",
       "\n",
       "mpl.figure.prototype.mouse_event = function(event, name) {\n",
       "    var canvas_pos = mpl.findpos(event)\n",
       "\n",
       "    if (name === 'button_press')\n",
       "    {\n",
       "        this.canvas.focus();\n",
       "        this.canvas_div.focus();\n",
       "    }\n",
       "\n",
       "    var x = canvas_pos.x * mpl.ratio;\n",
       "    var y = canvas_pos.y * mpl.ratio;\n",
       "\n",
       "    this.send_message(name, {x: x, y: y, button: event.button,\n",
       "                             step: event.step,\n",
       "                             guiEvent: simpleKeys(event)});\n",
       "\n",
       "    /* This prevents the web browser from automatically changing to\n",
       "     * the text insertion cursor when the button is pressed.  We want\n",
       "     * to control all of the cursor setting manually through the\n",
       "     * 'cursor' event from matplotlib */\n",
       "    event.preventDefault();\n",
       "    return false;\n",
       "}\n",
       "\n",
       "mpl.figure.prototype._key_event_extra = function(event, name) {\n",
       "    // Handle any extra behaviour associated with a key event\n",
       "}\n",
       "\n",
       "mpl.figure.prototype.key_event = function(event, name) {\n",
       "\n",
       "    // Prevent repeat events\n",
       "    if (name == 'key_press')\n",
       "    {\n",
       "        if (event.which === this._key)\n",
       "            return;\n",
       "        else\n",
       "            this._key = event.which;\n",
       "    }\n",
       "    if (name == 'key_release')\n",
       "        this._key = null;\n",
       "\n",
       "    var value = '';\n",
       "    if (event.ctrlKey && event.which != 17)\n",
       "        value += \"ctrl+\";\n",
       "    if (event.altKey && event.which != 18)\n",
       "        value += \"alt+\";\n",
       "    if (event.shiftKey && event.which != 16)\n",
       "        value += \"shift+\";\n",
       "\n",
       "    value += 'k';\n",
       "    value += event.which.toString();\n",
       "\n",
       "    this._key_event_extra(event, name);\n",
       "\n",
       "    this.send_message(name, {key: value,\n",
       "                             guiEvent: simpleKeys(event)});\n",
       "    return false;\n",
       "}\n",
       "\n",
       "mpl.figure.prototype.toolbar_button_onclick = function(name) {\n",
       "    if (name == 'download') {\n",
       "        this.handle_save(this, null);\n",
       "    } else {\n",
       "        this.send_message(\"toolbar_button\", {name: name});\n",
       "    }\n",
       "};\n",
       "\n",
       "mpl.figure.prototype.toolbar_button_onmouseover = function(tooltip) {\n",
       "    this.message.textContent = tooltip;\n",
       "};\n",
       "mpl.toolbar_items = [[\"Home\", \"Reset original view\", \"fa fa-home icon-home\", \"home\"], [\"Back\", \"Back to previous view\", \"fa fa-arrow-left icon-arrow-left\", \"back\"], [\"Forward\", \"Forward to next view\", \"fa fa-arrow-right icon-arrow-right\", \"forward\"], [\"\", \"\", \"\", \"\"], [\"Pan\", \"Pan axes with left mouse, zoom with right\", \"fa fa-arrows icon-move\", \"pan\"], [\"Zoom\", \"Zoom to rectangle\", \"fa fa-square-o icon-check-empty\", \"zoom\"], [\"\", \"\", \"\", \"\"], [\"Download\", \"Download plot\", \"fa fa-floppy-o icon-save\", \"download\"]];\n",
       "\n",
       "mpl.extensions = [\"eps\", \"pdf\", \"png\", \"ps\", \"raw\", \"svg\"];\n",
       "\n",
       "mpl.default_extension = \"png\";var comm_websocket_adapter = function(comm) {\n",
       "    // Create a \"websocket\"-like object which calls the given IPython comm\n",
       "    // object with the appropriate methods. Currently this is a non binary\n",
       "    // socket, so there is still some room for performance tuning.\n",
       "    var ws = {};\n",
       "\n",
       "    ws.close = function() {\n",
       "        comm.close()\n",
       "    };\n",
       "    ws.send = function(m) {\n",
       "        //console.log('sending', m);\n",
       "        comm.send(m);\n",
       "    };\n",
       "    // Register the callback with on_msg.\n",
       "    comm.on_msg(function(msg) {\n",
       "        //console.log('receiving', msg['content']['data'], msg);\n",
       "        // Pass the mpl event to the overridden (by mpl) onmessage function.\n",
       "        ws.onmessage(msg['content']['data'])\n",
       "    });\n",
       "    return ws;\n",
       "}\n",
       "\n",
       "mpl.mpl_figure_comm = function(comm, msg) {\n",
       "    // This is the function which gets called when the mpl process\n",
       "    // starts-up an IPython Comm through the \"matplotlib\" channel.\n",
       "\n",
       "    var id = msg.content.data.id;\n",
       "    // Get hold of the div created by the display call when the Comm\n",
       "    // socket was opened in Python.\n",
       "    var element = $(\"#\" + id);\n",
       "    var ws_proxy = comm_websocket_adapter(comm)\n",
       "\n",
       "    function ondownload(figure, format) {\n",
       "        window.open(figure.imageObj.src);\n",
       "    }\n",
       "\n",
       "    var fig = new mpl.figure(id, ws_proxy,\n",
       "                           ondownload,\n",
       "                           element.get(0));\n",
       "\n",
       "    // Call onopen now - mpl needs it, as it is assuming we've passed it a real\n",
       "    // web socket which is closed, not our websocket->open comm proxy.\n",
       "    ws_proxy.onopen();\n",
       "\n",
       "    fig.parent_element = element.get(0);\n",
       "    fig.cell_info = mpl.find_output_cell(\"<div id='\" + id + \"'></div>\");\n",
       "    if (!fig.cell_info) {\n",
       "        console.error(\"Failed to find cell for figure\", id, fig);\n",
       "        return;\n",
       "    }\n",
       "\n",
       "    var output_index = fig.cell_info[2]\n",
       "    var cell = fig.cell_info[0];\n",
       "\n",
       "};\n",
       "\n",
       "mpl.figure.prototype.handle_close = function(fig, msg) {\n",
       "    var width = fig.canvas.width/mpl.ratio\n",
       "    fig.root.unbind('remove')\n",
       "\n",
       "    // Update the output cell to use the data from the current canvas.\n",
       "    fig.push_to_output();\n",
       "    var dataURL = fig.canvas.toDataURL();\n",
       "    // Re-enable the keyboard manager in IPython - without this line, in FF,\n",
       "    // the notebook keyboard shortcuts fail.\n",
       "    IPython.keyboard_manager.enable()\n",
       "    $(fig.parent_element).html('<img src=\"' + dataURL + '\" width=\"' + width + '\">');\n",
       "    fig.close_ws(fig, msg);\n",
       "}\n",
       "\n",
       "mpl.figure.prototype.close_ws = function(fig, msg){\n",
       "    fig.send_message('closing', msg);\n",
       "    // fig.ws.close()\n",
       "}\n",
       "\n",
       "mpl.figure.prototype.push_to_output = function(remove_interactive) {\n",
       "    // Turn the data on the canvas into data in the output cell.\n",
       "    var width = this.canvas.width/mpl.ratio\n",
       "    var dataURL = this.canvas.toDataURL();\n",
       "    this.cell_info[1]['text/html'] = '<img src=\"' + dataURL + '\" width=\"' + width + '\">';\n",
       "}\n",
       "\n",
       "mpl.figure.prototype.updated_canvas_event = function() {\n",
       "    // Tell IPython that the notebook contents must change.\n",
       "    IPython.notebook.set_dirty(true);\n",
       "    this.send_message(\"ack\", {});\n",
       "    var fig = this;\n",
       "    // Wait a second, then push the new image to the DOM so\n",
       "    // that it is saved nicely (might be nice to debounce this).\n",
       "    setTimeout(function () { fig.push_to_output() }, 1000);\n",
       "}\n",
       "\n",
       "mpl.figure.prototype._init_toolbar = function() {\n",
       "    var fig = this;\n",
       "\n",
       "    var nav_element = $('<div/>')\n",
       "    nav_element.attr('style', 'width: 100%');\n",
       "    this.root.append(nav_element);\n",
       "\n",
       "    // Define a callback function for later on.\n",
       "    function toolbar_event(event) {\n",
       "        return fig.toolbar_button_onclick(event['data']);\n",
       "    }\n",
       "    function toolbar_mouse_event(event) {\n",
       "        return fig.toolbar_button_onmouseover(event['data']);\n",
       "    }\n",
       "\n",
       "    for(var toolbar_ind in mpl.toolbar_items){\n",
       "        var name = mpl.toolbar_items[toolbar_ind][0];\n",
       "        var tooltip = mpl.toolbar_items[toolbar_ind][1];\n",
       "        var image = mpl.toolbar_items[toolbar_ind][2];\n",
       "        var method_name = mpl.toolbar_items[toolbar_ind][3];\n",
       "\n",
       "        if (!name) { continue; };\n",
       "\n",
       "        var button = $('<button class=\"btn btn-default\" href=\"#\" title=\"' + name + '\"><i class=\"fa ' + image + ' fa-lg\"></i></button>');\n",
       "        button.click(method_name, toolbar_event);\n",
       "        button.mouseover(tooltip, toolbar_mouse_event);\n",
       "        nav_element.append(button);\n",
       "    }\n",
       "\n",
       "    // Add the status bar.\n",
       "    var status_bar = $('<span class=\"mpl-message\" style=\"text-align:right; float: right;\"/>');\n",
       "    nav_element.append(status_bar);\n",
       "    this.message = status_bar[0];\n",
       "\n",
       "    // Add the close button to the window.\n",
       "    var buttongrp = $('<div class=\"btn-group inline pull-right\"></div>');\n",
       "    var button = $('<button class=\"btn btn-mini btn-primary\" href=\"#\" title=\"Stop Interaction\"><i class=\"fa fa-power-off icon-remove icon-large\"></i></button>');\n",
       "    button.click(function (evt) { fig.handle_close(fig, {}); } );\n",
       "    button.mouseover('Stop Interaction', toolbar_mouse_event);\n",
       "    buttongrp.append(button);\n",
       "    var titlebar = this.root.find($('.ui-dialog-titlebar'));\n",
       "    titlebar.prepend(buttongrp);\n",
       "}\n",
       "\n",
       "mpl.figure.prototype._root_extra_style = function(el){\n",
       "    var fig = this\n",
       "    el.on(\"remove\", function(){\n",
       "\tfig.close_ws(fig, {});\n",
       "    });\n",
       "}\n",
       "\n",
       "mpl.figure.prototype._canvas_extra_style = function(el){\n",
       "    // this is important to make the div 'focusable\n",
       "    el.attr('tabindex', 0)\n",
       "    // reach out to IPython and tell the keyboard manager to turn it's self\n",
       "    // off when our div gets focus\n",
       "\n",
       "    // location in version 3\n",
       "    if (IPython.notebook.keyboard_manager) {\n",
       "        IPython.notebook.keyboard_manager.register_events(el);\n",
       "    }\n",
       "    else {\n",
       "        // location in version 2\n",
       "        IPython.keyboard_manager.register_events(el);\n",
       "    }\n",
       "\n",
       "}\n",
       "\n",
       "mpl.figure.prototype._key_event_extra = function(event, name) {\n",
       "    var manager = IPython.notebook.keyboard_manager;\n",
       "    if (!manager)\n",
       "        manager = IPython.keyboard_manager;\n",
       "\n",
       "    // Check for shift+enter\n",
       "    if (event.shiftKey && event.which == 13) {\n",
       "        this.canvas_div.blur();\n",
       "        event.shiftKey = false;\n",
       "        // Send a \"J\" for go to next cell\n",
       "        event.which = 74;\n",
       "        event.keyCode = 74;\n",
       "        manager.command_mode();\n",
       "        manager.handle_keydown(event);\n",
       "    }\n",
       "}\n",
       "\n",
       "mpl.figure.prototype.handle_save = function(fig, msg) {\n",
       "    fig.ondownload(fig, null);\n",
       "}\n",
       "\n",
       "\n",
       "mpl.find_output_cell = function(html_output) {\n",
       "    // Return the cell and output element which can be found *uniquely* in the notebook.\n",
       "    // Note - this is a bit hacky, but it is done because the \"notebook_saving.Notebook\"\n",
       "    // IPython event is triggered only after the cells have been serialised, which for\n",
       "    // our purposes (turning an active figure into a static one), is too late.\n",
       "    var cells = IPython.notebook.get_cells();\n",
       "    var ncells = cells.length;\n",
       "    for (var i=0; i<ncells; i++) {\n",
       "        var cell = cells[i];\n",
       "        if (cell.cell_type === 'code'){\n",
       "            for (var j=0; j<cell.output_area.outputs.length; j++) {\n",
       "                var data = cell.output_area.outputs[j];\n",
       "                if (data.data) {\n",
       "                    // IPython >= 3 moved mimebundle to data attribute of output\n",
       "                    data = data.data;\n",
       "                }\n",
       "                if (data['text/html'] == html_output) {\n",
       "                    return [cell, data, j];\n",
       "                }\n",
       "            }\n",
       "        }\n",
       "    }\n",
       "}\n",
       "\n",
       "// Register the function which deals with the matplotlib target/channel.\n",
       "// The kernel may be null if the page has been refreshed.\n",
       "if (IPython.notebook.kernel != null) {\n",
       "    IPython.notebook.kernel.comm_manager.register_target('matplotlib', mpl.mpl_figure_comm);\n",
       "}\n"
      ],
      "text/plain": [
       "<IPython.core.display.Javascript object>"
      ]
     },
     "metadata": {},
     "output_type": "display_data"
    },
    {
     "data": {
      "text/html": [
       "<img src=\"data:image/png;base64,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\" width=\"640\">"
      ],
      "text/plain": [
       "<IPython.core.display.HTML object>"
      ]
     },
     "metadata": {},
     "output_type": "display_data"
    },
    {
     "data": {
      "text/plain": [
       "<matplotlib.legend.Legend at 0x7f3254157400>"
      ]
     },
     "execution_count": 24,
     "metadata": {},
     "output_type": "execute_result"
    }
   ],
   "source": [
    "N = 1000\n",
    "x=  np.linspace(0,5,N)\n",
    "y = 5+np.exp(x) + np.random.randn(N)*1\n",
    "\n",
    "\n",
    "def exp(x,a,b):\n",
    "    return np.exp(a*x+b)\n",
    "\n",
    "linfit =np.polyfit(x,np.log(y),1)\n",
    "linwfit=np.polyfit(x,np.log(y),1,w=y)\n",
    "expfit=sc.optimize.curve_fit(exp,x,y)\n",
    "print(linfit)\n",
    "print(expfit[0])\n",
    "print(linwfit)\n",
    "\n",
    "plt.figure()\n",
    "plt.plot(x,y,label='signal')\n",
    "# plt.plot(x,np.log(y),label='logsignal')\n",
    "plt.plot(x,np.exp(x*linfit[0]+linfit[1]),lw=3,label='linfit')\n",
    "plt.plot(x,np.exp(x*linwfit[0]+linwfit[1]),'--',lw=3,label='linfit wighted')\n",
    "plt.plot(x,exp(x,expfit[0][0],expfit[0][1]),'-.',lw=3,label='expfit')\n",
    "plt.legend(loc=0)"
   ]
  },
  {
   "cell_type": "code",
   "execution_count": null,
   "metadata": {
    "collapsed": true
   },
   "outputs": [],
   "source": []
  },
  {
   "cell_type": "code",
   "execution_count": 32,
   "metadata": {
    "collapsed": false
   },
   "outputs": [
    {
     "name": "stdout",
     "output_type": "stream",
     "text": [
      "[0.01932304 0.01063787 0.00350182]\n",
      "[0.03162278 0.01       0.00316228]\n"
     ]
    }
   ],
   "source": [
    "NPs = [1e3,1e4,1e5]\n",
    "\n",
    "mean = np.zeros((3,10))\n",
    "for i in range(3):\n",
    "    for j in range(10):\n",
    "        mean[i,j] = np.mean(np.random.randn(int(NPs[i])))\n",
    "\n",
    "print(np.std(mean,axis=1))\n",
    "print(1/np.sqrt(NPs))"
   ]
  },
  {
   "cell_type": "markdown",
   "metadata": {},
   "source": [
    "# Numpy"
   ]
  },
  {
   "cell_type": "code",
   "execution_count": null,
   "metadata": {
    "collapsed": true
   },
   "outputs": [],
   "source": []
  },
  {
   "cell_type": "code",
   "execution_count": 279,
   "metadata": {
    "collapsed": false
   },
   "outputs": [
    {
     "data": {
      "text/plain": [
       "array([[0.        , 0.5       , 0.66666667],\n",
       "       [3.        , 2.        , 1.66666667],\n",
       "       [6.        , 3.5       , 2.66666667],\n",
       "       [9.        , 5.        , 3.66666667]])"
      ]
     },
     "execution_count": 279,
     "metadata": {},
     "output_type": "execute_result"
    }
   ],
   "source": [
    "N =4\n",
    "n =3\n",
    "a= np.arange(n*N).reshape((N,n))\n",
    "b = np.linspace(1,n,n)\n",
    "\n",
    "np.divide(a,b)\n"
   ]
  },
  {
   "cell_type": "code",
   "execution_count": 314,
   "metadata": {
    "collapsed": false
   },
   "outputs": [
    {
     "name": "stdout",
     "output_type": "stream",
     "text": [
      "[[ 0  1  2  3  4  5]\n",
      " [ 6  7  8  9 10 11]\n",
      " [12 13 14 15 16 17]\n",
      " [18 19 20 21 22 23]]\n",
      "[2 2 2 2 2 2]\n",
      "[[ 0  2  4  6  8 10]\n",
      " [12 14 16 18 20 22]\n",
      " [24 26 28 30 32 34]\n",
      " [36 38 40 42 44 46]]\n",
      "[27. 30. 33. 36. 39. 42.]\n",
      "[ 12.5  42.5  72.5 102.5]\n",
      "[36 40 44 48 52 56]\n",
      "[ 15  51  87 123]\n"
     ]
    }
   ],
   "source": [
    "Y = np.arange(24).reshape(4,6)\n",
    "y = np.arange(5)/5\n",
    "x = np.arange(7)*2\n",
    "dx = np.diff(x)\n",
    "print(Y)\n",
    "print(dx)\n",
    "print(Y*dx)\n",
    "print(np.trapz(Y,axis=0))\n",
    "print(np.trapz(Y,axis=1))\n",
    "print(np.sum(Y,axis=0))\n",
    "print(np.sum(Y,axis=1))"
   ]
  },
  {
   "cell_type": "code",
   "execution_count": 280,
   "metadata": {
    "collapsed": false
   },
   "outputs": [
    {
     "name": "stderr",
     "output_type": "stream",
     "text": [
      "/home/sfuruset/miniconda3/lib/python3.5/site-packages/ipykernel_launcher.py:3: RuntimeWarning: divide by zero encountered in true_divide\n",
      "  This is separate from the ipykernel package so we can avoid doing imports until\n",
      "/home/sfuruset/miniconda3/lib/python3.5/site-packages/ipykernel_launcher.py:3: RuntimeWarning: invalid value encountered in true_divide\n",
      "  This is separate from the ipykernel package so we can avoid doing imports until\n"
     ]
    },
    {
     "data": {
      "text/plain": [
       "array([[ nan,  1. ,  1. ],\n",
       "       [ inf,  4. ,  2.5],\n",
       "       [ inf,  7. ,  4. ],\n",
       "       [ inf, 10. ,  5.5]])"
      ]
     },
     "execution_count": 280,
     "metadata": {},
     "output_type": "execute_result"
    }
   ],
   "source": [
    "x1 = np.arange(12.0).reshape((4, 3))\n",
    "x2 = np.arange(3.0)\n",
    "np.divide(x1, x2)\n"
   ]
  },
  {
   "cell_type": "code",
   "execution_count": 286,
   "metadata": {
    "collapsed": false
   },
   "outputs": [
    {
     "name": "stdout",
     "output_type": "stream",
     "text": [
      "[[1 2]\n",
      " [3 4]]\n",
      "[1 2]\n",
      "[1 2 3 4]\n",
      "(2, 5)\n",
      "[[0 0 0 0 0]\n",
      " [1 1 1 1 1]]\n",
      "[[1 1 1 1]\n",
      " [1 1 1 1]]\n"
     ]
    }
   ],
   "source": [
    "x = np.array([[1,2],[3,4]])\n",
    "print(x)\n",
    "print(x[0])\n",
    "print(x.reshape(4,))\n",
    "\n",
    "xx = np.arange(5)\n",
    "yy = np.arange(2)\n",
    "X,Y = np.meshgrid(xx,yy)\n",
    "# print(X.reshape(10,))\n",
    "# print(Y.reshape(10,))\n",
    "print(X.shape)\n",
    "print(Y)\n",
    "print(np.diff(X,axis=1))"
   ]
  },
  {
   "cell_type": "code",
   "execution_count": null,
   "metadata": {
    "collapsed": true
   },
   "outputs": [],
   "source": [
    "x = np.linspace(0,5,10)\n",
    "def integrand()\n",
    "sc.integrate.quad("
   ]
  },
  {
   "cell_type": "code",
   "execution_count": 335,
   "metadata": {
    "collapsed": false
   },
   "outputs": [
    {
     "name": "stderr",
     "output_type": "stream",
     "text": [
      "/home/sfuruset/miniconda3/lib/python3.5/site-packages/ipykernel_launcher.py:2: RuntimeWarning: divide by zero encountered in true_divide\n",
      "  \n"
     ]
    },
    {
     "ename": "TypeError",
     "evalue": "only integer scalar arrays can be converted to a scalar index",
     "output_type": "error",
     "traceback": [
      "\u001b[0;31m--------------------------------------------------------------------\u001b[0m",
      "\u001b[0;31mTypeError\u001b[0m                          Traceback (most recent call last)",
      "\u001b[0;32m<ipython-input-335-4596e7004954>\u001b[0m in \u001b[0;36m<module>\u001b[0;34m()\u001b[0m\n\u001b[1;32m      1\u001b[0m \u001b[0mx\u001b[0m\u001b[0;34m=\u001b[0m \u001b[0mnp\u001b[0m\u001b[0;34m.\u001b[0m\u001b[0marange\u001b[0m\u001b[0;34m(\u001b[0m\u001b[0;36m10\u001b[0m\u001b[0;34m)\u001b[0m\u001b[0;34m\u001b[0m\u001b[0m\n\u001b[0;32m----> 2\u001b[0;31m \u001b[0my\u001b[0m \u001b[0;34m=\u001b[0m \u001b[0;34m[\u001b[0m\u001b[0;36m1\u001b[0m\u001b[0;34m,\u001b[0m\u001b[0;36m1\u001b[0m\u001b[0;34m/\u001b[0m\u001b[0mx\u001b[0m\u001b[0;34m]\u001b[0m\u001b[0;34m[\u001b[0m\u001b[0mx\u001b[0m\u001b[0;34m>\u001b[0m\u001b[0;36m4\u001b[0m\u001b[0;34m]\u001b[0m\u001b[0;34m\u001b[0m\u001b[0m\n\u001b[0m\u001b[1;32m      3\u001b[0m \u001b[0mprint\u001b[0m\u001b[0;34m(\u001b[0m\u001b[0my\u001b[0m\u001b[0;34m)\u001b[0m\u001b[0;34m\u001b[0m\u001b[0m\n",
      "\u001b[0;31mTypeError\u001b[0m: only integer scalar arrays can be converted to a scalar index"
     ]
    }
   ],
   "source": [
    "x= np.arange(10)\n",
    "y = [1,1/x][x>4]\n",
    "print(y)"
   ]
  },
  {
   "cell_type": "code",
   "execution_count": 53,
   "metadata": {
    "collapsed": false
   },
   "outputs": [
    {
     "name": "stdout",
     "output_type": "stream",
     "text": [
      "[0 1 2 3] \n",
      " [[0]\n",
      " [1]\n",
      " [2]\n",
      " [3]]\n",
      "[0 1 2 3]\n"
     ]
    }
   ],
   "source": [
    "x = np.arange(4)\n",
    "y = x[:,np.newaxis]\n",
    "\n",
    "print(x,'\\n',y)\n",
    "print(y[:,0])"
   ]
  },
  {
   "cell_type": "code",
   "execution_count": 209,
   "metadata": {
    "collapsed": false
   },
   "outputs": [
    {
     "name": "stdout",
     "output_type": "stream",
     "text": [
      "[[ 0  1  2  3]\n",
      " [ 4  5  6  7]\n",
      " [ 8  9 10 11]] [ 0  1  2  3  4  5  6  7  8  9 10 11] [[2]\n",
      " [3]]\n"
     ]
    }
   ],
   "source": [
    "x= np.arange(12).reshape(3,4)\n",
    "xf=x.flatten()\n",
    "x.flatten()\n",
    "xc = xf[:,np.newaxis]\n",
    "print(x,xf,xc[2:4])"
   ]
  },
  {
   "cell_type": "markdown",
   "metadata": {},
   "source": [
    "## Multiprocessing"
   ]
  },
  {
   "cell_type": "code",
   "execution_count": 371,
   "metadata": {
    "collapsed": true
   },
   "outputs": [],
   "source": [
    "import multiprocessing as mp\n"
   ]
  },
  {
   "cell_type": "code",
   "execution_count": 419,
   "metadata": {
    "collapsed": false
   },
   "outputs": [
    {
     "name": "stdout",
     "output_type": "stream",
     "text": [
      "7 processes\n",
      "20\n",
      "0 [0]\n",
      "1 [1]\n",
      "2 [4]\n",
      "3 [9]\n",
      "4 [36]\n",
      "5 [16]\n",
      "6 [49]\n",
      "7 [100]\n",
      "8 [81]\n",
      "9 [25]\n",
      "10 [196]\n",
      "11 [144]\n",
      "12 [169]\n",
      "13 [225]\n",
      "14 [256]\n",
      "15 [121]\n",
      "16 [324]\n",
      "17 [289]\n",
      "18 [361]\n",
      "19 [64]\n",
      "[array([1., 0., 0.]), array([4., 0., 0.])]\n",
      "[[0. 0. 0.]\n",
      " [1. 0. 0.]\n",
      " [4. 0. 0.]\n",
      " [9. 0. 0.]]\n"
     ]
    }
   ],
   "source": [
    "\n",
    "\n",
    "N = 20   \n",
    "\n",
    "#Paralellisation preperation\n",
    "nProcs = min(N,mp.cpu_count()-1)\n",
    "print(\"%d processes\"%nProcs)\n",
    "pool = mp.Pool(processes = nProcs)\n",
    "procs = []\n",
    "results = []\n",
    "    \n",
    "\n",
    "def collect_result(res):\n",
    "    results.append(res)\n",
    "\n",
    "def worker(args):\n",
    "    [rank] = args\n",
    "    x = rank**2\n",
    "    return [x]\n",
    "\n",
    " \n",
    "    \n",
    "for i in range(N):\n",
    "    # Parallellisation\n",
    "    args = [i]\n",
    "    p = pool.apply_async(worker, args = (args,),callback = collect_result)\n",
    "    procs.append(p)\n",
    "    \n",
    "###################\n",
    "# Join forces again\n",
    "pool.close()    \n",
    "pool.join()\n",
    "\n",
    "\n",
    "print(len(results))\n",
    "\n",
    "for j in range(N):\n",
    "    print(j,results[j])\n",
    "    \n",
    "    \n",
    "    \n",
    "    \n",
    "    \n",
    "def worker2(rank):\n",
    "    x=rank**2\n",
    "    y= np.zeros(3)\n",
    "    y[0]=x\n",
    "    return y\n",
    "N = 20\n",
    "nProcs = min(N,mp.cpu_count()-1)\n",
    "pool = mp.Pool(processes = nProcs)\n",
    "\n",
    "args = [1,2]\n",
    "X = pool.map(worker2,args)\n",
    "print(X)\n",
    "# pool.close()\n",
    "#     i,res,res2 = results[j]\n",
    "\n",
    "# pool = mp.Pool(processes=4)\n",
    "res12 = pool.map(worker2, range(4))\n",
    "print(np.array(res12))\n",
    "\n",
    "pool.close()\n",
    "pool.join()\n",
    "# def parallelize(worker,output,Ntasks):\n",
    "    \n",
    "\n",
    "#     #Paralellisation preperation\n",
    "#     nProcs = min(np.size(Ntasks),mp.cpu_count()-1)\n",
    "#     pool = mp.Pool(processes = nProcs)\n",
    "#     procs  = []\n",
    "#     results= []\n",
    "\n",
    "\n",
    "#     def collect_result(res):\n",
    "#         results.append(res)"
   ]
  },
  {
   "cell_type": "markdown",
   "metadata": {},
   "source": [
    "## exponential distribution"
   ]
  },
  {
   "cell_type": "code",
   "execution_count": 334,
   "metadata": {
    "collapsed": false
   },
   "outputs": [
    {
     "name": "stdout",
     "output_type": "stream",
     "text": [
      "0.8667793623620699\n",
      "0.9994469156298522\n"
     ]
    },
    {
     "data": {
      "image/png": "[encoded data removed]",
      "text/plain": [
       "<Figure size 432x288 with 1 Axes>"
      ]
     },
     "metadata": {
      "needs_background": "light"
     },
     "output_type": "display_data"
    }
   ],
   "source": [
    "N=5\n",
    "x= np.linspace(0,30,N)\n",
    "xc = (x[1:]+x[:-1])/2\n",
    "sig=2\n",
    "psi0 = 1/sig**2*np.exp(-xc/sig**2)\n",
    "psi1 = (np.exp(-x[:-1]/sig**2)-np.exp(-x[1:]/sig**2))/np.diff(x)\n",
    "plt.figure()\n",
    "plt.plot(xc,psi0)\n",
    "plt.plot(xc,psi1)\n",
    "print(np.sum(psi0*np.diff(x)))\n",
    "print(np.sum(psi1*np.diff(x)))"
   ]
  },
  {
   "cell_type": "markdown",
   "metadata": {},
   "source": [
    "# Test chi2 distribution"
   ]
  },
  {
   "cell_type": "code",
   "execution_count": 70,
   "metadata": {
    "collapsed": false
   },
   "outputs": [
    {
     "data": {
      "text/plain": [
       "[<matplotlib.lines.Line2D at 0x7fec15fcca58>]"
      ]
     },
     "execution_count": 70,
     "metadata": {},
     "output_type": "execute_result"
    },
    {
     "data": {
      "image/png": "[encoded data removed]",
      "text/plain": [
       "<matplotlib.figure.Figure at 0x7fec15c53630>"
      ]
     },
     "metadata": {},
     "output_type": "display_data"
    }
   ],
   "source": [
    "x= np.linspace(0,20,100)\n",
    "xi2 = st.chi2.pdf(x,6)\n",
    "\n",
    "plt.figure()\n",
    "plt.semilogy(x,xi2)\n"
   ]
  },
  {
   "cell_type": "code",
   "execution_count": 71,
   "metadata": {
    "collapsed": false
   },
   "outputs": [
    {
     "data": {
      "image/png": "[encoded data removed]",
      "text/plain": [
       "<matplotlib.figure.Figure at 0x7fec15fe6358>"
      ]
     },
     "metadata": {},
     "output_type": "display_data"
    }
   ],
   "source": [
    "N = int(1e4)\n",
    "y = np.random.randn(N)\n",
    "x = np.random.randn(N)\n",
    "j = 0.5*(x**2 + y**2)\n",
    "\n",
    "plt.figure()\n",
    "plt.hist(j,bins=1000);"
   ]
  },
  {
   "cell_type": "code",
   "execution_count": 73,
   "metadata": {
    "collapsed": false
   },
   "outputs": [
    {
     "name": "stdout",
     "output_type": "stream",
     "text": [
      "(5, 10)\n"
     ]
    }
   ],
   "source": [
    "a  = np.arange(10)\n",
    "aa = []\n",
    "\n",
    "for i in range(5):\n",
    "    aa += [a+i]\n",
    "    \n",
    "aa = np.array(aa)\n",
    "print(np.shape(aa))\n",
    "dj = np.polyfit(np.arange(5),aa,1)[0]"
   ]
  },
  {
   "cell_type": "code",
   "execution_count": 74,
   "metadata": {
    "collapsed": false
   },
   "outputs": [
    {
     "data": {
      "text/plain": [
       "array([ 1.,  1.,  1.,  1.,  1.,  1.,  1.,  1.,  1.,  1.])"
      ]
     },
     "execution_count": 74,
     "metadata": {},
     "output_type": "execute_result"
    }
   ],
   "source": [
    "dj"
   ]
  },
  {
   "cell_type": "code",
   "execution_count": 97,
   "metadata": {
    "collapsed": false
   },
   "outputs": [
    {
     "name": "stdout",
     "output_type": "stream",
     "text": [
      "0.6666666666666666\n",
      "0.57735026919\n"
     ]
    }
   ],
   "source": [
    "D = 1\n",
    "sig = D/np.sqrt(3)\n",
    "var = D**3/3*2 /D\n",
    "print(var)\n",
    "sig = D/np.sqrt(3)\n",
    "print(sig)"
   ]
  },
  {
   "cell_type": "code",
   "execution_count": 101,
   "metadata": {
    "collapsed": false
   },
   "outputs": [
    {
     "data": {
      "text/plain": [
       "[<matplotlib.lines.Line2D at 0x7fec15b51748>]"
      ]
     },
     "execution_count": 101,
     "metadata": {},
     "output_type": "execute_result"
    },
    {
     "data": {
      "image/png": "[encoded data removed]",
      "text/plain": [
       "<matplotlib.figure.Figure at 0x7fec15b515c0>"
      ]
     },
     "metadata": {},
     "output_type": "display_data"
    }
   ],
   "source": [
    "x = np.linspace(0.1,10,100)\n",
    "f1 = 1/(1+x+np.sqrt(x*(1+x)))\n",
    "f2 = 1-1/(np.sqrt(1+1/x))\n",
    "plt.figure()\n",
    "plt.plot(x,f1,'r')\n",
    "plt.plot(x,f2,'b--')"
   ]
  },
  {
   "cell_type": "markdown",
   "metadata": {
    "collapsed": true
   },
   "source": [
    "# 2D histogram"
   ]
  },
  {
   "cell_type": "code",
   "execution_count": 232,
   "metadata": {
    "collapsed": false
   },
   "outputs": [],
   "source": [
    "N = int(4e6)\n",
    "a = (np.random.randn(N))**2\n",
    "b = np.random.randn(N)+0.1*a**2\n",
    "nbin = 50\n",
    "xedge = np.linspace(0,np.max(a),nbin+1)\n",
    "ns,xs = np.histogram(a,bins=xedge)\n",
    "\n",
    "def centerit(x):\n",
    "    return x[1:]-np.diff(x[:2])[0]*0.5"
   ]
  },
  {
   "cell_type": "code",
   "execution_count": 237,
   "metadata": {
    "collapsed": false
   },
   "outputs": [
    {
     "name": "stdout",
     "output_type": "stream",
     "text": [
      "10 loops, best of 3: 457 ms per loop\n"
     ]
    }
   ],
   "source": [
    "%%timeit -n 10\n",
    "\n",
    "H,xedges,yedges = np.histogram2d(a,b,nbin,range=[[0,np.max(a)],[-np.max(b),np.max(b)]],normed=False);\n",
    "H = H.transpose()\n",
    "X,Y = np.meshgrid(xedges, yedges);\n",
    "ind = np.sum(H,axis=0)>0\n",
    "avg = np.average(Y[1:,1:][:,ind],weights=H[:,ind],axis =0)-np.diff(yedges)[0]*0.5\n"
   ]
  },
  {
   "cell_type": "code",
   "execution_count": 238,
   "metadata": {
    "collapsed": false
   },
   "outputs": [
    {
     "name": "stderr",
     "output_type": "stream",
     "text": [
      "/home/sfuruset/miniconda3/lib/python3.5/site-packages/numpy/core/_methods.py:59: RuntimeWarning: Mean of empty slice.\n",
      "  warnings.warn(\"Mean of empty slice.\", RuntimeWarning)\n",
      "/home/sfuruset/miniconda3/lib/python3.5/site-packages/numpy/core/_methods.py:70: RuntimeWarning: invalid value encountered in double_scalars\n",
      "  ret = ret.dtype.type(ret / rcount)\n"
     ]
    },
    {
     "name": "stdout",
     "output_type": "stream",
     "text": [
      "10 loops, best of 3: 948 ms per loop\n"
     ]
    }
   ],
   "source": [
    "%%timeit -n 10\n",
    "\n",
    "xc = centerit(xedge)\n",
    "avg2 = np.zeros_like(xc)\n",
    "ns = np.zeros_like(xc)\n",
    "for i,a1 in enumerate(xedge[:-1]):\n",
    "    a2 = xedge[i+1]\n",
    "    ind2 = np.logical_and(a>=a1,a<a2)\n",
    "#     if np.any(ind2):\n",
    "    avg2[i] = np.mean(b[ind2])\n",
    "#     else:\n",
    "    ns[i] = np.sum(ind2)\n",
    "#         avg2[i] =np.nan\n",
    "\n",
    "# print(xc.shape,ns.shape)\n",
    "# print(avg2)\n",
    "# avg2 = avg2[ns>0]\n",
    "# xc = xc[ns>0]"
   ]
  },
  {
   "cell_type": "code",
   "execution_count": 240,
   "metadata": {
    "collapsed": false
   },
   "outputs": [
    {
     "name": "stdout",
     "output_type": "stream",
     "text": [
      "10 loops, best of 3: 372 ms per loop\n"
     ]
    }
   ],
   "source": [
    "%%timeit -n 10\n",
    "ys,xs = np.histogram(a,bins=xedge,weights=b)\n",
    "# ns,xs = np.histogram(a,bins=xedge)\n",
    "xs = centerit(xs)\n",
    "# ys[ns==0]=np.nan\n",
    "ys=ys[ns>0]/ns[[ns>0]]\n",
    "xs = xs[ns>0]\n",
    "\n",
    "# print(xs.shape,ys.shape)\n",
    "# print(ns)"
   ]
  },
  {
   "cell_type": "code",
   "execution_count": 236,
   "metadata": {
    "collapsed": false
   },
   "outputs": [
    {
     "data": {
      "text/plain": [
       "(-1, 40)"
      ]
     },
     "execution_count": 236,
     "metadata": {},
     "output_type": "execute_result"
    },
    {
     "data": {
      "image/png": "[encoded data removed]",
      "text/plain": [
       "<matplotlib.figure.Figure at 0x7f6c616e8898>"
      ]
     },
     "metadata": {},
     "output_type": "display_data"
    }
   ],
   "source": [
    "fig = plt.figure()\n",
    "ax1 = fig.add_subplot(111)\n",
    "# pcm=plt.pcolor(X,Y,H,norm =LogNorm(vmin=1,vmax=10),cmap='rainbow');\n",
    "plt.colorbar(pcm, ax=ax1, extend='max')\n",
    "xcenter = xedges[1:]-np.diff(xedges)[0]*0.5\n",
    "ycenter = yedges[1:]-np.diff(yedges)[0]*0.5\n",
    "\n",
    "plt.plot(xcenter[ind],avg,'r-3')\n",
    "plt.plot(xc,avg2,'b-1')\n",
    "plt.plot(xs,ys,'g-2')\n",
    "plt.ylim(-1,40)"
   ]
  },
  {
   "cell_type": "code",
   "execution_count": 203,
   "metadata": {
    "collapsed": false
   },
   "outputs": [
    {
     "name": "stdout",
     "output_type": "stream",
     "text": [
      "[  2.4265368   7.2796104  12.132684   16.9857576  21.8388312] [  2.4265368   7.2796104  12.132684   16.9857576  21.8388312]\n"
     ]
    }
   ],
   "source": [
    "print(xs,xc)"
   ]
  },
  {
   "cell_type": "code",
   "execution_count": 7,
   "metadata": {
    "collapsed": false
   },
   "outputs": [
    {
     "data": {
      "text/plain": [
       "0.07500000000000001"
      ]
     },
     "execution_count": 7,
     "metadata": {},
     "output_type": "execute_result"
    }
   ],
   "source": [
    "0.25e-9*3e8"
   ]
  },
  {
   "cell_type": "code",
   "execution_count": 10,
   "metadata": {
    "collapsed": false
   },
   "outputs": [
    {
     "data": {
      "text/plain": [
       "[<matplotlib.lines.Line2D at 0x7f5c6fb3c128>]"
      ]
     },
     "execution_count": 10,
     "metadata": {},
     "output_type": "execute_result"
    },
    {
     "data": {
      "image/png": "[encoded data removed]",
      "text/plain": [
       "<matplotlib.figure.Figure at 0x7f5c6fb9edd8>"
      ]
     },
     "metadata": {},
     "output_type": "display_data"
    }
   ],
   "source": [
    "x= np.arange(100)\n",
    "plt.figure()\n",
    "plt.plot(x,0.1*x,'--')\n",
    "plt.plot(x,0.2*x,'-.')\n",
    "plt.plot(x,0.4*x,':')"
   ]
  },
  {
   "cell_type": "code",
   "execution_count": 52,
   "metadata": {
    "collapsed": false
   },
   "outputs": [
    {
     "name": "stderr",
     "output_type": "stream",
     "text": [
      "/home/sfuruset/miniconda3/lib/python3.5/site-packages/ipykernel/__main__.py:18: RuntimeWarning: invalid value encountered in true_divide\n",
      "/home/sfuruset/miniconda3/lib/python3.5/site-packages/ipykernel/__main__.py:42: RuntimeWarning: invalid value encountered in true_divide\n"
     ]
    },
    {
     "data": {
      "text/plain": [
       "[<matplotlib.lines.Line2D at 0x7f5c67550e80>]"
      ]
     },
     "execution_count": 52,
     "metadata": {},
     "output_type": "execute_result"
    },
    {
     "data": {
      "image/png": "[encoded data removed]",
      "text/plain": [
       "<matplotlib.figure.Figure at 0x7f5c67c15080>"
      ]
     },
     "metadata": {},
     "output_type": "display_data"
    },
    {
     "data": {
      "image/png": "[encoded data removed]",
      "text/plain": [
       "<matplotlib.figure.Figure at 0x7f5c672f7e80>"
      ]
     },
     "metadata": {},
     "output_type": "display_data"
    },
    {
     "data": {
      "image/png": "[encoded data removed]",
      "text/plain": [
       "<matplotlib.figure.Figure at 0x7f5c674bc240>"
      ]
     },
     "metadata": {},
     "output_type": "display_data"
    },
    {
     "data": {
      "image/png": "[encoded data removed]",
      "text/plain": [
       "<matplotlib.figure.Figure at 0x7f5c679d2e80>"
      ]
     },
     "metadata": {},
     "output_type": "display_data"
    }
   ],
   "source": [
    "def centerit(edges):\n",
    "    return edges[1:]-(edges[1]-edges[0])*0.5\n",
    "\n",
    "N=np.int(1e4)\n",
    "a0 =np.random.normal(0,1,N)\n",
    "a=a0.copy()\n",
    "for i in range(10000):\n",
    "#     a += np.random.normal(0,0.01,N)\n",
    "    a+= 0.01*np.cos(np.random.uniform(0,2*np.pi,N))\n",
    "j0 = a0**2\n",
    "j = a**2\n",
    "da = a-a0\n",
    "dj = j-j0\n",
    "\n",
    "plt.figure()\n",
    "ns,xs = np.histogram(j0,bins=100)\n",
    "dbs,_ = np.histogram(j0,bins=100,weights=dj)\n",
    "dbs = dbs/ns\n",
    "plt.plot(centerit(xs),dbs)\n",
    "\n",
    "\n",
    "plt.figure()\n",
    "plt.hist(a0,bins=100,normed=True)\n",
    "plt.hist(a,bins=100,normed=True)\n",
    "# b =np.random.normal(0,2,N)\n",
    "# b=a*2\n",
    "\n",
    "\n",
    "#################\n",
    "a= np.random.chisquare(2,N)\n",
    "b= np.random.chisquare(2,N)*2\n",
    "b=a*2\n",
    "dba=b-a\n",
    "\n",
    "plt.figure()\n",
    "plt.hist(b,bins=100)\n",
    "plt.hist(a,bins=100)\n",
    "\n",
    "plt.figure()\n",
    "ns,xs = np.histogram(a,bins=100)\n",
    "dbs,_ = np.histogram(a,bins=100,weights=dba)\n",
    "dbs = dbs/ns\n",
    "plt.plot(centerit(xs),dbs)"
   ]
  },
  {
   "cell_type": "markdown",
   "metadata": {
    "collapsed": true
   },
   "source": [
    "# Save txt files"
   ]
  },
  {
   "cell_type": "code",
   "execution_count": 7,
   "metadata": {
    "collapsed": false
   },
   "outputs": [
    {
     "name": "stdout",
     "output_type": "stream",
     "text": [
      "[ 0.          0.11111111  0.22222222  0.33333333  0.44444444  0.55555556\n",
      "  0.66666667  0.77777778  0.88888889  1.        ] [ 0.          0.22222222  0.44444444  0.66666667  0.88888889  1.11111111\n",
      "  1.33333333  1.55555556  1.77777778  2.        ]\n"
     ]
    }
   ],
   "source": [
    "x = np.linspace(0,1,10)\n",
    "np.savetxt('test.txt',[x,2*x])\n",
    "a,b = np.loadtxt('test.txt')\n",
    "print(a,b)"
   ]
  },
  {
   "cell_type": "code",
   "execution_count": 20,
   "metadata": {
    "collapsed": false
   },
   "outputs": [
    {
     "data": {
      "text/plain": [
       "array([ 0.,  1.])"
      ]
     },
     "execution_count": 20,
     "metadata": {},
     "output_type": "execute_result"
    }
   ],
   "source": [
    "x = np.array([])\n",
    "x = np.concatenate((x,np.arange(2)),axis=0)\n",
    "x = np.concatenate((x,np.arange(2)),axis=0)\n",
    "x = np.unique(x)\n",
    "x"
   ]
  },
  {
   "cell_type": "markdown",
   "metadata": {
    "collapsed": true
   },
   "source": [
    "# Lists etc"
   ]
  },
  {
   "cell_type": "code",
   "execution_count": 31,
   "metadata": {
    "collapsed": false
   },
   "outputs": [
    {
     "data": {
      "text/plain": [
       "2"
      ]
     },
     "execution_count": 31,
     "metadata": {},
     "output_type": "execute_result"
    }
   ],
   "source": [
    "a = {'a':1, 'b':2}\n",
    "a['b']\n"
   ]
  },
  {
   "cell_type": "code",
   "execution_count": 32,
   "metadata": {
    "collapsed": false
   },
   "outputs": [],
   "source": [
    "a.update({4:4})"
   ]
  },
  {
   "cell_type": "code",
   "execution_count": 33,
   "metadata": {
    "collapsed": false
   },
   "outputs": [
    {
     "data": {
      "text/plain": [
       "4"
      ]
     },
     "execution_count": 33,
     "metadata": {},
     "output_type": "execute_result"
    }
   ],
   "source": [
    "a[4]"
   ]
  },
  {
   "cell_type": "code",
   "execution_count": 260,
   "metadata": {
    "collapsed": false
   },
   "outputs": [
    {
     "data": {
      "text/plain": [
       "array([0.])"
      ]
     },
     "execution_count": 260,
     "metadata": {},
     "output_type": "execute_result"
    }
   ],
   "source": [
    "np.linspace(0,1,1)"
   ]
  },
  {
   "cell_type": "code",
   "execution_count": 29,
   "metadata": {
    "collapsed": false
   },
   "outputs": [
    {
     "name": "stdout",
     "output_type": "stream",
     "text": [
      "1 yes\n",
      "2 yes\n"
     ]
    },
    {
     "data": {
      "text/plain": [
       "'sondre2'"
      ]
     },
     "execution_count": 29,
     "metadata": {},
     "output_type": "execute_result"
    }
   ],
   "source": [
    "son = 'sondre'\n",
    "NAMES = [son+'1',son+'2',son+'3','michael']\n",
    "for i,name in enumerate(NAMES):\n",
    "    if name[:4] == NAMES[i-1][:4]:\n",
    "        print(i,'yes')\n",
    "NAMES[1]    "
   ]
  },
  {
   "cell_type": "code",
   "execution_count": 21,
   "metadata": {
    "collapsed": false
   },
   "outputs": [
    {
     "name": "stdout",
     "output_type": "stream",
     "text": [
      "[array([0]), array([0])] [0]\n",
      "[[1, 2], array([0])]\n"
     ]
    }
   ],
   "source": [
    "a = [np.arange(1),np.arange(1)]\n",
    "print(a,a[0])\n",
    "a[0]=[1,2]\n",
    "print(a)"
   ]
  },
  {
   "cell_type": "code",
   "execution_count": 27,
   "metadata": {
    "collapsed": false
   },
   "outputs": [
    {
     "data": {
      "text/plain": [
       "4"
      ]
     },
     "execution_count": 27,
     "metadata": {},
     "output_type": "execute_result"
    }
   ],
   "source": [
    "a = np.array([1,1,1,1,2,2,2,2,3])\n",
    "np.where(a==2)[0][0]"
   ]
  },
  {
   "cell_type": "markdown",
   "metadata": {},
   "source": [
    "# Impedance"
   ]
  },
  {
   "cell_type": "code",
   "execution_count": 6,
   "metadata": {
    "collapsed": false
   },
   "outputs": [
    {
     "data": {
      "text/plain": [
       "(0, 1)"
      ]
     },
     "execution_count": 6,
     "metadata": {},
     "output_type": "execute_result"
    },
    {
     "data": {
      "image/png": "[encoded data removed]",
      "text/plain": [
       "<matplotlib.figure.Figure at 0x7f7e2d4e8a58>"
      ]
     },
     "metadata": {},
     "output_type": "display_data"
    }
   ],
   "source": [
    "# Reduced gain\n",
    "g =0.02\n",
    "g2 = g/2\n",
    "\n",
    "pi2 = 2*np.pi\n",
    "a=1e-4\n",
    "J = np.linspace(0,10,100)\n",
    "dmu = a*pi2*(J-1)\n",
    "plt.plot(J,1/(1+(dmu/g2)**2))\n",
    "plt.ylim(0,1)"
   ]
  },
  {
   "cell_type": "markdown",
   "metadata": {
    "collapsed": true
   },
   "source": [
    "# Error bar in polyfit"
   ]
  },
  {
   "cell_type": "code",
   "execution_count": 38,
   "metadata": {
    "collapsed": true
   },
   "outputs": [],
   "source": [
    "yerr = np.random.randn(N)"
   ]
  },
  {
   "cell_type": "code",
   "execution_count": 53,
   "metadata": {
    "collapsed": false
   },
   "outputs": [
    {
     "name": "stdout",
     "output_type": "stream",
     "text": [
      "[ -5.28303308e-03   5.28303293e+06] \n",
      " [[ -6.36105439e-05   6.36105455e+04]\n",
      " [  6.36105455e+04  -6.36105470e+13]]\n"
     ]
    },
    {
     "name": "stderr",
     "output_type": "stream",
     "text": [
      "/home/sfuruset/miniconda3/lib/python3.5/site-packages/ipykernel/__main__.py:12: RuntimeWarning: invalid value encountered in sqrt\n"
     ]
    },
    {
     "data": {
      "text/plain": [
       "[<matplotlib.lines.Line2D at 0x7f74890daa58>]"
      ]
     },
     "execution_count": 53,
     "metadata": {},
     "output_type": "execute_result"
    },
    {
     "data": {
      "image/png": "[encoded data removed]",
      "text/plain": [
       "<matplotlib.figure.Figure at 0x7f748978b320>"
      ]
     },
     "metadata": {},
     "output_type": "display_data"
    }
   ],
   "source": [
    "N = 50\n",
    "x = np.arange(N)+1e9\n",
    "y1 = x*0 + yerr\n",
    "y2 = x*0.5+np.random.randn(N)*2\n",
    "\n",
    "popt,pcov = np.polyfit(x,y1,deg=1,full=False,cov=True)\n",
    "print(popt,'\\n',pcov)\n",
    "\n",
    "plt.figure()\n",
    "plt.plot(x,y1)\n",
    "plt.plot(x,popt[0]*x+popt[1])\n",
    "plt.plot(x,popt[0]*x+popt[1]+np.sqrt(pcov[0,0])*x,'r:')\n",
    "# plt.plot(x,popt[0]*x+popt[1]-np.sqrt(pcov[1,1]),'r:')"
   ]
  },
  {
   "cell_type": "markdown",
   "metadata": {},
   "source": [
    "# x= np.arange(10)\n"
   ]
  },
  {
   "cell_type": "code",
   "execution_count": 232,
   "metadata": {
    "collapsed": false
   },
   "outputs": [
    {
     "name": "stdout",
     "output_type": "stream",
     "text": [
      "[0 1 2 3 4 5 6 7 8 9]\n",
      "[0 1 2 3 4 5 6 7 8 9]\n",
      "[0 1 2 3 4 5 6 7 8]\n",
      "[0 1 2 3 4 5 6 7 8 9]\n"
     ]
    }
   ],
   "source": [
    "x= np.arange(10)\n",
    "x[1:]\n",
    "obj = [slice(0,None,1),slice(0,None,1)]\n",
    "\n",
    "print(x[slice(0,None,1)])\n",
    "print(x[slice(None,None,1)])\n",
    "print(x[slice(0,-1)])\n",
    "print(x[slice(0,None,1)])"
   ]
  },
  {
   "cell_type": "code",
   "execution_count": 52,
   "metadata": {
    "collapsed": false
   },
   "outputs": [
    {
     "name": "stdout",
     "output_type": "stream",
     "text": [
      "[0.   0.25 0.5  0.75 1.  ] [2.  2.5 3. ]\n",
      "[[0.   0.25 0.5  0.75 1.  ]\n",
      " [0.   0.25 0.5  0.75 1.  ]\n",
      " [0.   0.25 0.5  0.75 1.  ]]\n",
      "[[2.5 2.5 2.5 2.5 2.5]\n",
      " [3.  3.  3.  3.  3. ]]\n",
      "[0.25 0.5  0.75 1.   0.25 0.5  0.75 1.   0.25 0.5  0.75 1.  ]\n",
      "[0.25 0.5  0.75 1.   0.25 0.5  0.75 1.   0.25 0.5  0.75 1.  ]\n",
      "[0.   0.25 0.5  0.75 0.   0.25 0.5  0.75 0.   0.25 0.5  0.75]\n"
     ]
    }
   ],
   "source": [
    "x = np.arange(5)/4\n",
    "y = np.arange(3)/2 +2\n",
    "print(x,y)\n",
    "X,Y = np.meshgrid(x,y)\n",
    "xx = X.flatten()\n",
    "yy = Y.flatten()\n",
    "index = np.ones(15).astype(int)\n",
    "index[0::5]=0\n",
    "xxE = (np.delete(X,(0),axis=1)).flatten()\n",
    "xxW = (np.delete(X,(-1),axis=1)).flatten()\n",
    "xxE2 = X[:,1:].flatten()\n",
    "print(X[obj])\n",
    "print(Y[1:,:])\n",
    "print(xxE)\n",
    "print(xxE2)\n",
    "print(xxW)"
   ]
  },
  {
   "cell_type": "code",
   "execution_count": 262,
   "metadata": {
    "collapsed": false
   },
   "outputs": [
    {
     "name": "stdout",
     "output_type": "stream",
     "text": [
      "[[0. 1. 1. 0. 1. 1. 0. 1. 1.]]\n",
      "[[0 0 0 0 0 0 0 0 0]]\n",
      "[0. 1. 1. 0. 1. 1. 0. 1. 1.]\n"
     ]
    }
   ],
   "source": [
    "X,Y = np.meshgrid(x,0)\n",
    "print(X)\n",
    "print(Y)\n",
    "print(X[0])"
   ]
  },
  {
   "cell_type": "code",
   "execution_count": 238,
   "metadata": {
    "collapsed": false
   },
   "outputs": [
    {
     "name": "stdout",
     "output_type": "stream",
     "text": [
      "[[0 0 0 0]\n",
      " [0 1 2 3]\n",
      " [0 2 4 6]\n",
      " [0 3 6 9]] [[0 1 2 3]\n",
      " [1 2 3 4]\n",
      " [2 3 4 5]\n",
      " [3 4 5 6]]\n",
      "[[0]\n",
      " [1]\n",
      " [2]\n",
      " [3]] [0 1 2 3]\n",
      "[[0 1 2 3]]\n",
      "[[0 1 2 3]]\n"
     ]
    }
   ],
   "source": [
    "c = np.arange(4)[:,np.newaxis]\n",
    "r = np.arange(4)\n",
    "print(c*r,c+r)\n",
    "print(c,c[:,0])\n",
    "print(c.T)\n",
    "print(c.T)"
   ]
  },
  {
   "cell_type": "code",
   "execution_count": 269,
   "metadata": {
    "collapsed": false
   },
   "outputs": [
    {
     "name": "stdout",
     "output_type": "stream",
     "text": [
      "[[1. 1. 0. 0. 0. 0. 0. 0. 0.]\n",
      " [0. 1. 1. 0. 0. 0. 0. 0. 0.]\n",
      " [0. 0. 3. 0. 0. 0. 0. 0. 0.]\n",
      " [0. 0. 0. 1. 1. 0. 0. 0. 0.]\n",
      " [0. 0. 0. 0. 1. 1. 0. 0. 0.]\n",
      " [0. 0. 0. 0. 0. 3. 0. 0. 0.]\n",
      " [0. 0. 0. 0. 0. 0. 1. 1. 0.]\n",
      " [0. 0. 0. 0. 0. 0. 0. 1. 1.]\n",
      " [0. 0. 0. 0. 0. 0. 0. 0. 3.]]\n",
      "[[1.         0.5        0.         0.         0.         0.\n",
      "  0.         0.         0.        ]\n",
      " [0.         0.5        0.33333333 0.         0.         0.\n",
      "  0.         0.         0.        ]\n",
      " [0.         0.         1.         0.         0.         0.\n",
      "  0.         0.         0.        ]\n",
      " [0.         0.         0.         0.25       0.2        0.\n",
      "  0.         0.         0.        ]\n",
      " [0.         0.         0.         0.         0.2        0.16666667\n",
      "  0.         0.         0.        ]\n",
      " [0.         0.         0.         0.         0.         0.5\n",
      "  0.         0.         0.        ]\n",
      " [0.         0.         0.         0.         0.         0.\n",
      "  0.14285714 0.125      0.        ]\n",
      " [0.         0.         0.         0.         0.         0.\n",
      "  0.         0.125      0.11111111]\n",
      " [0.         0.         0.         0.         0.         0.\n",
      "  0.         0.         0.33333333]]\n",
      "[1. 3. 1.]\n"
     ]
    }
   ],
   "source": [
    "N = 9\n",
    "x0= np.ones(N)\n",
    "x = x0.copy()\n",
    "\n",
    "x0[2::3]=3\n",
    "x[::3]=0\n",
    "V =np.arange(N)+1\n",
    "M = sp.diags([x0,x[1:]],offsets=(0,1),shape=(N,N))\n",
    "print(M.toarray())\n",
    "print(M/V)\n",
    "\n",
    "sl = [1,2,3]\n",
    "print(M.toarray()[sl,sl])"
   ]
  },
  {
   "cell_type": "code",
   "execution_count": 6,
   "metadata": {
    "collapsed": false
   },
   "outputs": [
    {
     "ename": "AttributeError",
     "evalue": "'NoneType' object has no attribute 'show'",
     "output_type": "error",
     "traceback": [
      "\u001b[0;31m--------------------------------------------------------------------\u001b[0m",
      "\u001b[0;31mAttributeError\u001b[0m                     Traceback (most recent call last)",
      "\u001b[0;32m<ipython-input-6-0b5c4244b390>\u001b[0m in \u001b[0;36m<module>\u001b[0;34m()\u001b[0m\n\u001b[1;32m     24\u001b[0m \u001b[0;34m\u001b[0m\u001b[0m\n\u001b[1;32m     25\u001b[0m \u001b[0ma\u001b[0m \u001b[0;34m=\u001b[0m \u001b[0mchild\u001b[0m\u001b[0;34m.\u001b[0m\u001b[0m__init2__\u001b[0m\u001b[0;34m(\u001b[0m\u001b[0mchild\u001b[0m\u001b[0;34m,\u001b[0m\u001b[0;36m2\u001b[0m\u001b[0;34m)\u001b[0m\u001b[0;34m\u001b[0m\u001b[0m\n\u001b[0;32m---> 26\u001b[0;31m \u001b[0ma\u001b[0m\u001b[0;34m.\u001b[0m\u001b[0mshow\u001b[0m\u001b[0;34m(\u001b[0m\u001b[0;34m)\u001b[0m\u001b[0;34m\u001b[0m\u001b[0m\n\u001b[0m",
      "\u001b[0;31mAttributeError\u001b[0m: 'NoneType' object has no attribute 'show'"
     ]
    }
   ],
   "source": [
    "class parent(object):\n",
    "    def __init__(self):\n",
    "        self.a=1\n",
    "        self.b=2\n",
    "        return\n",
    "    def show(self):\n",
    "        print('person ',self.c)\n",
    "class child(parent):\n",
    "    def __init__(self):\n",
    "        parent.__init__(self)\n",
    "        self.c=3\n",
    "        return\n",
    "    \n",
    "    def __init2__(self,c):\n",
    "        self.__init__(self)\n",
    "        self.c=c\n",
    "        return\n",
    "    \n",
    "    def set_func(self,x,y):\n",
    "        self.func = sc.interpolate.interp1d(x,y,kind=['quadratic'][0])\n",
    "        \n",
    "    def get_val(self,x):\n",
    "        return self.func(x)\n",
    "    \n",
    "a = child.__init2__(child,2)\n",
    "a.show()\n",
    "\n"
   ]
  },
  {
   "cell_type": "code",
   "execution_count": 34,
   "metadata": {
    "collapsed": false
   },
   "outputs": [
    {
     "data": {
      "image/png": "[encoded data removed]",
      "text/plain": [
       "<Figure size 432x288 with 1 Axes>"
      ]
     },
     "metadata": {
      "needs_background": "light"
     },
     "output_type": "display_data"
    }
   ],
   "source": [
    "class plot(object):\n",
    "    def plot(self):\n",
    "        plt.figure()\n",
    "        plt.plot(self.a,self.b,'x',label=self.c)\n",
    "        plt.legend()\n",
    "\n",
    "class postprocess(object):\n",
    "    def post(self):\n",
    "        self.c = self.a+self.b\n",
    "        \n",
    "class calc(plot,postprocess):\n",
    "    def __init__(self):\n",
    "        self.a = 1\n",
    "        self.b = 2\n",
    "        \n",
    "\n",
    "inst = calc()\n",
    "inst.post()\n",
    "inst.plot()"
   ]
  },
  {
   "cell_type": "code",
   "execution_count": 438,
   "metadata": {
    "collapsed": false
   },
   "outputs": [],
   "source": [
    "x = np.arange(10)\n",
    "y = x**2\n",
    "a.set_func(x,y)\n",
    "x2 = np.linspace(0,9,100)\n",
    "y2 = a.get_val(x2)\n"
   ]
  },
  {
   "cell_type": "code",
   "execution_count": 439,
   "metadata": {
    "collapsed": false
   },
   "outputs": [
    {
     "data": {
      "text/plain": [
       "[<matplotlib.lines.Line2D at 0x7f773c12c630>]"
      ]
     },
     "execution_count": 439,
     "metadata": {},
     "output_type": "execute_result"
    },
    {
     "data": {
      "image/png": "[encoded data removed]",
      "text/plain": [
       "<Figure size 432x288 with 1 Axes>"
      ]
     },
     "metadata": {
      "needs_background": "light"
     },
     "output_type": "display_data"
    }
   ],
   "source": [
    "plt.figure()\n",
    "plt.plot(x,y,'ro')\n",
    "plt.plot(x2,y2,'b')"
   ]
  },
  {
   "cell_type": "markdown",
   "metadata": {},
   "source": [
    "## Interpolation"
   ]
  },
  {
   "cell_type": "code",
   "execution_count": 562,
   "metadata": {
    "collapsed": false
   },
   "outputs": [
    {
     "name": "stdout",
     "output_type": "stream",
     "text": [
      "[0.   0.45 0.9 ] [1. 2.]\n",
      "(2, 3) (2, 3)\n",
      "Y [1. 1. 1.]\n",
      "[1. 1. 1. 2. 2. 2.]\n",
      "X [0. 0.]\n",
      "[0.   0.45 0.9  0.   0.45 0.9 ]\n",
      "[[0.   0.45 0.9 ]\n",
      " [0.   0.45 0.9 ]]\n",
      "(3, 2) (3, 2)\n",
      "Y [1. 2.]\n",
      "[1. 2. 1. 2. 1. 2.]\n",
      "X [0.   0.45 0.9 ]\n",
      "[0.   0.   0.45 0.45 0.9  0.9 ]\n",
      "[[0.   0.   0.45]\n",
      " [0.45 0.9  0.9 ]]\n"
     ]
    }
   ],
   "source": [
    "x = np.linspace(0,.9,3)\n",
    "y = np.linspace(1,2,2)\n",
    "print(x,y)\n",
    "for i in range(2):\n",
    "    X,Y = np.meshgrid(x,y,indexing=['xy','ij'][i])\n",
    "    print(X.shape,Y.shape)\n",
    "    \n",
    "    print('Y',Y[0,:])\n",
    "    print(Y.flatten())\n",
    "    print('X',X[:,0])\n",
    "    print(X.flatten())\n",
    "    print(X.flatten().reshape((2,3)))"
   ]
  },
  {
   "cell_type": "code",
   "execution_count": 20,
   "metadata": {
    "collapsed": false
   },
   "outputs": [
    {
     "name": "stdout",
     "output_type": "stream",
     "text": [
      "[0. 0. 0. 0. 0.]\n",
      "changed element 6.0 0.0\n",
      "Z (5, 10)\n",
      "False\n",
      "False\n",
      "Z2 (40, 10)\n",
      "(10, 40)\n"
     ]
    },
    {
     "name": "stderr",
     "output_type": "stream",
     "text": [
      "/home/sfuruset/miniconda3/lib/python3.5/site-packages/ipykernel_launcher.py:32: DeprecationWarning: elementwise == comparison failed; this will raise an error in the future.\n"
     ]
    },
    {
     "data": {
      "text/plain": [
       "<matplotlib.legend.Legend at 0x7fe9d78daf28>"
      ]
     },
     "execution_count": 20,
     "metadata": {},
     "output_type": "execute_result"
    },
    {
     "data": {
      "image/png": "[encoded data removed]",
      "text/plain": [
       "<Figure size 432x288 with 1 Axes>"
      ]
     },
     "metadata": {
      "needs_background": "light"
     },
     "output_type": "display_data"
    },
    {
     "data": {
      "image/png": "[encoded data removed]",
      "text/plain": [
       "<Figure size 432x288 with 1 Axes>"
      ]
     },
     "metadata": {
      "needs_background": "light"
     },
     "output_type": "display_data"
    },
    {
     "data": {
      "image/png": "[encoded data removed]",
      "text/plain": [
       "<Figure size 432x288 with 1 Axes>"
      ]
     },
     "metadata": {
      "needs_background": "light"
     },
     "output_type": "display_data"
    },
    {
     "data": {
      "image/png": "[encoded data removed]",
      "text/plain": [
       "<Figure size 432x288 with 1 Axes>"
      ]
     },
     "metadata": {
      "needs_background": "light"
     },
     "output_type": "display_data"
    }
   ],
   "source": [
    "x = np.linspace(0,6,10)\n",
    "y = np.linspace(0,6,5)\n",
    "X,Y = np.meshgrid(x,y,indexing='xy')\n",
    "print(X[:,0])\n",
    "\n",
    "def func(x,y):\n",
    "    return np.sin(x)*np.exp(-y/5)+1\n",
    "Z = func(X,Y)\n",
    "Z[0,-1]=4\n",
    "print('changed element',X[0,-1],Y[0,-1])\n",
    "# Z = Z.T\n",
    "plt.figure()\n",
    "plt.pcolor(Z)\n",
    "\n",
    "print('Z',Z.shape)\n",
    "# interp1 = sc.interpolate.NearestNDInterpolator((x,y),Z)\n",
    "interp2 = sc.interpolate.RectBivariateSpline(x,y,Z.T,kx=1,ky=1,bbox=[-1,7,-1,7])\n",
    "interp3 = sc.interpolate.RegularGridInterpolator((x,y),Z.T,method=\"nearest\",bounds_error=False,fill_value=None)\n",
    "interp4 = sc.interpolate.interp2d(x,y,Z,kind='linear',bounds_error=False,fill_value=2)\n",
    "x2= np.linspace(-1,7,40)\n",
    "y2= np.linspace(-1,10,10)\n",
    "X2,Y2 = np.meshgrid(x2,y2,indexing='xy')\n",
    "\n",
    "\n",
    "Z2 = interp2(x2,y2,grid=True)\n",
    "Z2b= interp2(X2,Y2,grid=False)\n",
    "def tempfunc(a,b):\n",
    "    return interp3((a,b))\n",
    "Z3 = interp3((Y2,X2))#,method='linear')\n",
    "Z3b = tempfunc(X2,Y2)\n",
    "\n",
    "print(np.all(Z2==Z2b))\n",
    "print(np.all(Z3==Z3b))\n",
    "\n",
    "print('Z2',Z2.shape)\n",
    "plt.figure()\n",
    "plt.pcolor(Z2b,)\n",
    "print(Z3.shape)\n",
    "plt.figure()\n",
    "plt.pcolor(Z3b)\n",
    "\n",
    "plt.figure()\n",
    "plt.plot(x2,func(x2,y2[0]),label='func')\n",
    "plt.plot(x2,interp2(x2,y2[0]),label='interp2')\n",
    "plt.plot(x2,tempfunc(x2,y2[0]),label='interp3')\n",
    "plt.plot(x2,interp4(x2,y2[0]),label='interp4')\n",
    "plt.legend(loc=0)"
   ]
  },
  {
   "cell_type": "code",
   "execution_count": 27,
   "metadata": {
    "collapsed": false
   },
   "outputs": [
    {
     "data": {
      "text/plain": [
       "[<matplotlib.lines.Line2D at 0x7fe9d7b0e3c8>]"
      ]
     },
     "execution_count": 27,
     "metadata": {},
     "output_type": "execute_result"
    },
    {
     "data": {
      "image/png": "[encoded data removed]",
      "text/plain": [
       "<Figure size 432x288 with 1 Axes>"
      ]
     },
     "metadata": {
      "needs_background": "light"
     },
     "output_type": "display_data"
    }
   ],
   "source": [
    "plt.figure()\n",
    "plt.plot(1,1)\n"
   ]
  },
  {
   "cell_type": "code",
   "execution_count": 537,
   "metadata": {
    "collapsed": false
   },
   "outputs": [
    {
     "name": "stdout",
     "output_type": "stream",
     "text": [
      "[ 0  1  4  9 16]\n",
      "[ 0.5  2.5  6.5 12.5] [ 0.  2.  6. 12.]\n",
      "[1.70710678 2.58113883 3.54950976 4.53553391]\n"
     ]
    },
    {
     "data": {
      "image/png": "[encoded data removed]",
      "text/plain": [
       "<Figure size 432x288 with 1 Axes>"
      ]
     },
     "metadata": {
      "needs_background": "light"
     },
     "output_type": "display_data"
    }
   ],
   "source": [
    "x=np.arange(5)\n",
    "xb=x**2\n",
    "print(x2)\n",
    "xc = (xb[1:]+xb[:-1])/2\n",
    "xsq =np.sqrt(xb)\n",
    "xc2 = xsq[1:]*xsq[:-1]\n",
    "print(xc,xc2)\n",
    "f = 1+xc**.5\n",
    "print(f)\n",
    "\n",
    "interp1 = sc.interpolate.interp1d(xc,f,kind='nearest',bounds_error=False,fill_value=\"extrapolate\")\n",
    "interp2 = sc.interpolate.interp1d(xc2,f,kind='nearest',bounds_error=False,fill_value=\"extrapolate\")\n",
    "\n",
    "xval = np.linspace(0,np.max(xb),200)\n",
    "plt.figure()\n",
    "plt.plot(xval,interp1(xval),'r')\n",
    "plt.plot(xval,interp2(xval),'b')\n",
    "for i in range(5):\n",
    "    plt.axvline(xb[i]) "
   ]
  },
  {
   "cell_type": "code",
   "execution_count": 39,
   "metadata": {
    "collapsed": false
   },
   "outputs": [],
   "source": [
    "x = np.array([-2,-1,-1,1,1,1.5])\n",
    "y = np.array([0,0,1,1,0,0])\n",
    "t = np.linspace(0,1,x.size)\n",
    "interpx = sc.interpolate.interp1d(t,x)\n",
    "interpy = sc.interpolate.interp1d(t,y)\n",
    "# tck,u = sc.interpolate.splprep([x,y],k=4)\n",
    "# interp=sc.interpolate.splev(u,tck)\n"
   ]
  },
  {
   "cell_type": "code",
   "execution_count": 42,
   "metadata": {
    "collapsed": false
   },
   "outputs": [
    {
     "data": {
      "text/plain": [
       "[<matplotlib.lines.Line2D at 0x7f83d00bec50>]"
      ]
     },
     "execution_count": 42,
     "metadata": {},
     "output_type": "execute_result"
    },
    {
     "data": {
      "image/png": "[encoded data removed]",
      "text/plain": [
       "<Figure size 432x288 with 1 Axes>"
      ]
     },
     "metadata": {
      "needs_background": "light"
     },
     "output_type": "display_data"
    }
   ],
   "source": [
    "plt.figure()\n",
    "plt.plot(x,y,'-o')\n",
    "\n",
    "t2 =np.linspace(0,1,200)\n",
    "plt.plot(interpx(t2),interpy(t2),'r-x')"
   ]
  },
  {
   "cell_type": "code",
   "execution_count": 44,
   "metadata": {
    "collapsed": false
   },
   "outputs": [
    {
     "data": {
      "text/plain": [
       "3"
      ]
     },
     "execution_count": 44,
     "metadata": {},
     "output_type": "execute_result"
    }
   ],
   "source": [
    "np.searchsorted([1,2,3,4,5], 3.1)\n"
   ]
  },
  {
   "cell_type": "markdown",
   "metadata": {},
   "source": [
    "# Flatten , reshape"
   ]
  },
  {
   "cell_type": "code",
   "execution_count": 219,
   "metadata": {
    "collapsed": false
   },
   "outputs": [
    {
     "name": "stdout",
     "output_type": "stream",
     "text": [
      "[[ 0  1  2]\n",
      " [ 3  4  5]\n",
      " [ 6  7  8]\n",
      " [ 9 10 11]]\n",
      "[[ 0]\n",
      " [ 1]\n",
      " [ 2]\n",
      " [ 3]\n",
      " [ 4]\n",
      " [ 5]\n",
      " [ 6]\n",
      " [ 7]\n",
      " [ 8]\n",
      " [ 9]\n",
      " [10]\n",
      " [11]]\n",
      "[[ 0]\n",
      " [ 1]\n",
      " [ 2]\n",
      " [ 3]\n",
      " [ 4]\n",
      " [ 5]\n",
      " [ 6]\n",
      " [ 7]\n",
      " [ 8]\n",
      " [ 9]\n",
      " [10]\n",
      " [11]]\n",
      "[[ 0  1  2  3  4  5  6  7  8  9 10 11]]\n"
     ]
    }
   ],
   "source": [
    "x = np.arange(12).reshape(4,3)\n",
    "xf = x.flatten()[:,np.newaxis]\n",
    "xrsr=np.reshape(x,(12,1))\n",
    "xrsc=np.reshape(x,(1,12))\n",
    "\n",
    "print(x)\n",
    "print(xf)\n",
    "print(xrsr)\n",
    "print(xrsc)"
   ]
  },
  {
   "cell_type": "code",
   "execution_count": 225,
   "metadata": {
    "collapsed": false
   },
   "outputs": [
    {
     "name": "stdout",
     "output_type": "stream",
     "text": [
      "(100, 200)\n"
     ]
    }
   ],
   "source": [
    "N=100\n",
    "M=200\n",
    "x = np.random.randn(N,M)\n",
    "print(x.shape)\n",
    "xf = x.flatten()[:,np.newaxis]\n",
    "xc = np.reshape(x,(N*M,1))"
   ]
  },
  {
   "cell_type": "code",
   "execution_count": null,
   "metadata": {
    "collapsed": true
   },
   "outputs": [],
   "source": []
  },
  {
   "cell_type": "code",
   "execution_count": 230,
   "metadata": {
    "collapsed": false
   },
   "outputs": [
    {
     "name": "stdout",
     "output_type": "stream",
     "text": [
      "34.3 µs ± 20.8 µs per loop (mean ± std. dev. of 7 runs, 20 loops each)\n"
     ]
    }
   ],
   "source": [
    "%%timeit -n 20\n",
    "xf = x.flatten()[:,np.newaxis]"
   ]
  },
  {
   "cell_type": "code",
   "execution_count": 228,
   "metadata": {
    "collapsed": false
   },
   "outputs": [
    {
     "name": "stdout",
     "output_type": "stream",
     "text": [
      "The slowest run took 5.07 times longer than the fastest. This could mean that an intermediate result is being cached.\n",
      "9.84 µs ± 8.45 µs per loop (mean ± std. dev. of 7 runs, 20 loops each)\n"
     ]
    }
   ],
   "source": [
    "%%timeit -n 20\n",
    "xc = np.reshape(x,(N*M,1))"
   ]
  },
  {
   "cell_type": "code",
   "execution_count": 231,
   "metadata": {
    "collapsed": false
   },
   "outputs": [
    {
     "name": "stdout",
     "output_type": "stream",
     "text": [
      "True\n"
     ]
    }
   ],
   "source": [
    "print(np.all(xf==xc))"
   ]
  },
  {
   "cell_type": "code",
   "execution_count": 49,
   "metadata": {
    "collapsed": false
   },
   "outputs": [
    {
     "name": "stdout",
     "output_type": "stream",
     "text": [
      "[[0 1 2]\n",
      " [3 4 5]] [1 4]\n"
     ]
    }
   ],
   "source": [
    "x = np.arange(6)\n",
    "x=x.reshape(2,3)\n",
    "print(x,x[:,1])"
   ]
  },
  {
   "cell_type": "markdown",
   "metadata": {
    "collapsed": true
   },
   "source": [
    "# Sparse"
   ]
  },
  {
   "cell_type": "code",
   "execution_count": 196,
   "metadata": {
    "collapsed": true
   },
   "outputs": [],
   "source": [
    "import numpy as np\n",
    "import scipy.sparse as sp"
   ]
  },
  {
   "cell_type": "code",
   "execution_count": 273,
   "metadata": {
    "collapsed": false
   },
   "outputs": [
    {
     "name": "stdout",
     "output_type": "stream",
     "text": [
      "  (0, 0)\t1.0\n",
      "  (1, 1)\t2.0\n",
      "  (2, 2)\t3.0\n",
      "  (3, 3)\t4.0\n",
      "  (0, 1)\t0.5\n",
      "  (1, 2)\t0.3333333333333333\n",
      "  (2, 3)\t0.25\n",
      "[[1.         0.5        0.         0.        ]\n",
      " [0.         2.         0.33333333 0.        ]\n",
      " [0.         0.         3.         0.25      ]\n",
      " [0.         0.         0.         4.        ]]\n",
      "[1 2 3 4]\n",
      "[[1]\n",
      " [2]\n",
      " [3]\n",
      " [4]] [[1]\n",
      " [2]\n",
      " [3]] [[2]\n",
      " [3]\n",
      " [4]]\n"
     ]
    }
   ],
   "source": [
    "y=np.arange(4)+1\n",
    "x = (sp.eye(4,k=1) + sp.eye(4,k=-1))\n",
    "x = sp.diags(1/y,offsets = -1)\n",
    "x = sp.csc_matrix(np.eye(4,k=1)/y)\n",
    "x = sp.diags([y,1/y[1:]],offsets=[0,1])\n",
    "print(x)\n",
    "print(x.toarray())\n",
    "print(y)\n",
    "print(y[:,np.newaxis],y[:-1,np.newaxis],y[1:,np.newaxis])"
   ]
  },
  {
   "cell_type": "code",
   "execution_count": 200,
   "metadata": {
    "collapsed": false
   },
   "outputs": [
    {
     "name": "stdout",
     "output_type": "stream",
     "text": [
      "  (0, 1)\t0.5\n",
      "  (1, 2)\t0.6666666666666666\n",
      "  (2, 3)\t0.75\n",
      "<class 'scipy.sparse.csr.csr_matrix'> <class 'numpy.ndarray'> <class 'scipy.sparse.csr.csr_matrix'>\n",
      "[0.         0.5        0.66666667 0.75      ]\n"
     ]
    }
   ],
   "source": [
    "\n",
    "yc = y[:,np.newaxis]\n",
    "# yc = sp.(yc)\n",
    "z = x.multiply(yc)\n",
    "print(z)\n",
    "x=x.tocsr()\n",
    "print(type(x),type(yc),type(z+z))\n",
    "print(y*x)"
   ]
  },
  {
   "cell_type": "code",
   "execution_count": 185,
   "metadata": {
    "collapsed": false
   },
   "outputs": [
    {
     "name": "stdout",
     "output_type": "stream",
     "text": [
      "(10000,) (10000, 1)\n"
     ]
    }
   ],
   "source": [
    "N = int(1e4)\n",
    "x= np.random.randn(N)\n",
    "M = sp.diags(x,offsets=0,format='csr')\n",
    "xv = x[:,np.newaxis]\n",
    "xs = sp.diags(x,offsets=0,format='csr')\n",
    "print(x.shape,xv.shape)"
   ]
  },
  {
   "cell_type": "code",
   "execution_count": 187,
   "metadata": {
    "collapsed": false
   },
   "outputs": [
    {
     "name": "stdout",
     "output_type": "stream",
     "text": [
      "385 µs ± 145 µs per loop (mean ± std. dev. of 7 runs, 10 loops each)\n"
     ]
    }
   ],
   "source": [
    "%%timeit -n 10\n",
    "global A\n",
    "A = M.multiply(xv)"
   ]
  },
  {
   "cell_type": "code",
   "execution_count": 193,
   "metadata": {
    "collapsed": false
   },
   "outputs": [
    {
     "name": "stdout",
     "output_type": "stream",
     "text": [
      "466 µs ± 163 µs per loop (mean ± std. dev. of 7 runs, 10 loops each)\n"
     ]
    }
   ],
   "source": [
    "%%timeit -n 10\n",
    "global B\n",
    "B = xs*M"
   ]
  },
  {
   "cell_type": "code",
   "execution_count": 169,
   "metadata": {
    "collapsed": false
   },
   "outputs": [
    {
     "name": "stdout",
     "output_type": "stream",
     "text": [
      "True\n"
     ]
    }
   ],
   "source": [
    "print(np.all(A.toarray()==B))"
   ]
  },
  {
   "cell_type": "code",
   "execution_count": 147,
   "metadata": {
    "collapsed": false
   },
   "outputs": [
    {
     "data": {
      "text/plain": [
       "array([[0.25, 0.5 , 0.  , 0.  ],\n",
       "       [0.  , 0.25, 0.5 , 0.  ],\n",
       "       [0.  , 0.  , 0.25, 0.5 ],\n",
       "       [0.  , 0.  , 0.  , 0.25]])"
      ]
     },
     "execution_count": 147,
     "metadata": {},
     "output_type": "execute_result"
    }
   ],
   "source": [
    "np.array(np.arange(4))\n",
    "sp.eye(4).toarray()\n",
    "(sp.eye(4)/4).toarray()\n",
    "sp.diags([1/4,1/2],[0,1],shape=(4,4)).toarray()"
   ]
  },
  {
   "cell_type": "code",
   "execution_count": 68,
   "metadata": {
    "collapsed": false
   },
   "outputs": [
    {
     "name": "stdout",
     "output_type": "stream",
     "text": [
      "[[ 0  1  2  3]\n",
      " [ 4  5  6  7]\n",
      " [ 8  9 10 11]\n",
      " [12 13 14 15]] [0 1 2 3]\n",
      "[[ 0  1  4  9]\n",
      " [ 0  5 12 21]\n",
      " [ 0  9 20 33]\n",
      " [ 0 13 28 45]]\n",
      "[[ 0  1  4  9]\n",
      " [ 0  5 12 21]\n",
      " [ 0  9 20 33]\n",
      " [ 0 13 28 45]]\n",
      "[[ 0  0  0  0]\n",
      " [ 4  5  6  7]\n",
      " [16 18 20 22]\n",
      " [36 39 42 45]]\n",
      "[[ 0.  1.  4.  9.]\n",
      " [ 0.  5. 12. 21.]\n",
      " [ 0.  9. 20. 33.]\n",
      " [ 0. 13. 28. 45.]]\n",
      "[[ 0.  0.  0.  0.]\n",
      " [ 4.  5.  6.  7.]\n",
      " [16. 18. 20. 22.]\n",
      " [36. 39. 42. 45.]]\n"
     ]
    }
   ],
   "source": [
    "x = np.arange(16).reshape(4,4)\n",
    "y = np.arange(4)\n",
    "print(x,x[0])\n",
    "print(x*y)  # column with element\n",
    "print(y*x)\n",
    "print(x*(y[:,np.newaxis]))  # row with element\n",
    "\n",
    "sx = sp.csc_matrix(x)\n",
    "sy = sp.diags(y,0)\n",
    "print((sx*sy).toarray())  # Column with element\n",
    "print((sy*sx).toarray())  # Row with element"
   ]
  },
  {
   "cell_type": "code",
   "execution_count": 80,
   "metadata": {
    "collapsed": false
   },
   "outputs": [
    {
     "name": "stdout",
     "output_type": "stream",
     "text": [
      "[[1. 1. 0. 0. 0.]\n",
      " [0. 1. 1. 0. 0.]\n",
      " [0. 0. 1. 1. 0.]\n",
      " [0. 0. 0. 1. 1.]\n",
      " [0. 0. 0. 0. 1.]]\n",
      "[[1. 1. 0. 0. 0.]\n",
      " [0. 1. 1. 0. 0.]\n",
      " [0. 0. 1. 1. 0.]\n",
      " [0. 0. 0. 1. 1.]\n",
      " [0. 0. 0. 0. 1.]]\n"
     ]
    }
   ],
   "source": [
    "Nc=5\n",
    "hx=.25\n",
    "print(np.eye(Nc,k=0) + np.eye(Nc,k=1))\n",
    "print(sp.diags([0.25/hx,0.25/hx] ,[0,1],shape=(Nc,Nc)).toarray())"
   ]
  },
  {
   "cell_type": "code",
   "execution_count": null,
   "metadata": {
    "collapsed": true
   },
   "outputs": [],
   "source": []
  }
 ],
 "metadata": {
  "kernelspec": {
   "display_name": "Python 3",
   "language": "python",
   "name": "python3"
  },
  "language_info": {
   "codemirror_mode": {
    "name": "ipython",
    "version": 3
   },
   "file_extension": ".py",
   "mimetype": "text/x-python",
   "name": "python",
   "nbconvert_exporter": "python",
   "pygments_lexer": "ipython3",
   "version": "3.5.6"
  }
 },
 "nbformat": 4,
 "nbformat_minor": 1
}
