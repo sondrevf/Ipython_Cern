{
 "cells": [
  {
   "cell_type": "markdown",
   "metadata": {},
   "source": [
    "# Testing"
   ]
  },
  {
   "cell_type": "code",
   "execution_count": 8,
   "metadata": {
    "collapsed": false
   },
   "outputs": [],
   "source": [
    "%reset -f\n",
    "import numpy as np\n",
    "import matplotlib.pyplot as plt\n",
    "import scipy.stats as st\n",
    "import scipy as sc\n",
    "from matplotlib.colors import LogNorm\n",
    "%matplotlib inline\n",
    "plt.close('All')"
   ]
  },
  {
   "cell_type": "code",
   "execution_count": 279,
   "metadata": {
    "collapsed": false
   },
   "outputs": [
    {
     "data": {
      "text/plain": [
       "array([[0.        , 0.5       , 0.66666667],\n",
       "       [3.        , 2.        , 1.66666667],\n",
       "       [6.        , 3.5       , 2.66666667],\n",
       "       [9.        , 5.        , 3.66666667]])"
      ]
     },
     "execution_count": 279,
     "metadata": {},
     "output_type": "execute_result"
    }
   ],
   "source": [
    "N =4\n",
    "n =3\n",
    "a= np.arange(n*N).reshape((N,n))\n",
    "b = np.linspace(1,n,n)\n",
    "\n",
    "np.divide(a,b)\n"
   ]
  },
  {
   "cell_type": "code",
   "execution_count": 314,
   "metadata": {
    "collapsed": false
   },
   "outputs": [
    {
     "name": "stdout",
     "output_type": "stream",
     "text": [
      "[[ 0  1  2  3  4  5]\n",
      " [ 6  7  8  9 10 11]\n",
      " [12 13 14 15 16 17]\n",
      " [18 19 20 21 22 23]]\n",
      "[2 2 2 2 2 2]\n",
      "[[ 0  2  4  6  8 10]\n",
      " [12 14 16 18 20 22]\n",
      " [24 26 28 30 32 34]\n",
      " [36 38 40 42 44 46]]\n",
      "[27. 30. 33. 36. 39. 42.]\n",
      "[ 12.5  42.5  72.5 102.5]\n",
      "[36 40 44 48 52 56]\n",
      "[ 15  51  87 123]\n"
     ]
    }
   ],
   "source": [
    "Y = np.arange(24).reshape(4,6)\n",
    "y = np.arange(5)/5\n",
    "x = np.arange(7)*2\n",
    "dx = np.diff(x)\n",
    "print(Y)\n",
    "print(dx)\n",
    "print(Y*dx)\n",
    "print(np.trapz(Y,axis=0))\n",
    "print(np.trapz(Y,axis=1))\n",
    "print(np.sum(Y,axis=0))\n",
    "print(np.sum(Y,axis=1))"
   ]
  },
  {
   "cell_type": "code",
   "execution_count": 280,
   "metadata": {
    "collapsed": false
   },
   "outputs": [
    {
     "name": "stderr",
     "output_type": "stream",
     "text": [
      "/home/sfuruset/miniconda3/lib/python3.5/site-packages/ipykernel_launcher.py:3: RuntimeWarning: divide by zero encountered in true_divide\n",
      "  This is separate from the ipykernel package so we can avoid doing imports until\n",
      "/home/sfuruset/miniconda3/lib/python3.5/site-packages/ipykernel_launcher.py:3: RuntimeWarning: invalid value encountered in true_divide\n",
      "  This is separate from the ipykernel package so we can avoid doing imports until\n"
     ]
    },
    {
     "data": {
      "text/plain": [
       "array([[ nan,  1. ,  1. ],\n",
       "       [ inf,  4. ,  2.5],\n",
       "       [ inf,  7. ,  4. ],\n",
       "       [ inf, 10. ,  5.5]])"
      ]
     },
     "execution_count": 280,
     "metadata": {},
     "output_type": "execute_result"
    }
   ],
   "source": [
    "x1 = np.arange(12.0).reshape((4, 3))\n",
    "x2 = np.arange(3.0)\n",
    "np.divide(x1, x2)\n"
   ]
  },
  {
   "cell_type": "code",
   "execution_count": 286,
   "metadata": {
    "collapsed": false
   },
   "outputs": [
    {
     "name": "stdout",
     "output_type": "stream",
     "text": [
      "[[1 2]\n",
      " [3 4]]\n",
      "[1 2]\n",
      "[1 2 3 4]\n",
      "(2, 5)\n",
      "[[0 0 0 0 0]\n",
      " [1 1 1 1 1]]\n",
      "[[1 1 1 1]\n",
      " [1 1 1 1]]\n"
     ]
    }
   ],
   "source": [
    "x = np.array([[1,2],[3,4]])\n",
    "print(x)\n",
    "print(x[0])\n",
    "print(x.reshape(4,))\n",
    "\n",
    "xx = np.arange(5)\n",
    "yy = np.arange(2)\n",
    "X,Y = np.meshgrid(xx,yy)\n",
    "# print(X.reshape(10,))\n",
    "# print(Y.reshape(10,))\n",
    "print(X.shape)\n",
    "print(Y)\n",
    "print(np.diff(X,axis=1))"
   ]
  },
  {
   "cell_type": "code",
   "execution_count": null,
   "metadata": {
    "collapsed": true
   },
   "outputs": [],
   "source": [
    "x = np.linspace(0,5,10)\n",
    "def integrand()\n",
    "sc.integrate.quad("
   ]
  },
  {
   "cell_type": "code",
   "execution_count": 335,
   "metadata": {
    "collapsed": false
   },
   "outputs": [
    {
     "name": "stderr",
     "output_type": "stream",
     "text": [
      "/home/sfuruset/miniconda3/lib/python3.5/site-packages/ipykernel_launcher.py:2: RuntimeWarning: divide by zero encountered in true_divide\n",
      "  \n"
     ]
    },
    {
     "ename": "TypeError",
     "evalue": "only integer scalar arrays can be converted to a scalar index",
     "output_type": "error",
     "traceback": [
      "\u001b[0;31m--------------------------------------------------------------------\u001b[0m",
      "\u001b[0;31mTypeError\u001b[0m                          Traceback (most recent call last)",
      "\u001b[0;32m<ipython-input-335-4596e7004954>\u001b[0m in \u001b[0;36m<module>\u001b[0;34m()\u001b[0m\n\u001b[1;32m      1\u001b[0m \u001b[0mx\u001b[0m\u001b[0;34m=\u001b[0m \u001b[0mnp\u001b[0m\u001b[0;34m.\u001b[0m\u001b[0marange\u001b[0m\u001b[0;34m(\u001b[0m\u001b[0;36m10\u001b[0m\u001b[0;34m)\u001b[0m\u001b[0;34m\u001b[0m\u001b[0m\n\u001b[0;32m----> 2\u001b[0;31m \u001b[0my\u001b[0m \u001b[0;34m=\u001b[0m \u001b[0;34m[\u001b[0m\u001b[0;36m1\u001b[0m\u001b[0;34m,\u001b[0m\u001b[0;36m1\u001b[0m\u001b[0;34m/\u001b[0m\u001b[0mx\u001b[0m\u001b[0;34m]\u001b[0m\u001b[0;34m[\u001b[0m\u001b[0mx\u001b[0m\u001b[0;34m>\u001b[0m\u001b[0;36m4\u001b[0m\u001b[0;34m]\u001b[0m\u001b[0;34m\u001b[0m\u001b[0m\n\u001b[0m\u001b[1;32m      3\u001b[0m \u001b[0mprint\u001b[0m\u001b[0;34m(\u001b[0m\u001b[0my\u001b[0m\u001b[0;34m)\u001b[0m\u001b[0;34m\u001b[0m\u001b[0m\n",
      "\u001b[0;31mTypeError\u001b[0m: only integer scalar arrays can be converted to a scalar index"
     ]
    }
   ],
   "source": [
    "x= np.arange(10)\n",
    "y = [1,1/x][x>4]\n",
    "print(y)"
   ]
  },
  {
   "cell_type": "code",
   "execution_count": 53,
   "metadata": {
    "collapsed": false
   },
   "outputs": [
    {
     "name": "stdout",
     "output_type": "stream",
     "text": [
      "[0 1 2 3] \n",
      " [[0]\n",
      " [1]\n",
      " [2]\n",
      " [3]]\n",
      "[0 1 2 3]\n"
     ]
    }
   ],
   "source": [
    "x = np.arange(4)\n",
    "y = x[:,np.newaxis]\n",
    "\n",
    "print(x,'\\n',y)\n",
    "print(y[:,0])"
   ]
  },
  {
   "cell_type": "code",
   "execution_count": 209,
   "metadata": {
    "collapsed": false
   },
   "outputs": [
    {
     "name": "stdout",
     "output_type": "stream",
     "text": [
      "[[ 0  1  2  3]\n",
      " [ 4  5  6  7]\n",
      " [ 8  9 10 11]] [ 0  1  2  3  4  5  6  7  8  9 10 11] [[2]\n",
      " [3]]\n"
     ]
    }
   ],
   "source": [
    "x= np.arange(12).reshape(3,4)\n",
    "xf=x.flatten()\n",
    "x.flatten()\n",
    "xc = xf[:,np.newaxis]\n",
    "print(x,xf,xc[2:4])"
   ]
  },
  {
   "cell_type": "markdown",
   "metadata": {},
   "source": [
    "## Multiprocessing"
   ]
  },
  {
   "cell_type": "code",
   "execution_count": 371,
   "metadata": {
    "collapsed": true
   },
   "outputs": [],
   "source": [
    "import multiprocessing as mp\n"
   ]
  },
  {
   "cell_type": "code",
   "execution_count": 419,
   "metadata": {
    "collapsed": false
   },
   "outputs": [
    {
     "name": "stdout",
     "output_type": "stream",
     "text": [
      "7 processes\n",
      "20\n",
      "0 [0]\n",
      "1 [1]\n",
      "2 [4]\n",
      "3 [9]\n",
      "4 [36]\n",
      "5 [16]\n",
      "6 [49]\n",
      "7 [100]\n",
      "8 [81]\n",
      "9 [25]\n",
      "10 [196]\n",
      "11 [144]\n",
      "12 [169]\n",
      "13 [225]\n",
      "14 [256]\n",
      "15 [121]\n",
      "16 [324]\n",
      "17 [289]\n",
      "18 [361]\n",
      "19 [64]\n",
      "[array([1., 0., 0.]), array([4., 0., 0.])]\n",
      "[[0. 0. 0.]\n",
      " [1. 0. 0.]\n",
      " [4. 0. 0.]\n",
      " [9. 0. 0.]]\n"
     ]
    }
   ],
   "source": [
    "\n",
    "\n",
    "N = 20   \n",
    "\n",
    "#Paralellisation preperation\n",
    "nProcs = min(N,mp.cpu_count()-1)\n",
    "print(\"%d processes\"%nProcs)\n",
    "pool = mp.Pool(processes = nProcs)\n",
    "procs = []\n",
    "results = []\n",
    "    \n",
    "\n",
    "def collect_result(res):\n",
    "    results.append(res)\n",
    "\n",
    "def worker(args):\n",
    "    [rank] = args\n",
    "    x = rank**2\n",
    "    return [x]\n",
    "\n",
    " \n",
    "    \n",
    "for i in range(N):\n",
    "    # Parallellisation\n",
    "    args = [i]\n",
    "    p = pool.apply_async(worker, args = (args,),callback = collect_result)\n",
    "    procs.append(p)\n",
    "    \n",
    "###################\n",
    "# Join forces again\n",
    "pool.close()    \n",
    "pool.join()\n",
    "\n",
    "\n",
    "print(len(results))\n",
    "\n",
    "for j in range(N):\n",
    "    print(j,results[j])\n",
    "    \n",
    "    \n",
    "    \n",
    "    \n",
    "    \n",
    "def worker2(rank):\n",
    "    x=rank**2\n",
    "    y= np.zeros(3)\n",
    "    y[0]=x\n",
    "    return y\n",
    "N = 20\n",
    "nProcs = min(N,mp.cpu_count()-1)\n",
    "pool = mp.Pool(processes = nProcs)\n",
    "\n",
    "args = [1,2]\n",
    "X = pool.map(worker2,args)\n",
    "print(X)\n",
    "# pool.close()\n",
    "#     i,res,res2 = results[j]\n",
    "\n",
    "# pool = mp.Pool(processes=4)\n",
    "res12 = pool.map(worker2, range(4))\n",
    "print(np.array(res12))\n",
    "\n",
    "pool.close()\n",
    "pool.join()\n",
    "# def parallelize(worker,output,Ntasks):\n",
    "    \n",
    "\n",
    "#     #Paralellisation preperation\n",
    "#     nProcs = min(np.size(Ntasks),mp.cpu_count()-1)\n",
    "#     pool = mp.Pool(processes = nProcs)\n",
    "#     procs  = []\n",
    "#     results= []\n",
    "\n",
    "\n",
    "#     def collect_result(res):\n",
    "#         results.append(res)"
   ]
  },
  {
   "cell_type": "markdown",
   "metadata": {},
   "source": [
    "## exponential distribution"
   ]
  },
  {
   "cell_type": "code",
   "execution_count": 334,
   "metadata": {
    "collapsed": false
   },
   "outputs": [
    {
     "name": "stdout",
     "output_type": "stream",
     "text": [
      "0.8667793623620699\n",
      "0.9994469156298522\n"
     ]
    },
    {
     "data": {
      "image/png": "[encoded data removed]",
      "text/plain": [
       "<Figure size 432x288 with 1 Axes>"
      ]
     },
     "metadata": {
      "needs_background": "light"
     },
     "output_type": "display_data"
    }
   ],
   "source": [
    "N=5\n",
    "x= np.linspace(0,30,N)\n",
    "xc = (x[1:]+x[:-1])/2\n",
    "sig=2\n",
    "psi0 = 1/sig**2*np.exp(-xc/sig**2)\n",
    "psi1 = (np.exp(-x[:-1]/sig**2)-np.exp(-x[1:]/sig**2))/np.diff(x)\n",
    "plt.figure()\n",
    "plt.plot(xc,psi0)\n",
    "plt.plot(xc,psi1)\n",
    "print(np.sum(psi0*np.diff(x)))\n",
    "print(np.sum(psi1*np.diff(x)))"
   ]
  },
  {
   "cell_type": "markdown",
   "metadata": {},
   "source": [
    "# Test chi2 distribution"
   ]
  },
  {
   "cell_type": "code",
   "execution_count": 70,
   "metadata": {
    "collapsed": false
   },
   "outputs": [
    {
     "data": {
      "text/plain": [
       "[<matplotlib.lines.Line2D at 0x7fec15fcca58>]"
      ]
     },
     "execution_count": 70,
     "metadata": {},
     "output_type": "execute_result"
    },
    {
     "data": {
      "image/png": "[encoded data removed]",
      "text/plain": [
       "<matplotlib.figure.Figure at 0x7fec15c53630>"
      ]
     },
     "metadata": {},
     "output_type": "display_data"
    }
   ],
   "source": [
    "x= np.linspace(0,20,100)\n",
    "xi2 = st.chi2.pdf(x,6)\n",
    "\n",
    "plt.figure()\n",
    "plt.semilogy(x,xi2)\n"
   ]
  },
  {
   "cell_type": "code",
   "execution_count": 71,
   "metadata": {
    "collapsed": false
   },
   "outputs": [
    {
     "data": {
      "image/png": "[encoded data removed]",
      "text/plain": [
       "<matplotlib.figure.Figure at 0x7fec15fe6358>"
      ]
     },
     "metadata": {},
     "output_type": "display_data"
    }
   ],
   "source": [
    "N = int(1e4)\n",
    "y = np.random.randn(N)\n",
    "x = np.random.randn(N)\n",
    "j = 0.5*(x**2 + y**2)\n",
    "\n",
    "plt.figure()\n",
    "plt.hist(j,bins=1000);"
   ]
  },
  {
   "cell_type": "code",
   "execution_count": 73,
   "metadata": {
    "collapsed": false
   },
   "outputs": [
    {
     "name": "stdout",
     "output_type": "stream",
     "text": [
      "(5, 10)\n"
     ]
    }
   ],
   "source": [
    "a  = np.arange(10)\n",
    "aa = []\n",
    "\n",
    "for i in range(5):\n",
    "    aa += [a+i]\n",
    "    \n",
    "aa = np.array(aa)\n",
    "print(np.shape(aa))\n",
    "dj = np.polyfit(np.arange(5),aa,1)[0]"
   ]
  },
  {
   "cell_type": "code",
   "execution_count": 74,
   "metadata": {
    "collapsed": false
   },
   "outputs": [
    {
     "data": {
      "text/plain": [
       "array([ 1.,  1.,  1.,  1.,  1.,  1.,  1.,  1.,  1.,  1.])"
      ]
     },
     "execution_count": 74,
     "metadata": {},
     "output_type": "execute_result"
    }
   ],
   "source": [
    "dj"
   ]
  },
  {
   "cell_type": "code",
   "execution_count": 97,
   "metadata": {
    "collapsed": false
   },
   "outputs": [
    {
     "name": "stdout",
     "output_type": "stream",
     "text": [
      "0.6666666666666666\n",
      "0.57735026919\n"
     ]
    }
   ],
   "source": [
    "D = 1\n",
    "sig = D/np.sqrt(3)\n",
    "var = D**3/3*2 /D\n",
    "print(var)\n",
    "sig = D/np.sqrt(3)\n",
    "print(sig)"
   ]
  },
  {
   "cell_type": "code",
   "execution_count": 101,
   "metadata": {
    "collapsed": false
   },
   "outputs": [
    {
     "data": {
      "text/plain": [
       "[<matplotlib.lines.Line2D at 0x7fec15b51748>]"
      ]
     },
     "execution_count": 101,
     "metadata": {},
     "output_type": "execute_result"
    },
    {
     "data": {
      "image/png": "[encoded data removed]",
      "text/plain": [
       "<matplotlib.figure.Figure at 0x7fec15b515c0>"
      ]
     },
     "metadata": {},
     "output_type": "display_data"
    }
   ],
   "source": [
    "x = np.linspace(0.1,10,100)\n",
    "f1 = 1/(1+x+np.sqrt(x*(1+x)))\n",
    "f2 = 1-1/(np.sqrt(1+1/x))\n",
    "plt.figure()\n",
    "plt.plot(x,f1,'r')\n",
    "plt.plot(x,f2,'b--')"
   ]
  },
  {
   "cell_type": "markdown",
   "metadata": {
    "collapsed": true
   },
   "source": [
    "# 2D histogram"
   ]
  },
  {
   "cell_type": "code",
   "execution_count": 232,
   "metadata": {
    "collapsed": false
   },
   "outputs": [],
   "source": [
    "N = int(4e6)\n",
    "a = (np.random.randn(N))**2\n",
    "b = np.random.randn(N)+0.1*a**2\n",
    "nbin = 50\n",
    "xedge = np.linspace(0,np.max(a),nbin+1)\n",
    "ns,xs = np.histogram(a,bins=xedge)\n",
    "\n",
    "def centerit(x):\n",
    "    return x[1:]-np.diff(x[:2])[0]*0.5"
   ]
  },
  {
   "cell_type": "code",
   "execution_count": 237,
   "metadata": {
    "collapsed": false
   },
   "outputs": [
    {
     "name": "stdout",
     "output_type": "stream",
     "text": [
      "10 loops, best of 3: 457 ms per loop\n"
     ]
    }
   ],
   "source": [
    "%%timeit -n 10\n",
    "\n",
    "H,xedges,yedges = np.histogram2d(a,b,nbin,range=[[0,np.max(a)],[-np.max(b),np.max(b)]],normed=False);\n",
    "H = H.transpose()\n",
    "X,Y = np.meshgrid(xedges, yedges);\n",
    "ind = np.sum(H,axis=0)>0\n",
    "avg = np.average(Y[1:,1:][:,ind],weights=H[:,ind],axis =0)-np.diff(yedges)[0]*0.5\n"
   ]
  },
  {
   "cell_type": "code",
   "execution_count": 238,
   "metadata": {
    "collapsed": false
   },
   "outputs": [
    {
     "name": "stderr",
     "output_type": "stream",
     "text": [
      "/home/sfuruset/miniconda3/lib/python3.5/site-packages/numpy/core/_methods.py:59: RuntimeWarning: Mean of empty slice.\n",
      "  warnings.warn(\"Mean of empty slice.\", RuntimeWarning)\n",
      "/home/sfuruset/miniconda3/lib/python3.5/site-packages/numpy/core/_methods.py:70: RuntimeWarning: invalid value encountered in double_scalars\n",
      "  ret = ret.dtype.type(ret / rcount)\n"
     ]
    },
    {
     "name": "stdout",
     "output_type": "stream",
     "text": [
      "10 loops, best of 3: 948 ms per loop\n"
     ]
    }
   ],
   "source": [
    "%%timeit -n 10\n",
    "\n",
    "xc = centerit(xedge)\n",
    "avg2 = np.zeros_like(xc)\n",
    "ns = np.zeros_like(xc)\n",
    "for i,a1 in enumerate(xedge[:-1]):\n",
    "    a2 = xedge[i+1]\n",
    "    ind2 = np.logical_and(a>=a1,a<a2)\n",
    "#     if np.any(ind2):\n",
    "    avg2[i] = np.mean(b[ind2])\n",
    "#     else:\n",
    "    ns[i] = np.sum(ind2)\n",
    "#         avg2[i] =np.nan\n",
    "\n",
    "# print(xc.shape,ns.shape)\n",
    "# print(avg2)\n",
    "# avg2 = avg2[ns>0]\n",
    "# xc = xc[ns>0]"
   ]
  },
  {
   "cell_type": "code",
   "execution_count": 240,
   "metadata": {
    "collapsed": false
   },
   "outputs": [
    {
     "name": "stdout",
     "output_type": "stream",
     "text": [
      "10 loops, best of 3: 372 ms per loop\n"
     ]
    }
   ],
   "source": [
    "%%timeit -n 10\n",
    "ys,xs = np.histogram(a,bins=xedge,weights=b)\n",
    "# ns,xs = np.histogram(a,bins=xedge)\n",
    "xs = centerit(xs)\n",
    "# ys[ns==0]=np.nan\n",
    "ys=ys[ns>0]/ns[[ns>0]]\n",
    "xs = xs[ns>0]\n",
    "\n",
    "# print(xs.shape,ys.shape)\n",
    "# print(ns)"
   ]
  },
  {
   "cell_type": "code",
   "execution_count": 236,
   "metadata": {
    "collapsed": false
   },
   "outputs": [
    {
     "data": {
      "text/plain": [
       "(-1, 40)"
      ]
     },
     "execution_count": 236,
     "metadata": {},
     "output_type": "execute_result"
    },
    {
     "data": {
      "image/png": "[encoded data removed]",
      "text/plain": [
       "<matplotlib.figure.Figure at 0x7f6c616e8898>"
      ]
     },
     "metadata": {},
     "output_type": "display_data"
    }
   ],
   "source": [
    "fig = plt.figure()\n",
    "ax1 = fig.add_subplot(111)\n",
    "# pcm=plt.pcolor(X,Y,H,norm =LogNorm(vmin=1,vmax=10),cmap='rainbow');\n",
    "plt.colorbar(pcm, ax=ax1, extend='max')\n",
    "xcenter = xedges[1:]-np.diff(xedges)[0]*0.5\n",
    "ycenter = yedges[1:]-np.diff(yedges)[0]*0.5\n",
    "\n",
    "plt.plot(xcenter[ind],avg,'r-3')\n",
    "plt.plot(xc,avg2,'b-1')\n",
    "plt.plot(xs,ys,'g-2')\n",
    "plt.ylim(-1,40)"
   ]
  },
  {
   "cell_type": "code",
   "execution_count": 203,
   "metadata": {
    "collapsed": false
   },
   "outputs": [
    {
     "name": "stdout",
     "output_type": "stream",
     "text": [
      "[  2.4265368   7.2796104  12.132684   16.9857576  21.8388312] [  2.4265368   7.2796104  12.132684   16.9857576  21.8388312]\n"
     ]
    }
   ],
   "source": [
    "print(xs,xc)"
   ]
  },
  {
   "cell_type": "code",
   "execution_count": 7,
   "metadata": {
    "collapsed": false
   },
   "outputs": [
    {
     "data": {
      "text/plain": [
       "0.07500000000000001"
      ]
     },
     "execution_count": 7,
     "metadata": {},
     "output_type": "execute_result"
    }
   ],
   "source": [
    "0.25e-9*3e8"
   ]
  },
  {
   "cell_type": "code",
   "execution_count": 10,
   "metadata": {
    "collapsed": false
   },
   "outputs": [
    {
     "data": {
      "text/plain": [
       "[<matplotlib.lines.Line2D at 0x7f5c6fb3c128>]"
      ]
     },
     "execution_count": 10,
     "metadata": {},
     "output_type": "execute_result"
    },
    {
     "data": {
      "image/png": "[encoded data removed]",
      "text/plain": [
       "<matplotlib.figure.Figure at 0x7f5c6fb9edd8>"
      ]
     },
     "metadata": {},
     "output_type": "display_data"
    }
   ],
   "source": [
    "x= np.arange(100)\n",
    "plt.figure()\n",
    "plt.plot(x,0.1*x,'--')\n",
    "plt.plot(x,0.2*x,'-.')\n",
    "plt.plot(x,0.4*x,':')"
   ]
  },
  {
   "cell_type": "code",
   "execution_count": 52,
   "metadata": {
    "collapsed": false
   },
   "outputs": [
    {
     "name": "stderr",
     "output_type": "stream",
     "text": [
      "/home/sfuruset/miniconda3/lib/python3.5/site-packages/ipykernel/__main__.py:18: RuntimeWarning: invalid value encountered in true_divide\n",
      "/home/sfuruset/miniconda3/lib/python3.5/site-packages/ipykernel/__main__.py:42: RuntimeWarning: invalid value encountered in true_divide\n"
     ]
    },
    {
     "data": {
      "text/plain": [
       "[<matplotlib.lines.Line2D at 0x7f5c67550e80>]"
      ]
     },
     "execution_count": 52,
     "metadata": {},
     "output_type": "execute_result"
    },
    {
     "data": {
      "image/png": "[encoded data removed]",
      "text/plain": [
       "<matplotlib.figure.Figure at 0x7f5c67c15080>"
      ]
     },
     "metadata": {},
     "output_type": "display_data"
    },
    {
     "data": {
      "image/png": "[encoded data removed]",
      "text/plain": [
       "<matplotlib.figure.Figure at 0x7f5c672f7e80>"
      ]
     },
     "metadata": {},
     "output_type": "display_data"
    },
    {
     "data": {
      "image/png": "[encoded data removed]",
      "text/plain": [
       "<matplotlib.figure.Figure at 0x7f5c674bc240>"
      ]
     },
     "metadata": {},
     "output_type": "display_data"
    },
    {
     "data": {
      "image/png": "[encoded data removed]",
      "text/plain": [
       "<matplotlib.figure.Figure at 0x7f5c679d2e80>"
      ]
     },
     "metadata": {},
     "output_type": "display_data"
    }
   ],
   "source": [
    "def centerit(edges):\n",
    "    return edges[1:]-(edges[1]-edges[0])*0.5\n",
    "\n",
    "N=np.int(1e4)\n",
    "a0 =np.random.normal(0,1,N)\n",
    "a=a0.copy()\n",
    "for i in range(10000):\n",
    "#     a += np.random.normal(0,0.01,N)\n",
    "    a+= 0.01*np.cos(np.random.uniform(0,2*np.pi,N))\n",
    "j0 = a0**2\n",
    "j = a**2\n",
    "da = a-a0\n",
    "dj = j-j0\n",
    "\n",
    "plt.figure()\n",
    "ns,xs = np.histogram(j0,bins=100)\n",
    "dbs,_ = np.histogram(j0,bins=100,weights=dj)\n",
    "dbs = dbs/ns\n",
    "plt.plot(centerit(xs),dbs)\n",
    "\n",
    "\n",
    "plt.figure()\n",
    "plt.hist(a0,bins=100,normed=True)\n",
    "plt.hist(a,bins=100,normed=True)\n",
    "# b =np.random.normal(0,2,N)\n",
    "# b=a*2\n",
    "\n",
    "\n",
    "#################\n",
    "a= np.random.chisquare(2,N)\n",
    "b= np.random.chisquare(2,N)*2\n",
    "b=a*2\n",
    "dba=b-a\n",
    "\n",
    "plt.figure()\n",
    "plt.hist(b,bins=100)\n",
    "plt.hist(a,bins=100)\n",
    "\n",
    "plt.figure()\n",
    "ns,xs = np.histogram(a,bins=100)\n",
    "dbs,_ = np.histogram(a,bins=100,weights=dba)\n",
    "dbs = dbs/ns\n",
    "plt.plot(centerit(xs),dbs)"
   ]
  },
  {
   "cell_type": "markdown",
   "metadata": {
    "collapsed": true
   },
   "source": [
    "# Save txt files"
   ]
  },
  {
   "cell_type": "code",
   "execution_count": 7,
   "metadata": {
    "collapsed": false
   },
   "outputs": [
    {
     "name": "stdout",
     "output_type": "stream",
     "text": [
      "[ 0.          0.11111111  0.22222222  0.33333333  0.44444444  0.55555556\n",
      "  0.66666667  0.77777778  0.88888889  1.        ] [ 0.          0.22222222  0.44444444  0.66666667  0.88888889  1.11111111\n",
      "  1.33333333  1.55555556  1.77777778  2.        ]\n"
     ]
    }
   ],
   "source": [
    "x = np.linspace(0,1,10)\n",
    "np.savetxt('test.txt',[x,2*x])\n",
    "a,b = np.loadtxt('test.txt')\n",
    "print(a,b)"
   ]
  },
  {
   "cell_type": "code",
   "execution_count": 20,
   "metadata": {
    "collapsed": false
   },
   "outputs": [
    {
     "data": {
      "text/plain": [
       "array([ 0.,  1.])"
      ]
     },
     "execution_count": 20,
     "metadata": {},
     "output_type": "execute_result"
    }
   ],
   "source": [
    "x = np.array([])\n",
    "x = np.concatenate((x,np.arange(2)),axis=0)\n",
    "x = np.concatenate((x,np.arange(2)),axis=0)\n",
    "x = np.unique(x)\n",
    "x"
   ]
  },
  {
   "cell_type": "markdown",
   "metadata": {
    "collapsed": true
   },
   "source": [
    "# Lists etc"
   ]
  },
  {
   "cell_type": "code",
   "execution_count": 31,
   "metadata": {
    "collapsed": false
   },
   "outputs": [
    {
     "data": {
      "text/plain": [
       "2"
      ]
     },
     "execution_count": 31,
     "metadata": {},
     "output_type": "execute_result"
    }
   ],
   "source": [
    "a = {'a':1, 'b':2}\n",
    "a['b']\n"
   ]
  },
  {
   "cell_type": "code",
   "execution_count": 32,
   "metadata": {
    "collapsed": false
   },
   "outputs": [],
   "source": [
    "a.update({4:4})"
   ]
  },
  {
   "cell_type": "code",
   "execution_count": 33,
   "metadata": {
    "collapsed": false
   },
   "outputs": [
    {
     "data": {
      "text/plain": [
       "4"
      ]
     },
     "execution_count": 33,
     "metadata": {},
     "output_type": "execute_result"
    }
   ],
   "source": [
    "a[4]"
   ]
  },
  {
   "cell_type": "code",
   "execution_count": 260,
   "metadata": {
    "collapsed": false
   },
   "outputs": [
    {
     "data": {
      "text/plain": [
       "array([0.])"
      ]
     },
     "execution_count": 260,
     "metadata": {},
     "output_type": "execute_result"
    }
   ],
   "source": [
    "np.linspace(0,1,1)"
   ]
  },
  {
   "cell_type": "code",
   "execution_count": 29,
   "metadata": {
    "collapsed": false
   },
   "outputs": [
    {
     "name": "stdout",
     "output_type": "stream",
     "text": [
      "1 yes\n",
      "2 yes\n"
     ]
    },
    {
     "data": {
      "text/plain": [
       "'sondre2'"
      ]
     },
     "execution_count": 29,
     "metadata": {},
     "output_type": "execute_result"
    }
   ],
   "source": [
    "son = 'sondre'\n",
    "NAMES = [son+'1',son+'2',son+'3','michael']\n",
    "for i,name in enumerate(NAMES):\n",
    "    if name[:4] == NAMES[i-1][:4]:\n",
    "        print(i,'yes')\n",
    "NAMES[1]    "
   ]
  },
  {
   "cell_type": "code",
   "execution_count": 21,
   "metadata": {
    "collapsed": false
   },
   "outputs": [
    {
     "name": "stdout",
     "output_type": "stream",
     "text": [
      "[array([0]), array([0])] [0]\n",
      "[[1, 2], array([0])]\n"
     ]
    }
   ],
   "source": [
    "a = [np.arange(1),np.arange(1)]\n",
    "print(a,a[0])\n",
    "a[0]=[1,2]\n",
    "print(a)"
   ]
  },
  {
   "cell_type": "code",
   "execution_count": 27,
   "metadata": {
    "collapsed": false
   },
   "outputs": [
    {
     "data": {
      "text/plain": [
       "4"
      ]
     },
     "execution_count": 27,
     "metadata": {},
     "output_type": "execute_result"
    }
   ],
   "source": [
    "a = np.array([1,1,1,1,2,2,2,2,3])\n",
    "np.where(a==2)[0][0]"
   ]
  },
  {
   "cell_type": "markdown",
   "metadata": {},
   "source": [
    "# Impedance"
   ]
  },
  {
   "cell_type": "code",
   "execution_count": 6,
   "metadata": {
    "collapsed": false
   },
   "outputs": [
    {
     "data": {
      "text/plain": [
       "(0, 1)"
      ]
     },
     "execution_count": 6,
     "metadata": {},
     "output_type": "execute_result"
    },
    {
     "data": {
      "image/png": "[encoded data removed]",
      "text/plain": [
       "<matplotlib.figure.Figure at 0x7f7e2d4e8a58>"
      ]
     },
     "metadata": {},
     "output_type": "display_data"
    }
   ],
   "source": [
    "# Reduced gain\n",
    "g =0.02\n",
    "g2 = g/2\n",
    "\n",
    "pi2 = 2*np.pi\n",
    "a=1e-4\n",
    "J = np.linspace(0,10,100)\n",
    "dmu = a*pi2*(J-1)\n",
    "plt.plot(J,1/(1+(dmu/g2)**2))\n",
    "plt.ylim(0,1)"
   ]
  },
  {
   "cell_type": "markdown",
   "metadata": {
    "collapsed": true
   },
   "source": [
    "# Error bar in polyfit"
   ]
  },
  {
   "cell_type": "code",
   "execution_count": 38,
   "metadata": {
    "collapsed": true
   },
   "outputs": [],
   "source": [
    "yerr = np.random.randn(N)"
   ]
  },
  {
   "cell_type": "code",
   "execution_count": 53,
   "metadata": {
    "collapsed": false
   },
   "outputs": [
    {
     "name": "stdout",
     "output_type": "stream",
     "text": [
      "[ -5.28303308e-03   5.28303293e+06] \n",
      " [[ -6.36105439e-05   6.36105455e+04]\n",
      " [  6.36105455e+04  -6.36105470e+13]]\n"
     ]
    },
    {
     "name": "stderr",
     "output_type": "stream",
     "text": [
      "/home/sfuruset/miniconda3/lib/python3.5/site-packages/ipykernel/__main__.py:12: RuntimeWarning: invalid value encountered in sqrt\n"
     ]
    },
    {
     "data": {
      "text/plain": [
       "[<matplotlib.lines.Line2D at 0x7f74890daa58>]"
      ]
     },
     "execution_count": 53,
     "metadata": {},
     "output_type": "execute_result"
    },
    {
     "data": {
      "image/png": "[encoded data removed]",
      "text/plain": [
       "<matplotlib.figure.Figure at 0x7f748978b320>"
      ]
     },
     "metadata": {},
     "output_type": "display_data"
    }
   ],
   "source": [
    "N = 50\n",
    "x = np.arange(N)+1e9\n",
    "y1 = x*0 + yerr\n",
    "y2 = x*0.5+np.random.randn(N)*2\n",
    "\n",
    "popt,pcov = np.polyfit(x,y1,deg=1,full=False,cov=True)\n",
    "print(popt,'\\n',pcov)\n",
    "\n",
    "plt.figure()\n",
    "plt.plot(x,y1)\n",
    "plt.plot(x,popt[0]*x+popt[1])\n",
    "plt.plot(x,popt[0]*x+popt[1]+np.sqrt(pcov[0,0])*x,'r:')\n",
    "# plt.plot(x,popt[0]*x+popt[1]-np.sqrt(pcov[1,1]),'r:')"
   ]
  },
  {
   "cell_type": "markdown",
   "metadata": {},
   "source": [
    "# x= np.arange(10)\n"
   ]
  },
  {
   "cell_type": "code",
   "execution_count": 232,
   "metadata": {
    "collapsed": false
   },
   "outputs": [
    {
     "name": "stdout",
     "output_type": "stream",
     "text": [
      "[0 1 2 3 4 5 6 7 8 9]\n",
      "[0 1 2 3 4 5 6 7 8 9]\n",
      "[0 1 2 3 4 5 6 7 8]\n",
      "[0 1 2 3 4 5 6 7 8 9]\n"
     ]
    }
   ],
   "source": [
    "x= np.arange(10)\n",
    "x[1:]\n",
    "obj = [slice(0,None,1),slice(0,None,1)]\n",
    "\n",
    "print(x[slice(0,None,1)])\n",
    "print(x[slice(None,None,1)])\n",
    "print(x[slice(0,-1)])\n",
    "print(x[slice(0,None,1)])"
   ]
  },
  {
   "cell_type": "code",
   "execution_count": 52,
   "metadata": {
    "collapsed": false
   },
   "outputs": [
    {
     "name": "stdout",
     "output_type": "stream",
     "text": [
      "[0.   0.25 0.5  0.75 1.  ] [2.  2.5 3. ]\n",
      "[[0.   0.25 0.5  0.75 1.  ]\n",
      " [0.   0.25 0.5  0.75 1.  ]\n",
      " [0.   0.25 0.5  0.75 1.  ]]\n",
      "[[2.5 2.5 2.5 2.5 2.5]\n",
      " [3.  3.  3.  3.  3. ]]\n",
      "[0.25 0.5  0.75 1.   0.25 0.5  0.75 1.   0.25 0.5  0.75 1.  ]\n",
      "[0.25 0.5  0.75 1.   0.25 0.5  0.75 1.   0.25 0.5  0.75 1.  ]\n",
      "[0.   0.25 0.5  0.75 0.   0.25 0.5  0.75 0.   0.25 0.5  0.75]\n"
     ]
    }
   ],
   "source": [
    "x = np.arange(5)/4\n",
    "y = np.arange(3)/2 +2\n",
    "print(x,y)\n",
    "X,Y = np.meshgrid(x,y)\n",
    "xx = X.flatten()\n",
    "yy = Y.flatten()\n",
    "index = np.ones(15).astype(int)\n",
    "index[0::5]=0\n",
    "xxE = (np.delete(X,(0),axis=1)).flatten()\n",
    "xxW = (np.delete(X,(-1),axis=1)).flatten()\n",
    "xxE2 = X[:,1:].flatten()\n",
    "print(X[obj])\n",
    "print(Y[1:,:])\n",
    "print(xxE)\n",
    "print(xxE2)\n",
    "print(xxW)"
   ]
  },
  {
   "cell_type": "code",
   "execution_count": 262,
   "metadata": {
    "collapsed": false
   },
   "outputs": [
    {
     "name": "stdout",
     "output_type": "stream",
     "text": [
      "[[0. 1. 1. 0. 1. 1. 0. 1. 1.]]\n",
      "[[0 0 0 0 0 0 0 0 0]]\n",
      "[0. 1. 1. 0. 1. 1. 0. 1. 1.]\n"
     ]
    }
   ],
   "source": [
    "X,Y = np.meshgrid(x,0)\n",
    "print(X)\n",
    "print(Y)\n",
    "print(X[0])"
   ]
  },
  {
   "cell_type": "code",
   "execution_count": 238,
   "metadata": {
    "collapsed": false
   },
   "outputs": [
    {
     "name": "stdout",
     "output_type": "stream",
     "text": [
      "[[0 0 0 0]\n",
      " [0 1 2 3]\n",
      " [0 2 4 6]\n",
      " [0 3 6 9]] [[0 1 2 3]\n",
      " [1 2 3 4]\n",
      " [2 3 4 5]\n",
      " [3 4 5 6]]\n",
      "[[0]\n",
      " [1]\n",
      " [2]\n",
      " [3]] [0 1 2 3]\n",
      "[[0 1 2 3]]\n",
      "[[0 1 2 3]]\n"
     ]
    }
   ],
   "source": [
    "c = np.arange(4)[:,np.newaxis]\n",
    "r = np.arange(4)\n",
    "print(c*r,c+r)\n",
    "print(c,c[:,0])\n",
    "print(c.T)\n",
    "print(c.T)"
   ]
  },
  {
   "cell_type": "code",
   "execution_count": 269,
   "metadata": {
    "collapsed": false
   },
   "outputs": [
    {
     "name": "stdout",
     "output_type": "stream",
     "text": [
      "[[1. 1. 0. 0. 0. 0. 0. 0. 0.]\n",
      " [0. 1. 1. 0. 0. 0. 0. 0. 0.]\n",
      " [0. 0. 3. 0. 0. 0. 0. 0. 0.]\n",
      " [0. 0. 0. 1. 1. 0. 0. 0. 0.]\n",
      " [0. 0. 0. 0. 1. 1. 0. 0. 0.]\n",
      " [0. 0. 0. 0. 0. 3. 0. 0. 0.]\n",
      " [0. 0. 0. 0. 0. 0. 1. 1. 0.]\n",
      " [0. 0. 0. 0. 0. 0. 0. 1. 1.]\n",
      " [0. 0. 0. 0. 0. 0. 0. 0. 3.]]\n",
      "[[1.         0.5        0.         0.         0.         0.\n",
      "  0.         0.         0.        ]\n",
      " [0.         0.5        0.33333333 0.         0.         0.\n",
      "  0.         0.         0.        ]\n",
      " [0.         0.         1.         0.         0.         0.\n",
      "  0.         0.         0.        ]\n",
      " [0.         0.         0.         0.25       0.2        0.\n",
      "  0.         0.         0.        ]\n",
      " [0.         0.         0.         0.         0.2        0.16666667\n",
      "  0.         0.         0.        ]\n",
      " [0.         0.         0.         0.         0.         0.5\n",
      "  0.         0.         0.        ]\n",
      " [0.         0.         0.         0.         0.         0.\n",
      "  0.14285714 0.125      0.        ]\n",
      " [0.         0.         0.         0.         0.         0.\n",
      "  0.         0.125      0.11111111]\n",
      " [0.         0.         0.         0.         0.         0.\n",
      "  0.         0.         0.33333333]]\n",
      "[1. 3. 1.]\n"
     ]
    }
   ],
   "source": [
    "N = 9\n",
    "x0= np.ones(N)\n",
    "x = x0.copy()\n",
    "\n",
    "x0[2::3]=3\n",
    "x[::3]=0\n",
    "V =np.arange(N)+1\n",
    "M = sp.diags([x0,x[1:]],offsets=(0,1),shape=(N,N))\n",
    "print(M.toarray())\n",
    "print(M/V)\n",
    "\n",
    "sl = [1,2,3]\n",
    "print(M.toarray()[sl,sl])"
   ]
  },
  {
   "cell_type": "code",
   "execution_count": 6,
   "metadata": {
    "collapsed": false
   },
   "outputs": [
    {
     "ename": "AttributeError",
     "evalue": "'NoneType' object has no attribute 'show'",
     "output_type": "error",
     "traceback": [
      "\u001b[0;31m--------------------------------------------------------------------\u001b[0m",
      "\u001b[0;31mAttributeError\u001b[0m                     Traceback (most recent call last)",
      "\u001b[0;32m<ipython-input-6-0b5c4244b390>\u001b[0m in \u001b[0;36m<module>\u001b[0;34m()\u001b[0m\n\u001b[1;32m     24\u001b[0m \u001b[0;34m\u001b[0m\u001b[0m\n\u001b[1;32m     25\u001b[0m \u001b[0ma\u001b[0m \u001b[0;34m=\u001b[0m \u001b[0mchild\u001b[0m\u001b[0;34m.\u001b[0m\u001b[0m__init2__\u001b[0m\u001b[0;34m(\u001b[0m\u001b[0mchild\u001b[0m\u001b[0;34m,\u001b[0m\u001b[0;36m2\u001b[0m\u001b[0;34m)\u001b[0m\u001b[0;34m\u001b[0m\u001b[0m\n\u001b[0;32m---> 26\u001b[0;31m \u001b[0ma\u001b[0m\u001b[0;34m.\u001b[0m\u001b[0mshow\u001b[0m\u001b[0;34m(\u001b[0m\u001b[0;34m)\u001b[0m\u001b[0;34m\u001b[0m\u001b[0m\n\u001b[0m",
      "\u001b[0;31mAttributeError\u001b[0m: 'NoneType' object has no attribute 'show'"
     ]
    }
   ],
   "source": [
    "class parent(object):\n",
    "    def __init__(self):\n",
    "        self.a=1\n",
    "        self.b=2\n",
    "        return\n",
    "    def show(self):\n",
    "        print('person ',self.c)\n",
    "class child(parent):\n",
    "    def __init__(self):\n",
    "        parent.__init__(self)\n",
    "        self.c=3\n",
    "        return\n",
    "    \n",
    "    def __init2__(self,c):\n",
    "        self.__init__(self)\n",
    "        self.c=c\n",
    "        return\n",
    "    \n",
    "    def set_func(self,x,y):\n",
    "        self.func = sc.interpolate.interp1d(x,y,kind=['quadratic'][0])\n",
    "        \n",
    "    def get_val(self,x):\n",
    "        return self.func(x)\n",
    "    \n",
    "a = child.__init2__(child,2)\n",
    "a.show()\n",
    "\n"
   ]
  },
  {
   "cell_type": "code",
   "execution_count": 438,
   "metadata": {
    "collapsed": false
   },
   "outputs": [],
   "source": [
    "x = np.arange(10)\n",
    "y = x**2\n",
    "a.set_func(x,y)\n",
    "x2 = np.linspace(0,9,100)\n",
    "y2 = a.get_val(x2)\n"
   ]
  },
  {
   "cell_type": "code",
   "execution_count": 439,
   "metadata": {
    "collapsed": false
   },
   "outputs": [
    {
     "data": {
      "text/plain": [
       "[<matplotlib.lines.Line2D at 0x7f773c12c630>]"
      ]
     },
     "execution_count": 439,
     "metadata": {},
     "output_type": "execute_result"
    },
    {
     "data": {
      "image/png": "[encoded data removed]",
      "text/plain": [
       "<Figure size 432x288 with 1 Axes>"
      ]
     },
     "metadata": {
      "needs_background": "light"
     },
     "output_type": "display_data"
    }
   ],
   "source": [
    "plt.figure()\n",
    "plt.plot(x,y,'ro')\n",
    "plt.plot(x2,y2,'b')"
   ]
  },
  {
   "cell_type": "markdown",
   "metadata": {},
   "source": [
    "## Interpolation"
   ]
  },
  {
   "cell_type": "code",
   "execution_count": 562,
   "metadata": {
    "collapsed": false
   },
   "outputs": [
    {
     "name": "stdout",
     "output_type": "stream",
     "text": [
      "[0.   0.45 0.9 ] [1. 2.]\n",
      "(2, 3) (2, 3)\n",
      "Y [1. 1. 1.]\n",
      "[1. 1. 1. 2. 2. 2.]\n",
      "X [0. 0.]\n",
      "[0.   0.45 0.9  0.   0.45 0.9 ]\n",
      "[[0.   0.45 0.9 ]\n",
      " [0.   0.45 0.9 ]]\n",
      "(3, 2) (3, 2)\n",
      "Y [1. 2.]\n",
      "[1. 2. 1. 2. 1. 2.]\n",
      "X [0.   0.45 0.9 ]\n",
      "[0.   0.   0.45 0.45 0.9  0.9 ]\n",
      "[[0.   0.   0.45]\n",
      " [0.45 0.9  0.9 ]]\n"
     ]
    }
   ],
   "source": [
    "x = np.linspace(0,.9,3)\n",
    "y = np.linspace(1,2,2)\n",
    "print(x,y)\n",
    "for i in range(2):\n",
    "    X,Y = np.meshgrid(x,y,indexing=['xy','ij'][i])\n",
    "    print(X.shape,Y.shape)\n",
    "    \n",
    "    print('Y',Y[0,:])\n",
    "    print(Y.flatten())\n",
    "    print('X',X[:,0])\n",
    "    print(X.flatten())\n",
    "    print(X.flatten().reshape((2,3)))"
   ]
  },
  {
   "cell_type": "code",
   "execution_count": 604,
   "metadata": {
    "collapsed": false
   },
   "outputs": [
    {
     "name": "stdout",
     "output_type": "stream",
     "text": [
      "[0. 0. 0. 0. 0.]\n",
      "changed element 6.0 0.0\n",
      "Z (5, 10)\n",
      "False\n",
      "False\n",
      "Z2 (40, 10)\n",
      "(10, 40)\n"
     ]
    },
    {
     "name": "stderr",
     "output_type": "stream",
     "text": [
      "/home/sfuruset/miniconda3/lib/python3.5/site-packages/ipykernel_launcher.py:30: DeprecationWarning: elementwise == comparison failed; this will raise an error in the future.\n"
     ]
    },
    {
     "data": {
      "text/plain": [
       "<matplotlib.collections.PolyCollection at 0x7f76445eab70>"
      ]
     },
     "execution_count": 604,
     "metadata": {},
     "output_type": "execute_result"
    },
    {
     "data": {
      "image/png": "[encoded data removed]",
      "text/plain": [
       "<Figure size 432x288 with 1 Axes>"
      ]
     },
     "metadata": {
      "needs_background": "light"
     },
     "output_type": "display_data"
    },
    {
     "data": {
      "image/png": "[encoded data removed]",
      "text/plain": [
       "<Figure size 432x288 with 1 Axes>"
      ]
     },
     "metadata": {
      "needs_background": "light"
     },
     "output_type": "display_data"
    },
    {
     "data": {
      "image/png": "[encoded data removed]",
      "text/plain": [
       "<Figure size 432x288 with 1 Axes>"
      ]
     },
     "metadata": {
      "needs_background": "light"
     },
     "output_type": "display_data"
    }
   ],
   "source": [
    "x = np.linspace(0,6,10)\n",
    "y = np.linspace(0,6,5)\n",
    "X,Y = np.meshgrid(x,y,indexing='xy')\n",
    "print(X[:,0])\n",
    "\n",
    "Z = np.sin(X)*np.exp(-Y/5)+1\n",
    "Z[0,-1]=4\n",
    "print('changed element',X[0,-1],Y[0,-1])\n",
    "# Z = Z.T\n",
    "plt.figure()\n",
    "plt.pcolor(Z)\n",
    "\n",
    "print('Z',Z.shape)\n",
    "# interp1 = sc.interpolate.NearestNDInterpolator((x,y),Z)\n",
    "interp2 = sc.interpolate.RectBivariateSpline(x,y,Z.T,kx=1,ky=1)\n",
    "interp3 = sc.interpolate.RegularGridInterpolator((x,y),Z.T,method=\"nearest\",bounds_error=False,fill_value=None)\n",
    "\n",
    "x2= np.linspace(-1,7,40)\n",
    "y2= np.linspace(-1,10,10)\n",
    "X2,Y2 = np.meshgrid(x2,y2,indexing='xy')\n",
    "\n",
    "\n",
    "Z2 = interp2(x2,y2,grid=True)\n",
    "Z2b= interp2(X2,Y2,grid=False)\n",
    "def tempfunc(a,b):\n",
    "    return interp3((a,b))\n",
    "Z3 = interp3((Y2,X2))#,method='linear')\n",
    "Z3b = tempfunc(X2,Y2)\n",
    "\n",
    "print(np.all(Z2==Z2b))\n",
    "print(np.all(Z3==Z3b))\n",
    "\n",
    "print('Z2',Z2.shape)\n",
    "plt.figure()\n",
    "plt.pcolor(Z2b,)\n",
    "print(Z3.shape)\n",
    "plt.figure()\n",
    "plt.pcolor(Z3b)"
   ]
  },
  {
   "cell_type": "code",
   "execution_count": 537,
   "metadata": {
    "collapsed": false
   },
   "outputs": [
    {
     "name": "stdout",
     "output_type": "stream",
     "text": [
      "[ 0  1  4  9 16]\n",
      "[ 0.5  2.5  6.5 12.5] [ 0.  2.  6. 12.]\n",
      "[1.70710678 2.58113883 3.54950976 4.53553391]\n"
     ]
    },
    {
     "data": {
      "image/png": "[encoded data removed]",
      "text/plain": [
       "<Figure size 432x288 with 1 Axes>"
      ]
     },
     "metadata": {
      "needs_background": "light"
     },
     "output_type": "display_data"
    }
   ],
   "source": [
    "x=np.arange(5)\n",
    "xb=x**2\n",
    "print(x2)\n",
    "xc = (xb[1:]+xb[:-1])/2\n",
    "xsq =np.sqrt(xb)\n",
    "xc2 = xsq[1:]*xsq[:-1]\n",
    "print(xc,xc2)\n",
    "f = 1+xc**.5\n",
    "print(f)\n",
    "\n",
    "interp1 = sc.interpolate.interp1d(xc,f,kind='nearest',bounds_error=False,fill_value=\"extrapolate\")\n",
    "interp2 = sc.interpolate.interp1d(xc2,f,kind='nearest',bounds_error=False,fill_value=\"extrapolate\")\n",
    "\n",
    "xval = np.linspace(0,np.max(xb),200)\n",
    "plt.figure()\n",
    "plt.plot(xval,interp1(xval),'r')\n",
    "plt.plot(xval,interp2(xval),'b')\n",
    "for i in range(5):\n",
    "    plt.axvline(xb[i]) "
   ]
  },
  {
   "cell_type": "code",
   "execution_count": 39,
   "metadata": {
    "collapsed": false
   },
   "outputs": [],
   "source": [
    "x = np.array([-2,-1,-1,1,1,1.5])\n",
    "y = np.array([0,0,1,1,0,0])\n",
    "t = np.linspace(0,1,x.size)\n",
    "interpx = sc.interpolate.interp1d(t,x)\n",
    "interpy = sc.interpolate.interp1d(t,y)\n",
    "# tck,u = sc.interpolate.splprep([x,y],k=4)\n",
    "# interp=sc.interpolate.splev(u,tck)\n"
   ]
  },
  {
   "cell_type": "code",
   "execution_count": 42,
   "metadata": {
    "collapsed": false
   },
   "outputs": [
    {
     "data": {
      "text/plain": [
       "[<matplotlib.lines.Line2D at 0x7f83d00bec50>]"
      ]
     },
     "execution_count": 42,
     "metadata": {},
     "output_type": "execute_result"
    },
    {
     "data": {
      "image/png": "[encoded data removed]",
      "text/plain": [
       "<Figure size 432x288 with 1 Axes>"
      ]
     },
     "metadata": {
      "needs_background": "light"
     },
     "output_type": "display_data"
    }
   ],
   "source": [
    "plt.figure()\n",
    "plt.plot(x,y,'-o')\n",
    "\n",
    "t2 =np.linspace(0,1,200)\n",
    "plt.plot(interpx(t2),interpy(t2),'r-x')"
   ]
  },
  {
   "cell_type": "code",
   "execution_count": 44,
   "metadata": {
    "collapsed": false
   },
   "outputs": [
    {
     "data": {
      "text/plain": [
       "3"
      ]
     },
     "execution_count": 44,
     "metadata": {},
     "output_type": "execute_result"
    }
   ],
   "source": [
    "np.searchsorted([1,2,3,4,5], 3.1)\n"
   ]
  },
  {
   "cell_type": "markdown",
   "metadata": {},
   "source": [
    "# Flatten , reshape"
   ]
  },
  {
   "cell_type": "code",
   "execution_count": 219,
   "metadata": {
    "collapsed": false
   },
   "outputs": [
    {
     "name": "stdout",
     "output_type": "stream",
     "text": [
      "[[ 0  1  2]\n",
      " [ 3  4  5]\n",
      " [ 6  7  8]\n",
      " [ 9 10 11]]\n",
      "[[ 0]\n",
      " [ 1]\n",
      " [ 2]\n",
      " [ 3]\n",
      " [ 4]\n",
      " [ 5]\n",
      " [ 6]\n",
      " [ 7]\n",
      " [ 8]\n",
      " [ 9]\n",
      " [10]\n",
      " [11]]\n",
      "[[ 0]\n",
      " [ 1]\n",
      " [ 2]\n",
      " [ 3]\n",
      " [ 4]\n",
      " [ 5]\n",
      " [ 6]\n",
      " [ 7]\n",
      " [ 8]\n",
      " [ 9]\n",
      " [10]\n",
      " [11]]\n",
      "[[ 0  1  2  3  4  5  6  7  8  9 10 11]]\n"
     ]
    }
   ],
   "source": [
    "x = np.arange(12).reshape(4,3)\n",
    "xf = x.flatten()[:,np.newaxis]\n",
    "xrsr=np.reshape(x,(12,1))\n",
    "xrsc=np.reshape(x,(1,12))\n",
    "\n",
    "print(x)\n",
    "print(xf)\n",
    "print(xrsr)\n",
    "print(xrsc)"
   ]
  },
  {
   "cell_type": "code",
   "execution_count": 225,
   "metadata": {
    "collapsed": false
   },
   "outputs": [
    {
     "name": "stdout",
     "output_type": "stream",
     "text": [
      "(100, 200)\n"
     ]
    }
   ],
   "source": [
    "N=100\n",
    "M=200\n",
    "x = np.random.randn(N,M)\n",
    "print(x.shape)\n",
    "xf = x.flatten()[:,np.newaxis]\n",
    "xc = np.reshape(x,(N*M,1))"
   ]
  },
  {
   "cell_type": "code",
   "execution_count": null,
   "metadata": {
    "collapsed": true
   },
   "outputs": [],
   "source": []
  },
  {
   "cell_type": "code",
   "execution_count": 230,
   "metadata": {
    "collapsed": false
   },
   "outputs": [
    {
     "name": "stdout",
     "output_type": "stream",
     "text": [
      "34.3 µs ± 20.8 µs per loop (mean ± std. dev. of 7 runs, 20 loops each)\n"
     ]
    }
   ],
   "source": [
    "%%timeit -n 20\n",
    "xf = x.flatten()[:,np.newaxis]"
   ]
  },
  {
   "cell_type": "code",
   "execution_count": 228,
   "metadata": {
    "collapsed": false
   },
   "outputs": [
    {
     "name": "stdout",
     "output_type": "stream",
     "text": [
      "The slowest run took 5.07 times longer than the fastest. This could mean that an intermediate result is being cached.\n",
      "9.84 µs ± 8.45 µs per loop (mean ± std. dev. of 7 runs, 20 loops each)\n"
     ]
    }
   ],
   "source": [
    "%%timeit -n 20\n",
    "xc = np.reshape(x,(N*M,1))"
   ]
  },
  {
   "cell_type": "code",
   "execution_count": 231,
   "metadata": {
    "collapsed": false
   },
   "outputs": [
    {
     "name": "stdout",
     "output_type": "stream",
     "text": [
      "True\n"
     ]
    }
   ],
   "source": [
    "print(np.all(xf==xc))"
   ]
  },
  {
   "cell_type": "code",
   "execution_count": 49,
   "metadata": {
    "collapsed": false
   },
   "outputs": [
    {
     "name": "stdout",
     "output_type": "stream",
     "text": [
      "[[0 1 2]\n",
      " [3 4 5]] [1 4]\n"
     ]
    }
   ],
   "source": [
    "x = np.arange(6)\n",
    "x=x.reshape(2,3)\n",
    "print(x,x[:,1])"
   ]
  },
  {
   "cell_type": "markdown",
   "metadata": {
    "collapsed": true
   },
   "source": [
    "# Sparse"
   ]
  },
  {
   "cell_type": "code",
   "execution_count": 196,
   "metadata": {
    "collapsed": true
   },
   "outputs": [],
   "source": [
    "import numpy as np\n",
    "import scipy.sparse as sp"
   ]
  },
  {
   "cell_type": "code",
   "execution_count": 273,
   "metadata": {
    "collapsed": false
   },
   "outputs": [
    {
     "name": "stdout",
     "output_type": "stream",
     "text": [
      "  (0, 0)\t1.0\n",
      "  (1, 1)\t2.0\n",
      "  (2, 2)\t3.0\n",
      "  (3, 3)\t4.0\n",
      "  (0, 1)\t0.5\n",
      "  (1, 2)\t0.3333333333333333\n",
      "  (2, 3)\t0.25\n",
      "[[1.         0.5        0.         0.        ]\n",
      " [0.         2.         0.33333333 0.        ]\n",
      " [0.         0.         3.         0.25      ]\n",
      " [0.         0.         0.         4.        ]]\n",
      "[1 2 3 4]\n",
      "[[1]\n",
      " [2]\n",
      " [3]\n",
      " [4]] [[1]\n",
      " [2]\n",
      " [3]] [[2]\n",
      " [3]\n",
      " [4]]\n"
     ]
    }
   ],
   "source": [
    "y=np.arange(4)+1\n",
    "x = (sp.eye(4,k=1) + sp.eye(4,k=-1))\n",
    "x = sp.diags(1/y,offsets = -1)\n",
    "x = sp.csc_matrix(np.eye(4,k=1)/y)\n",
    "x = sp.diags([y,1/y[1:]],offsets=[0,1])\n",
    "print(x)\n",
    "print(x.toarray())\n",
    "print(y)\n",
    "print(y[:,np.newaxis],y[:-1,np.newaxis],y[1:,np.newaxis])"
   ]
  },
  {
   "cell_type": "code",
   "execution_count": 200,
   "metadata": {
    "collapsed": false
   },
   "outputs": [
    {
     "name": "stdout",
     "output_type": "stream",
     "text": [
      "  (0, 1)\t0.5\n",
      "  (1, 2)\t0.6666666666666666\n",
      "  (2, 3)\t0.75\n",
      "<class 'scipy.sparse.csr.csr_matrix'> <class 'numpy.ndarray'> <class 'scipy.sparse.csr.csr_matrix'>\n",
      "[0.         0.5        0.66666667 0.75      ]\n"
     ]
    }
   ],
   "source": [
    "\n",
    "yc = y[:,np.newaxis]\n",
    "# yc = sp.(yc)\n",
    "z = x.multiply(yc)\n",
    "print(z)\n",
    "x=x.tocsr()\n",
    "print(type(x),type(yc),type(z+z))\n",
    "print(y*x)"
   ]
  },
  {
   "cell_type": "code",
   "execution_count": 185,
   "metadata": {
    "collapsed": false
   },
   "outputs": [
    {
     "name": "stdout",
     "output_type": "stream",
     "text": [
      "(10000,) (10000, 1)\n"
     ]
    }
   ],
   "source": [
    "N = int(1e4)\n",
    "x= np.random.randn(N)\n",
    "M = sp.diags(x,offsets=0,format='csr')\n",
    "xv = x[:,np.newaxis]\n",
    "xs = sp.diags(x,offsets=0,format='csr')\n",
    "print(x.shape,xv.shape)"
   ]
  },
  {
   "cell_type": "code",
   "execution_count": 187,
   "metadata": {
    "collapsed": false
   },
   "outputs": [
    {
     "name": "stdout",
     "output_type": "stream",
     "text": [
      "385 µs ± 145 µs per loop (mean ± std. dev. of 7 runs, 10 loops each)\n"
     ]
    }
   ],
   "source": [
    "%%timeit -n 10\n",
    "global A\n",
    "A = M.multiply(xv)"
   ]
  },
  {
   "cell_type": "code",
   "execution_count": 193,
   "metadata": {
    "collapsed": false
   },
   "outputs": [
    {
     "name": "stdout",
     "output_type": "stream",
     "text": [
      "466 µs ± 163 µs per loop (mean ± std. dev. of 7 runs, 10 loops each)\n"
     ]
    }
   ],
   "source": [
    "%%timeit -n 10\n",
    "global B\n",
    "B = xs*M"
   ]
  },
  {
   "cell_type": "code",
   "execution_count": 169,
   "metadata": {
    "collapsed": false
   },
   "outputs": [
    {
     "name": "stdout",
     "output_type": "stream",
     "text": [
      "True\n"
     ]
    }
   ],
   "source": [
    "print(np.all(A.toarray()==B))"
   ]
  },
  {
   "cell_type": "code",
   "execution_count": 147,
   "metadata": {
    "collapsed": false
   },
   "outputs": [
    {
     "data": {
      "text/plain": [
       "array([[0.25, 0.5 , 0.  , 0.  ],\n",
       "       [0.  , 0.25, 0.5 , 0.  ],\n",
       "       [0.  , 0.  , 0.25, 0.5 ],\n",
       "       [0.  , 0.  , 0.  , 0.25]])"
      ]
     },
     "execution_count": 147,
     "metadata": {},
     "output_type": "execute_result"
    }
   ],
   "source": [
    "np.array(np.arange(4))\n",
    "sp.eye(4).toarray()\n",
    "(sp.eye(4)/4).toarray()\n",
    "sp.diags([1/4,1/2],[0,1],shape=(4,4)).toarray()"
   ]
  },
  {
   "cell_type": "code",
   "execution_count": 68,
   "metadata": {
    "collapsed": false
   },
   "outputs": [
    {
     "name": "stdout",
     "output_type": "stream",
     "text": [
      "[[ 0  1  2  3]\n",
      " [ 4  5  6  7]\n",
      " [ 8  9 10 11]\n",
      " [12 13 14 15]] [0 1 2 3]\n",
      "[[ 0  1  4  9]\n",
      " [ 0  5 12 21]\n",
      " [ 0  9 20 33]\n",
      " [ 0 13 28 45]]\n",
      "[[ 0  1  4  9]\n",
      " [ 0  5 12 21]\n",
      " [ 0  9 20 33]\n",
      " [ 0 13 28 45]]\n",
      "[[ 0  0  0  0]\n",
      " [ 4  5  6  7]\n",
      " [16 18 20 22]\n",
      " [36 39 42 45]]\n",
      "[[ 0.  1.  4.  9.]\n",
      " [ 0.  5. 12. 21.]\n",
      " [ 0.  9. 20. 33.]\n",
      " [ 0. 13. 28. 45.]]\n",
      "[[ 0.  0.  0.  0.]\n",
      " [ 4.  5.  6.  7.]\n",
      " [16. 18. 20. 22.]\n",
      " [36. 39. 42. 45.]]\n"
     ]
    }
   ],
   "source": [
    "x = np.arange(16).reshape(4,4)\n",
    "y = np.arange(4)\n",
    "print(x,x[0])\n",
    "print(x*y)  # column with element\n",
    "print(y*x)\n",
    "print(x*(y[:,np.newaxis]))  # row with element\n",
    "\n",
    "sx = sp.csc_matrix(x)\n",
    "sy = sp.diags(y,0)\n",
    "print((sx*sy).toarray())  # Column with element\n",
    "print((sy*sx).toarray())  # Row with element"
   ]
  },
  {
   "cell_type": "code",
   "execution_count": 80,
   "metadata": {
    "collapsed": false
   },
   "outputs": [
    {
     "name": "stdout",
     "output_type": "stream",
     "text": [
      "[[1. 1. 0. 0. 0.]\n",
      " [0. 1. 1. 0. 0.]\n",
      " [0. 0. 1. 1. 0.]\n",
      " [0. 0. 0. 1. 1.]\n",
      " [0. 0. 0. 0. 1.]]\n",
      "[[1. 1. 0. 0. 0.]\n",
      " [0. 1. 1. 0. 0.]\n",
      " [0. 0. 1. 1. 0.]\n",
      " [0. 0. 0. 1. 1.]\n",
      " [0. 0. 0. 0. 1.]]\n"
     ]
    }
   ],
   "source": [
    "Nc=5\n",
    "hx=.25\n",
    "print(np.eye(Nc,k=0) + np.eye(Nc,k=1))\n",
    "print(sp.diags([0.25/hx,0.25/hx] ,[0,1],shape=(Nc,Nc)).toarray())"
   ]
  },
  {
   "cell_type": "code",
   "execution_count": null,
   "metadata": {
    "collapsed": true
   },
   "outputs": [],
   "source": []
  }
 ],
 "metadata": {
  "kernelspec": {
   "display_name": "Python 3",
   "language": "python",
   "name": "python3"
  },
  "language_info": {
   "codemirror_mode": {
    "name": "ipython",
    "version": 3
   },
   "file_extension": ".py",
   "mimetype": "text/x-python",
   "name": "python",
   "nbconvert_exporter": "python",
   "pygments_lexer": "ipython3",
   "version": "3.5.6"
  }
 },
 "nbformat": 4,
 "nbformat_minor": 1
}
