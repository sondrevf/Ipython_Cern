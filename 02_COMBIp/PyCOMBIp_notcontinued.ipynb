{
 "cells": [
  {
   "cell_type": "code",
   "execution_count": 1,
   "metadata": {},
   "outputs": [
    {
     "name": "stdout",
     "output_type": "stream",
     "text": [
      "sys.version_info(major=3, minor=6, micro=1, releaselevel='final', serial=0)\n"
     ]
    }
   ],
   "source": [
    "%reset -f\n",
    "import sys\n",
    "import numpy as np\n",
    "import matplotlib.pyplot as plt\n",
    "import scipy.stats as st\n",
    "import scipy.special as spec\n",
    "import matplotlib as mpl\n",
    "from matplotlib.colors import LogNorm\n",
    "import matplotlib.cm as cm\n",
    "import scipy.integrate as integrate\n",
    "%matplotlib inline\n",
    "\n",
    "# Set style of plots\n",
    "ticksize= 12\n",
    "titlesize = 16\n",
    "mpl.rcParams.update({'font.size':ticksize }) \n",
    "mpl.rcParams.update({'legend.fontsize':ticksize })# legend\n",
    "mpl.rcParams.update({'ytick.labelsize':ticksize })\n",
    "mpl.rcParams.update({'xtick.labelsize':ticksize})\n",
    "mpl.rcParams.update({'axes.titlesize':titlesize})       # Title\n",
    "mpl.rcParams.update({'axes.labelsize':titlesize})    # x,y,cbar labels\n",
    "mpl.rcParams.update({'figure.titlesize' :titlesize})\n",
    "mpl.rcParams.update({'savefig.bbox':'tight'})\n",
    "mpl.rcParams.update({'axes.formatter.limits':[-4,4]})\n",
    "mpl.rcParams.update({'figure.figsize':[6,5]})\n",
    "mpl.rcParams.update({'mathtext.fontset':'cm'})\n",
    "mpl.rcParams.update({'font.style':'normal'})\n",
    "\n",
    "pi2 = 2*np.pi\n",
    "\n",
    "print(sys.version_info)"
   ]
  },
  {
   "cell_type": "markdown",
   "metadata": {},
   "source": [
    "# Make dummy version of PiCOMBI"
   ]
  },
  {
   "cell_type": "markdown",
   "metadata": {},
   "source": [
    "Need number of bunches.\n",
    "\n",
    "Need what slots are filled.\n",
    "\n",
    "Need what slot the beambeam is going to interact with."
   ]
  },
  {
   "cell_type": "code",
   "execution_count": 10,
   "metadata": {},
   "outputs": [
    {
     "name": "stdout",
     "output_type": "stream",
     "text": [
      "[0 1 2 3 4 5 6 7 8 9]\n",
      "[1 1 1 1 0 0 0 0 0 0]\n"
     ]
    }
   ],
   "source": [
    "nSlots = 10\n",
    "Slots = np.arange(nSlots)\n",
    "B1 = np.zeros(nSlots).astype(np.int32)\n",
    "B1[0:4] = 1\n",
    "B1with = -np.ones(nSlots).astype(np.int32)\n",
    "\n",
    "\n",
    "\n",
    "print(Slots)\n",
    "print(B1)\n",
    "\n"
   ]
  },
  {
   "cell_type": "code",
   "execution_count": 9,
   "metadata": {},
   "outputs": [
    {
     "name": "stdout",
     "output_type": "stream",
     "text": [
      "#act | interact with someone\n",
      "[[ 1.  1.]\n",
      " [ 2.  1.]\n",
      " [ 3.  0.]\n",
      " [ 4.  0.]\n",
      " [ 0.  0.]]\n"
     ]
    }
   ],
   "source": [
    "nAct = 5\n",
    "Actions = np.zeros((5,2))\n",
    "Actions[:4,0] = 1+np.arange(4)\n",
    "\n",
    "for i in range(nAct):\n",
    "    if Actions[i,0] == 1:\n",
    "        Actions[i,1] = 1\n",
    "    if Actions[i,0] == 2:\n",
    "        Actions[i,1] = 1\n",
    "\n",
    "print('#act | interact with someone')\n",
    "print(Actions)"
   ]
  },
  {
   "cell_type": "markdown",
   "metadata": {},
   "source": [
    "Can in principle just give an action and slot number, the action will know who it is supposed to interact with. I.e. headon, interact with ...\n",
    "No... Action need to know where it is!"
   ]
  },
  {
   "cell_type": "markdown",
   "metadata": {},
   "source": [
    "# Combi style"
   ]
  },
  {
   "cell_type": "code",
   "execution_count": 19,
   "metadata": {},
   "outputs": [
    {
     "name": "stdout",
     "output_type": "stream",
     "text": [
      "0\n"
     ]
    }
   ],
   "source": [
    "class action():\n",
    "    def __init__(self, field1=0, field2=0, field3=0):\n",
    "        self.field1 = field1\n",
    "        self.field2 = field2\n",
    "        self.field3 = field3\n",
    "        \n",
    "test = action()\n",
    "print(test.field2)"
   ]
  },
  {
   "cell_type": "code",
   "execution_count": null,
   "metadata": {
    "collapsed": true
   },
   "outputs": [],
   "source": []
  }
 ],
 "metadata": {
  "kernelspec": {
   "display_name": "Python 3",
   "language": "python",
   "name": "python3"
  },
  "language_info": {
   "codemirror_mode": {
    "name": "ipython",
    "version": 3
   },
   "file_extension": ".py",
   "mimetype": "text/x-python",
   "name": "python",
   "nbconvert_exporter": "python",
   "pygments_lexer": "ipython3",
   "version": "3.6.1"
  }
 },
 "nbformat": 4,
 "nbformat_minor": 2
}
