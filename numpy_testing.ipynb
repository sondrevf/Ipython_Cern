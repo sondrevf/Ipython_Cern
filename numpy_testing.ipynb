{
 "cells": [
  {
   "cell_type": "markdown",
   "metadata": {},
   "source": [
    "# Testing"
   ]
  },
  {
   "cell_type": "code",
   "execution_count": 1,
   "metadata": {
    "collapsed": false
   },
   "outputs": [],
   "source": [
    "%reset -f\n",
    "import numpy as np\n",
    "import matplotlib.pyplot as plt\n",
    "import scipy.stats as st\n",
    "from matplotlib.colors import LogNorm\n",
    "%matplotlib inline"
   ]
  },
  {
   "cell_type": "code",
   "execution_count": 68,
   "metadata": {
    "collapsed": false
   },
   "outputs": [
    {
     "name": "stderr",
     "output_type": "stream",
     "text": [
      "/home/sfuruset/miniconda3/lib/python3.5/site-packages/ipykernel/__main__.py:3: VisibleDeprecationWarning: using a non-integer number instead of an integer will result in an error in the future\n",
      "  app.launch_new_instance()\n"
     ]
    },
    {
     "data": {
      "text/plain": [
       "array([[ 0.        ,  0.5       ,  0.66666667],\n",
       "       [ 3.        ,  2.        ,  1.66666667],\n",
       "       [ 6.        ,  3.5       ,  2.66666667],\n",
       "       [ 9.        ,  5.        ,  3.66666667]])"
      ]
     },
     "execution_count": 68,
     "metadata": {},
     "output_type": "execute_result"
    }
   ],
   "source": [
    "N =4\n",
    "n =3.\n",
    "a= np.arange(n*N).reshape((N,n))\n",
    "b = np.linspace(1,n,n)\n",
    "\n",
    "np.divide(a,b)\n"
   ]
  },
  {
   "cell_type": "code",
   "execution_count": 69,
   "metadata": {
    "collapsed": false
   },
   "outputs": [
    {
     "name": "stderr",
     "output_type": "stream",
     "text": [
      "/home/sfuruset/miniconda3/lib/python3.5/site-packages/ipykernel/__main__.py:3: RuntimeWarning: divide by zero encountered in true_divide\n",
      "  app.launch_new_instance()\n",
      "/home/sfuruset/miniconda3/lib/python3.5/site-packages/ipykernel/__main__.py:3: RuntimeWarning: invalid value encountered in true_divide\n",
      "  app.launch_new_instance()\n"
     ]
    },
    {
     "data": {
      "text/plain": [
       "array([[  nan,   1. ,   1. ],\n",
       "       [  inf,   4. ,   2.5],\n",
       "       [  inf,   7. ,   4. ],\n",
       "       [  inf,  10. ,   5.5]])"
      ]
     },
     "execution_count": 69,
     "metadata": {},
     "output_type": "execute_result"
    }
   ],
   "source": [
    "x1 = np.arange(12.0).reshape((4, 3))\n",
    "x2 = np.arange(3.0)\n",
    "np.divide(x1, x2)\n"
   ]
  },
  {
   "cell_type": "markdown",
   "metadata": {},
   "source": [
    "# Test chi2 distribution"
   ]
  },
  {
   "cell_type": "code",
   "execution_count": 70,
   "metadata": {
    "collapsed": false
   },
   "outputs": [
    {
     "data": {
      "text/plain": [
       "[<matplotlib.lines.Line2D at 0x7fec15fcca58>]"
      ]
     },
     "execution_count": 70,
     "metadata": {},
     "output_type": "execute_result"
    },
    {
     "data": {
      "image/png": "[encoded data removed]",
      "text/plain": [
       "<matplotlib.figure.Figure at 0x7fec15c53630>"
      ]
     },
     "metadata": {},
     "output_type": "display_data"
    }
   ],
   "source": [
    "x= np.linspace(0,20,100)\n",
    "xi2 = st.chi2.pdf(x,6)\n",
    "\n",
    "plt.figure()\n",
    "plt.semilogy(x,xi2)\n"
   ]
  },
  {
   "cell_type": "code",
   "execution_count": 71,
   "metadata": {
    "collapsed": false
   },
   "outputs": [
    {
     "data": {
      "image/png": "[encoded data removed]",
      "text/plain": [
       "<matplotlib.figure.Figure at 0x7fec15fe6358>"
      ]
     },
     "metadata": {},
     "output_type": "display_data"
    }
   ],
   "source": [
    "N = int(1e4)\n",
    "y = np.random.randn(N)\n",
    "x = np.random.randn(N)\n",
    "j = 0.5*(x**2 + y**2)\n",
    "\n",
    "plt.figure()\n",
    "plt.hist(j,bins=1000);"
   ]
  },
  {
   "cell_type": "code",
   "execution_count": 73,
   "metadata": {
    "collapsed": false
   },
   "outputs": [
    {
     "name": "stdout",
     "output_type": "stream",
     "text": [
      "(5, 10)\n"
     ]
    }
   ],
   "source": [
    "a  = np.arange(10)\n",
    "aa = []\n",
    "\n",
    "for i in range(5):\n",
    "    aa += [a+i]\n",
    "    \n",
    "aa = np.array(aa)\n",
    "print(np.shape(aa))\n",
    "dj = np.polyfit(np.arange(5),aa,1)[0]"
   ]
  },
  {
   "cell_type": "code",
   "execution_count": 74,
   "metadata": {
    "collapsed": false
   },
   "outputs": [
    {
     "data": {
      "text/plain": [
       "array([ 1.,  1.,  1.,  1.,  1.,  1.,  1.,  1.,  1.,  1.])"
      ]
     },
     "execution_count": 74,
     "metadata": {},
     "output_type": "execute_result"
    }
   ],
   "source": [
    "dj"
   ]
  },
  {
   "cell_type": "code",
   "execution_count": 97,
   "metadata": {
    "collapsed": false
   },
   "outputs": [
    {
     "name": "stdout",
     "output_type": "stream",
     "text": [
      "0.6666666666666666\n",
      "0.57735026919\n"
     ]
    }
   ],
   "source": [
    "D = 1\n",
    "sig = D/np.sqrt(3)\n",
    "var = D**3/3*2 /D\n",
    "print(var)\n",
    "sig = D/np.sqrt(3)\n",
    "print(sig)"
   ]
  },
  {
   "cell_type": "code",
   "execution_count": 101,
   "metadata": {
    "collapsed": false
   },
   "outputs": [
    {
     "data": {
      "text/plain": [
       "[<matplotlib.lines.Line2D at 0x7fec15b51748>]"
      ]
     },
     "execution_count": 101,
     "metadata": {},
     "output_type": "execute_result"
    },
    {
     "data": {
      "image/png": "[encoded data removed]",
      "text/plain": [
       "<matplotlib.figure.Figure at 0x7fec15b515c0>"
      ]
     },
     "metadata": {},
     "output_type": "display_data"
    }
   ],
   "source": [
    "x = np.linspace(0.1,10,100)\n",
    "f1 = 1/(1+x+np.sqrt(x*(1+x)))\n",
    "f2 = 1-1/(np.sqrt(1+1/x))\n",
    "plt.figure()\n",
    "plt.plot(x,f1,'r')\n",
    "plt.plot(x,f2,'b--')"
   ]
  },
  {
   "cell_type": "markdown",
   "metadata": {
    "collapsed": true
   },
   "source": [
    "# 2D histogram"
   ]
  },
  {
   "cell_type": "code",
   "execution_count": 232,
   "metadata": {
    "collapsed": false
   },
   "outputs": [],
   "source": [
    "N = int(4e6)\n",
    "a = (np.random.randn(N))**2\n",
    "b = np.random.randn(N)+0.1*a**2\n",
    "nbin = 50\n",
    "xedge = np.linspace(0,np.max(a),nbin+1)\n",
    "ns,xs = np.histogram(a,bins=xedge)\n",
    "\n",
    "def centerit(x):\n",
    "    return x[1:]-np.diff(x[:2])[0]*0.5"
   ]
  },
  {
   "cell_type": "code",
   "execution_count": 237,
   "metadata": {
    "collapsed": false
   },
   "outputs": [
    {
     "name": "stdout",
     "output_type": "stream",
     "text": [
      "10 loops, best of 3: 457 ms per loop\n"
     ]
    }
   ],
   "source": [
    "%%timeit -n 10\n",
    "\n",
    "H,xedges,yedges = np.histogram2d(a,b,nbin,range=[[0,np.max(a)],[-np.max(b),np.max(b)]],normed=False);\n",
    "H = H.transpose()\n",
    "X,Y = np.meshgrid(xedges, yedges);\n",
    "ind = np.sum(H,axis=0)>0\n",
    "avg = np.average(Y[1:,1:][:,ind],weights=H[:,ind],axis =0)-np.diff(yedges)[0]*0.5\n"
   ]
  },
  {
   "cell_type": "code",
   "execution_count": 238,
   "metadata": {
    "collapsed": false
   },
   "outputs": [
    {
     "name": "stderr",
     "output_type": "stream",
     "text": [
      "/home/sfuruset/miniconda3/lib/python3.5/site-packages/numpy/core/_methods.py:59: RuntimeWarning: Mean of empty slice.\n",
      "  warnings.warn(\"Mean of empty slice.\", RuntimeWarning)\n",
      "/home/sfuruset/miniconda3/lib/python3.5/site-packages/numpy/core/_methods.py:70: RuntimeWarning: invalid value encountered in double_scalars\n",
      "  ret = ret.dtype.type(ret / rcount)\n"
     ]
    },
    {
     "name": "stdout",
     "output_type": "stream",
     "text": [
      "10 loops, best of 3: 948 ms per loop\n"
     ]
    }
   ],
   "source": [
    "%%timeit -n 10\n",
    "\n",
    "xc = centerit(xedge)\n",
    "avg2 = np.zeros_like(xc)\n",
    "ns = np.zeros_like(xc)\n",
    "for i,a1 in enumerate(xedge[:-1]):\n",
    "    a2 = xedge[i+1]\n",
    "    ind2 = np.logical_and(a>=a1,a<a2)\n",
    "#     if np.any(ind2):\n",
    "    avg2[i] = np.mean(b[ind2])\n",
    "#     else:\n",
    "    ns[i] = np.sum(ind2)\n",
    "#         avg2[i] =np.nan\n",
    "\n",
    "# print(xc.shape,ns.shape)\n",
    "# print(avg2)\n",
    "# avg2 = avg2[ns>0]\n",
    "# xc = xc[ns>0]"
   ]
  },
  {
   "cell_type": "code",
   "execution_count": 240,
   "metadata": {
    "collapsed": false
   },
   "outputs": [
    {
     "name": "stdout",
     "output_type": "stream",
     "text": [
      "10 loops, best of 3: 372 ms per loop\n"
     ]
    }
   ],
   "source": [
    "%%timeit -n 10\n",
    "ys,xs = np.histogram(a,bins=xedge,weights=b)\n",
    "# ns,xs = np.histogram(a,bins=xedge)\n",
    "xs = centerit(xs)\n",
    "# ys[ns==0]=np.nan\n",
    "ys=ys[ns>0]/ns[[ns>0]]\n",
    "xs = xs[ns>0]\n",
    "\n",
    "# print(xs.shape,ys.shape)\n",
    "# print(ns)"
   ]
  },
  {
   "cell_type": "code",
   "execution_count": 236,
   "metadata": {
    "collapsed": false
   },
   "outputs": [
    {
     "data": {
      "text/plain": [
       "(-1, 40)"
      ]
     },
     "execution_count": 236,
     "metadata": {},
     "output_type": "execute_result"
    },
    {
     "data": {
      "image/png": "[encoded data removed]",
      "text/plain": [
       "<matplotlib.figure.Figure at 0x7f6c616e8898>"
      ]
     },
     "metadata": {},
     "output_type": "display_data"
    }
   ],
   "source": [
    "fig = plt.figure()\n",
    "ax1 = fig.add_subplot(111)\n",
    "# pcm=plt.pcolor(X,Y,H,norm =LogNorm(vmin=1,vmax=10),cmap='rainbow');\n",
    "plt.colorbar(pcm, ax=ax1, extend='max')\n",
    "xcenter = xedges[1:]-np.diff(xedges)[0]*0.5\n",
    "ycenter = yedges[1:]-np.diff(yedges)[0]*0.5\n",
    "\n",
    "plt.plot(xcenter[ind],avg,'r-3')\n",
    "plt.plot(xc,avg2,'b-1')\n",
    "plt.plot(xs,ys,'g-2')\n",
    "plt.ylim(-1,40)"
   ]
  },
  {
   "cell_type": "code",
   "execution_count": 203,
   "metadata": {
    "collapsed": false
   },
   "outputs": [
    {
     "name": "stdout",
     "output_type": "stream",
     "text": [
      "[  2.4265368   7.2796104  12.132684   16.9857576  21.8388312] [  2.4265368   7.2796104  12.132684   16.9857576  21.8388312]\n"
     ]
    }
   ],
   "source": [
    "print(xs,xc)"
   ]
  },
  {
   "cell_type": "code",
   "execution_count": 7,
   "metadata": {
    "collapsed": false
   },
   "outputs": [
    {
     "data": {
      "text/plain": [
       "0.07500000000000001"
      ]
     },
     "execution_count": 7,
     "metadata": {},
     "output_type": "execute_result"
    }
   ],
   "source": [
    "0.25e-9*3e8"
   ]
  },
  {
   "cell_type": "code",
   "execution_count": 10,
   "metadata": {
    "collapsed": false
   },
   "outputs": [
    {
     "data": {
      "text/plain": [
       "[<matplotlib.lines.Line2D at 0x7f5c6fb3c128>]"
      ]
     },
     "execution_count": 10,
     "metadata": {},
     "output_type": "execute_result"
    },
    {
     "data": {
      "image/png": "[encoded data removed]",
      "text/plain": [
       "<matplotlib.figure.Figure at 0x7f5c6fb9edd8>"
      ]
     },
     "metadata": {},
     "output_type": "display_data"
    }
   ],
   "source": [
    "x= np.arange(100)\n",
    "plt.figure()\n",
    "plt.plot(x,0.1*x,'--')\n",
    "plt.plot(x,0.2*x,'-.')\n",
    "plt.plot(x,0.4*x,':')"
   ]
  },
  {
   "cell_type": "code",
   "execution_count": 52,
   "metadata": {
    "collapsed": false
   },
   "outputs": [
    {
     "name": "stderr",
     "output_type": "stream",
     "text": [
      "/home/sfuruset/miniconda3/lib/python3.5/site-packages/ipykernel/__main__.py:18: RuntimeWarning: invalid value encountered in true_divide\n",
      "/home/sfuruset/miniconda3/lib/python3.5/site-packages/ipykernel/__main__.py:42: RuntimeWarning: invalid value encountered in true_divide\n"
     ]
    },
    {
     "data": {
      "text/plain": [
       "[<matplotlib.lines.Line2D at 0x7f5c67550e80>]"
      ]
     },
     "execution_count": 52,
     "metadata": {},
     "output_type": "execute_result"
    },
    {
     "data": {
      "image/png": "[encoded data removed]",
      "text/plain": [
       "<matplotlib.figure.Figure at 0x7f5c67c15080>"
      ]
     },
     "metadata": {},
     "output_type": "display_data"
    },
    {
     "data": {
      "image/png": "[encoded data removed]",
      "text/plain": [
       "<matplotlib.figure.Figure at 0x7f5c672f7e80>"
      ]
     },
     "metadata": {},
     "output_type": "display_data"
    },
    {
     "data": {
      "image/png": "[encoded data removed]",
      "text/plain": [
       "<matplotlib.figure.Figure at 0x7f5c674bc240>"
      ]
     },
     "metadata": {},
     "output_type": "display_data"
    },
    {
     "data": {
      "image/png": "[encoded data removed]",
      "text/plain": [
       "<matplotlib.figure.Figure at 0x7f5c679d2e80>"
      ]
     },
     "metadata": {},
     "output_type": "display_data"
    }
   ],
   "source": [
    "def centerit(edges):\n",
    "    return edges[1:]-(edges[1]-edges[0])*0.5\n",
    "\n",
    "N=np.int(1e4)\n",
    "a0 =np.random.normal(0,1,N)\n",
    "a=a0.copy()\n",
    "for i in range(10000):\n",
    "#     a += np.random.normal(0,0.01,N)\n",
    "    a+= 0.01*np.cos(np.random.uniform(0,2*np.pi,N))\n",
    "j0 = a0**2\n",
    "j = a**2\n",
    "da = a-a0\n",
    "dj = j-j0\n",
    "\n",
    "plt.figure()\n",
    "ns,xs = np.histogram(j0,bins=100)\n",
    "dbs,_ = np.histogram(j0,bins=100,weights=dj)\n",
    "dbs = dbs/ns\n",
    "plt.plot(centerit(xs),dbs)\n",
    "\n",
    "\n",
    "plt.figure()\n",
    "plt.hist(a0,bins=100,normed=True)\n",
    "plt.hist(a,bins=100,normed=True)\n",
    "# b =np.random.normal(0,2,N)\n",
    "# b=a*2\n",
    "\n",
    "\n",
    "#################\n",
    "a= np.random.chisquare(2,N)\n",
    "b= np.random.chisquare(2,N)*2\n",
    "b=a*2\n",
    "dba=b-a\n",
    "\n",
    "plt.figure()\n",
    "plt.hist(b,bins=100)\n",
    "plt.hist(a,bins=100)\n",
    "\n",
    "plt.figure()\n",
    "ns,xs = np.histogram(a,bins=100)\n",
    "dbs,_ = np.histogram(a,bins=100,weights=dba)\n",
    "dbs = dbs/ns\n",
    "plt.plot(centerit(xs),dbs)"
   ]
  },
  {
   "cell_type": "markdown",
   "metadata": {
    "collapsed": true
   },
   "source": [
    "# Save txt files"
   ]
  },
  {
   "cell_type": "code",
   "execution_count": 7,
   "metadata": {
    "collapsed": false
   },
   "outputs": [
    {
     "name": "stdout",
     "output_type": "stream",
     "text": [
      "[ 0.          0.11111111  0.22222222  0.33333333  0.44444444  0.55555556\n",
      "  0.66666667  0.77777778  0.88888889  1.        ] [ 0.          0.22222222  0.44444444  0.66666667  0.88888889  1.11111111\n",
      "  1.33333333  1.55555556  1.77777778  2.        ]\n"
     ]
    }
   ],
   "source": [
    "x = np.linspace(0,1,10)\n",
    "np.savetxt('test.txt',[x,2*x])\n",
    "a,b = np.loadtxt('test.txt')\n",
    "print(a,b)"
   ]
  },
  {
   "cell_type": "code",
   "execution_count": 20,
   "metadata": {
    "collapsed": false
   },
   "outputs": [
    {
     "data": {
      "text/plain": [
       "array([ 0.,  1.])"
      ]
     },
     "execution_count": 20,
     "metadata": {},
     "output_type": "execute_result"
    }
   ],
   "source": [
    "x = np.array([])\n",
    "x = np.concatenate((x,np.arange(2)),axis=0)\n",
    "x = np.concatenate((x,np.arange(2)),axis=0)\n",
    "x = np.unique(x)\n",
    "x"
   ]
  },
  {
   "cell_type": "markdown",
   "metadata": {
    "collapsed": true
   },
   "source": [
    "# Lists etc"
   ]
  },
  {
   "cell_type": "code",
   "execution_count": 31,
   "metadata": {
    "collapsed": false
   },
   "outputs": [
    {
     "data": {
      "text/plain": [
       "2"
      ]
     },
     "execution_count": 31,
     "metadata": {},
     "output_type": "execute_result"
    }
   ],
   "source": [
    "a = {'a':1, 'b':2}\n",
    "a['b']\n"
   ]
  },
  {
   "cell_type": "code",
   "execution_count": 32,
   "metadata": {
    "collapsed": false
   },
   "outputs": [],
   "source": [
    "a.update({4:4})"
   ]
  },
  {
   "cell_type": "code",
   "execution_count": 33,
   "metadata": {
    "collapsed": false
   },
   "outputs": [
    {
     "data": {
      "text/plain": [
       "4"
      ]
     },
     "execution_count": 33,
     "metadata": {},
     "output_type": "execute_result"
    }
   ],
   "source": [
    "a[4]"
   ]
  },
  {
   "cell_type": "code",
   "execution_count": null,
   "metadata": {
    "collapsed": true
   },
   "outputs": [],
   "source": []
  },
  {
   "cell_type": "code",
   "execution_count": null,
   "metadata": {
    "collapsed": true
   },
   "outputs": [],
   "source": []
  },
  {
   "cell_type": "code",
   "execution_count": 29,
   "metadata": {
    "collapsed": false
   },
   "outputs": [
    {
     "name": "stdout",
     "output_type": "stream",
     "text": [
      "1 yes\n",
      "2 yes\n"
     ]
    },
    {
     "data": {
      "text/plain": [
       "'sondre2'"
      ]
     },
     "execution_count": 29,
     "metadata": {},
     "output_type": "execute_result"
    }
   ],
   "source": [
    "son = 'sondre'\n",
    "NAMES = [son+'1',son+'2',son+'3','michael']\n",
    "for i,name in enumerate(NAMES):\n",
    "    if name[:4] == NAMES[i-1][:4]:\n",
    "        print(i,'yes')\n",
    "NAMES[1]    "
   ]
  },
  {
   "cell_type": "code",
   "execution_count": 21,
   "metadata": {
    "collapsed": false
   },
   "outputs": [
    {
     "name": "stdout",
     "output_type": "stream",
     "text": [
      "[array([0]), array([0])] [0]\n",
      "[[1, 2], array([0])]\n"
     ]
    }
   ],
   "source": [
    "a = [np.arange(1),np.arange(1)]\n",
    "print(a,a[0])\n",
    "a[0]=[1,2]\n",
    "print(a)"
   ]
  },
  {
   "cell_type": "code",
   "execution_count": 27,
   "metadata": {
    "collapsed": false
   },
   "outputs": [
    {
     "data": {
      "text/plain": [
       "4"
      ]
     },
     "execution_count": 27,
     "metadata": {},
     "output_type": "execute_result"
    }
   ],
   "source": [
    "a = np.array([1,1,1,1,2,2,2,2,3])\n",
    "np.where(a==2)[0][0]"
   ]
  },
  {
   "cell_type": "code",
   "execution_count": null,
   "metadata": {
    "collapsed": true
   },
   "outputs": [],
   "source": []
  }
 ],
 "metadata": {
  "kernelspec": {
   "display_name": "Python 3",
   "language": "python",
   "name": "python3"
  },
  "language_info": {
   "codemirror_mode": {
    "name": "ipython",
    "version": 3
   },
   "file_extension": ".py",
   "mimetype": "text/x-python",
   "name": "python",
   "nbconvert_exporter": "python",
   "pygments_lexer": "ipython3",
   "version": "3.5.2"
  }
 },
 "nbformat": 4,
 "nbformat_minor": 1
}
