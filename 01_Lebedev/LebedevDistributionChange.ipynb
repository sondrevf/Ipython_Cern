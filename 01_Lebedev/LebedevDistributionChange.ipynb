{
 "cells": [
  {
   "cell_type": "markdown",
   "metadata": {},
   "source": [
    "# Try changing the distribution in Lebedev idea"
   ]
  },
  {
   "cell_type": "code",
   "execution_count": 9,
   "metadata": {
    "collapsed": true
   },
   "outputs": [],
   "source": [
    "%reset -f\n",
    "import numpy as np\n",
    "from LebedevHelper import *\n",
    "\n",
    "import matplotlib.pyplot as plt\n",
    "import scipy.stats as st\n",
    "import scipy.special as spec\n",
    "import matplotlib as mpl\n",
    "from matplotlib.colors import LogNorm\n",
    "import matplotlib.cm as cm\n",
    "import scipy.integrate as integrate\n",
    "%matplotlib inline"
   ]
  },
  {
   "cell_type": "code",
   "execution_count": 10,
   "metadata": {},
   "outputs": [
    {
     "name": "stdout",
     "output_type": "stream",
     "text": [
      "6.283185307179586\n"
     ]
    },
    {
     "data": {
      "text/plain": [
       "1.0"
      ]
     },
     "execution_count": 10,
     "metadata": {},
     "output_type": "execute_result"
    }
   ],
   "source": [
    "print(pi2)\n",
    "func_g2(2)"
   ]
  },
  {
   "cell_type": "code",
   "execution_count": 11,
   "metadata": {},
   "outputs": [
    {
     "ename": "FileNotFoundError",
     "evalue": "[Errno 2] No such file or directory: '03_Plots/DACTX_JxJy_a=1e-03_b=0e+00_g=2e-02.eps'",
     "output_type": "error",
     "traceback": [
      "\u001b[0;31m---------------------------------------------------------------------------\u001b[0m",
      "\u001b[0;31mFileNotFoundError\u001b[0m                         Traceback (most recent call last)",
      "\u001b[0;32m<ipython-input-11-bb6594088619>\u001b[0m in \u001b[0;36m<module>\u001b[0;34m()\u001b[0m\n\u001b[1;32m     26\u001b[0m     \u001b[0mplt\u001b[0m\u001b[0;34m.\u001b[0m\u001b[0mxlabel\u001b[0m\u001b[0;34m(\u001b[0m\u001b[0;34mr'$J_x$'\u001b[0m\u001b[0;34m)\u001b[0m\u001b[0;34m\u001b[0m\u001b[0m\n\u001b[1;32m     27\u001b[0m     \u001b[0mplt\u001b[0m\u001b[0;34m.\u001b[0m\u001b[0mylabel\u001b[0m\u001b[0;34m(\u001b[0m\u001b[0;34mr'$J_y$'\u001b[0m\u001b[0;34m)\u001b[0m\u001b[0;34m\u001b[0m\u001b[0m\n\u001b[0;32m---> 28\u001b[0;31m     \u001b[0mplt\u001b[0m\u001b[0;34m.\u001b[0m\u001b[0msavefig\u001b[0m\u001b[0;34m(\u001b[0m\u001b[0;34m\"03_Plots/DACTX_JxJy_a=%.0e_b=%.0e_g=%.0e.eps\"\u001b[0m\u001b[0;34m%\u001b[0m\u001b[0;34m(\u001b[0m\u001b[0ma\u001b[0m\u001b[0;34m,\u001b[0m\u001b[0mb\u001b[0m\u001b[0;34m,\u001b[0m\u001b[0mg\u001b[0m\u001b[0;34m)\u001b[0m\u001b[0;34m)\u001b[0m\u001b[0;34m\u001b[0m\u001b[0m\n\u001b[0m\u001b[1;32m     29\u001b[0m \u001b[0;34m\u001b[0m\u001b[0m\n\u001b[1;32m     30\u001b[0m \u001b[0;34m\u001b[0m\u001b[0m\n",
      "\u001b[0;32m/home/sondrevf/anaconda3/lib/python3.6/site-packages/matplotlib/pyplot.py\u001b[0m in \u001b[0;36msavefig\u001b[0;34m(*args, **kwargs)\u001b[0m\n\u001b[1;32m    695\u001b[0m \u001b[0;32mdef\u001b[0m \u001b[0msavefig\u001b[0m\u001b[0;34m(\u001b[0m\u001b[0;34m*\u001b[0m\u001b[0margs\u001b[0m\u001b[0;34m,\u001b[0m \u001b[0;34m**\u001b[0m\u001b[0mkwargs\u001b[0m\u001b[0;34m)\u001b[0m\u001b[0;34m:\u001b[0m\u001b[0;34m\u001b[0m\u001b[0m\n\u001b[1;32m    696\u001b[0m     \u001b[0mfig\u001b[0m \u001b[0;34m=\u001b[0m \u001b[0mgcf\u001b[0m\u001b[0;34m(\u001b[0m\u001b[0;34m)\u001b[0m\u001b[0;34m\u001b[0m\u001b[0m\n\u001b[0;32m--> 697\u001b[0;31m     \u001b[0mres\u001b[0m \u001b[0;34m=\u001b[0m \u001b[0mfig\u001b[0m\u001b[0;34m.\u001b[0m\u001b[0msavefig\u001b[0m\u001b[0;34m(\u001b[0m\u001b[0;34m*\u001b[0m\u001b[0margs\u001b[0m\u001b[0;34m,\u001b[0m \u001b[0;34m**\u001b[0m\u001b[0mkwargs\u001b[0m\u001b[0;34m)\u001b[0m\u001b[0;34m\u001b[0m\u001b[0m\n\u001b[0m\u001b[1;32m    698\u001b[0m     \u001b[0mfig\u001b[0m\u001b[0;34m.\u001b[0m\u001b[0mcanvas\u001b[0m\u001b[0;34m.\u001b[0m\u001b[0mdraw_idle\u001b[0m\u001b[0;34m(\u001b[0m\u001b[0;34m)\u001b[0m   \u001b[0;31m# need this if 'transparent=True' to reset colors\u001b[0m\u001b[0;34m\u001b[0m\u001b[0m\n\u001b[1;32m    699\u001b[0m     \u001b[0;32mreturn\u001b[0m \u001b[0mres\u001b[0m\u001b[0;34m\u001b[0m\u001b[0m\n",
      "\u001b[0;32m/home/sondrevf/anaconda3/lib/python3.6/site-packages/matplotlib/figure.py\u001b[0m in \u001b[0;36msavefig\u001b[0;34m(self, *args, **kwargs)\u001b[0m\n\u001b[1;32m   1571\u001b[0m             \u001b[0mself\u001b[0m\u001b[0;34m.\u001b[0m\u001b[0mset_frameon\u001b[0m\u001b[0;34m(\u001b[0m\u001b[0mframeon\u001b[0m\u001b[0;34m)\u001b[0m\u001b[0;34m\u001b[0m\u001b[0m\n\u001b[1;32m   1572\u001b[0m \u001b[0;34m\u001b[0m\u001b[0m\n\u001b[0;32m-> 1573\u001b[0;31m         \u001b[0mself\u001b[0m\u001b[0;34m.\u001b[0m\u001b[0mcanvas\u001b[0m\u001b[0;34m.\u001b[0m\u001b[0mprint_figure\u001b[0m\u001b[0;34m(\u001b[0m\u001b[0;34m*\u001b[0m\u001b[0margs\u001b[0m\u001b[0;34m,\u001b[0m \u001b[0;34m**\u001b[0m\u001b[0mkwargs\u001b[0m\u001b[0;34m)\u001b[0m\u001b[0;34m\u001b[0m\u001b[0m\n\u001b[0m\u001b[1;32m   1574\u001b[0m \u001b[0;34m\u001b[0m\u001b[0m\n\u001b[1;32m   1575\u001b[0m         \u001b[0;32mif\u001b[0m \u001b[0mframeon\u001b[0m\u001b[0;34m:\u001b[0m\u001b[0;34m\u001b[0m\u001b[0m\n",
      "\u001b[0;32m/home/sondrevf/anaconda3/lib/python3.6/site-packages/matplotlib/backend_bases.py\u001b[0m in \u001b[0;36mprint_figure\u001b[0;34m(self, filename, dpi, facecolor, edgecolor, orientation, format, **kwargs)\u001b[0m\n\u001b[1;32m   2250\u001b[0m                 \u001b[0morientation\u001b[0m\u001b[0;34m=\u001b[0m\u001b[0morientation\u001b[0m\u001b[0;34m,\u001b[0m\u001b[0;34m\u001b[0m\u001b[0m\n\u001b[1;32m   2251\u001b[0m                 \u001b[0mbbox_inches_restore\u001b[0m\u001b[0;34m=\u001b[0m\u001b[0m_bbox_inches_restore\u001b[0m\u001b[0;34m,\u001b[0m\u001b[0;34m\u001b[0m\u001b[0m\n\u001b[0;32m-> 2252\u001b[0;31m                 **kwargs)\n\u001b[0m\u001b[1;32m   2253\u001b[0m         \u001b[0;32mfinally\u001b[0m\u001b[0;34m:\u001b[0m\u001b[0;34m\u001b[0m\u001b[0m\n\u001b[1;32m   2254\u001b[0m             \u001b[0;32mif\u001b[0m \u001b[0mbbox_inches\u001b[0m \u001b[0;32mand\u001b[0m \u001b[0mrestore_bbox\u001b[0m\u001b[0;34m:\u001b[0m\u001b[0;34m\u001b[0m\u001b[0m\n",
      "\u001b[0;32m/home/sondrevf/anaconda3/lib/python3.6/site-packages/matplotlib/backends/backend_ps.py\u001b[0m in \u001b[0;36mprint_eps\u001b[0;34m(self, outfile, *args, **kwargs)\u001b[0m\n\u001b[1;32m    958\u001b[0m \u001b[0;34m\u001b[0m\u001b[0m\n\u001b[1;32m    959\u001b[0m     \u001b[0;32mdef\u001b[0m \u001b[0mprint_eps\u001b[0m\u001b[0;34m(\u001b[0m\u001b[0mself\u001b[0m\u001b[0;34m,\u001b[0m \u001b[0moutfile\u001b[0m\u001b[0;34m,\u001b[0m \u001b[0;34m*\u001b[0m\u001b[0margs\u001b[0m\u001b[0;34m,\u001b[0m \u001b[0;34m**\u001b[0m\u001b[0mkwargs\u001b[0m\u001b[0;34m)\u001b[0m\u001b[0;34m:\u001b[0m\u001b[0;34m\u001b[0m\u001b[0m\n\u001b[0;32m--> 960\u001b[0;31m         \u001b[0;32mreturn\u001b[0m \u001b[0mself\u001b[0m\u001b[0;34m.\u001b[0m\u001b[0m_print_ps\u001b[0m\u001b[0;34m(\u001b[0m\u001b[0moutfile\u001b[0m\u001b[0;34m,\u001b[0m \u001b[0;34m'eps'\u001b[0m\u001b[0;34m,\u001b[0m \u001b[0;34m*\u001b[0m\u001b[0margs\u001b[0m\u001b[0;34m,\u001b[0m \u001b[0;34m**\u001b[0m\u001b[0mkwargs\u001b[0m\u001b[0;34m)\u001b[0m\u001b[0;34m\u001b[0m\u001b[0m\n\u001b[0m\u001b[1;32m    961\u001b[0m \u001b[0;34m\u001b[0m\u001b[0m\n\u001b[1;32m    962\u001b[0m     \u001b[0;32mdef\u001b[0m \u001b[0m_print_ps\u001b[0m\u001b[0;34m(\u001b[0m\u001b[0mself\u001b[0m\u001b[0;34m,\u001b[0m \u001b[0moutfile\u001b[0m\u001b[0;34m,\u001b[0m \u001b[0mformat\u001b[0m\u001b[0;34m,\u001b[0m \u001b[0;34m*\u001b[0m\u001b[0margs\u001b[0m\u001b[0;34m,\u001b[0m \u001b[0;34m**\u001b[0m\u001b[0mkwargs\u001b[0m\u001b[0;34m)\u001b[0m\u001b[0;34m:\u001b[0m\u001b[0;34m\u001b[0m\u001b[0m\n",
      "\u001b[0;32m/home/sondrevf/anaconda3/lib/python3.6/site-packages/matplotlib/backends/backend_ps.py\u001b[0m in \u001b[0;36m_print_ps\u001b[0;34m(self, outfile, format, *args, **kwargs)\u001b[0m\n\u001b[1;32m    986\u001b[0m             self._print_figure(outfile, format, imagedpi, facecolor, edgecolor,\n\u001b[1;32m    987\u001b[0m                                \u001b[0morientation\u001b[0m\u001b[0;34m,\u001b[0m \u001b[0misLandscape\u001b[0m\u001b[0;34m,\u001b[0m \u001b[0mpapertype\u001b[0m\u001b[0;34m,\u001b[0m\u001b[0;34m\u001b[0m\u001b[0m\n\u001b[0;32m--> 988\u001b[0;31m                                **kwargs)\n\u001b[0m\u001b[1;32m    989\u001b[0m \u001b[0;34m\u001b[0m\u001b[0m\n\u001b[1;32m    990\u001b[0m     def _print_figure(self, outfile, format, dpi=72, facecolor='w', edgecolor='w',\n",
      "\u001b[0;32m/home/sondrevf/anaconda3/lib/python3.6/site-packages/matplotlib/backends/backend_ps.py\u001b[0m in \u001b[0;36m_print_figure\u001b[0;34m(self, outfile, format, dpi, facecolor, edgecolor, orientation, isLandscape, papertype, **kwargs)\u001b[0m\n\u001b[1;32m   1182\u001b[0m                 \u001b[0mprint_figure_impl\u001b[0m\u001b[0;34m(\u001b[0m\u001b[0;34m)\u001b[0m\u001b[0;34m\u001b[0m\u001b[0m\n\u001b[1;32m   1183\u001b[0m             \u001b[0;32melse\u001b[0m\u001b[0;34m:\u001b[0m\u001b[0;34m\u001b[0m\u001b[0m\n\u001b[0;32m-> 1184\u001b[0;31m                 \u001b[0;32mwith\u001b[0m \u001b[0mio\u001b[0m\u001b[0;34m.\u001b[0m\u001b[0mopen\u001b[0m\u001b[0;34m(\u001b[0m\u001b[0moutfile\u001b[0m\u001b[0;34m,\u001b[0m \u001b[0;34m'w'\u001b[0m\u001b[0;34m,\u001b[0m \u001b[0mencoding\u001b[0m\u001b[0;34m=\u001b[0m\u001b[0;34m'latin-1'\u001b[0m\u001b[0;34m)\u001b[0m \u001b[0;32mas\u001b[0m \u001b[0mfh\u001b[0m\u001b[0;34m:\u001b[0m\u001b[0;34m\u001b[0m\u001b[0m\n\u001b[0m\u001b[1;32m   1185\u001b[0m                     \u001b[0mprint_figure_impl\u001b[0m\u001b[0;34m(\u001b[0m\u001b[0;34m)\u001b[0m\u001b[0;34m\u001b[0m\u001b[0m\n\u001b[1;32m   1186\u001b[0m \u001b[0;34m\u001b[0m\u001b[0m\n",
      "\u001b[0;31mFileNotFoundError\u001b[0m: [Errno 2] No such file or directory: '03_Plots/DACTX_JxJy_a=1e-03_b=0e+00_g=2e-02.eps'"
     ]
    },
    {
     "data": {
      "image/png": "[encoded data removed]",
      "text/plain": [
       "<matplotlib.figure.Figure at 0x7f64ee45e0f0>"
      ]
     },
     "metadata": {},
     "output_type": "display_data"
    }
   ],
   "source": [
    "###################################################\n",
    "a= 1e-3\n",
    "b= 0\n",
    "# a = 1.64e-4  ;  b = -1.16e-4\n",
    "# a = 2*a\n",
    "g= 0.02\n",
    "jmax= 10\n",
    "jx = np.linspace(0,jmax,20)\n",
    "jy = jx\n",
    "JX,JY = np.meshgrid(jx,jy)\n",
    "\n",
    "for i in [1,2]:\n",
    "\n",
    "    if i==1:\n",
    "        F = octu_leb(JX,JY,a,b,g)\n",
    "    else:\n",
    "        F = octu_leb(JX,JY,b,a,g)\n",
    "    vmin = np.min(F)\n",
    "    vmax = np.max(F) \n",
    "    # vmax = 1.0\n",
    "    vmin = 10**(int(np.log10(vmax * 1e4)-7))\n",
    "    plt.figure()\n",
    "    plt.pcolor(JX,JY,F,norm =LogNorm(vmin=vmin,vmax=vmax))\n",
    "    plt.colorbar(label=r'Reduction of $\\Delta J_x$')\n",
    "    plt.title(r\"$a=%.0e$, $b=%.0e$, $g=%.2f$\"%(a,b,g)+'\\n')\n",
    "    plt.xlabel(r'$J_x$')\n",
    "    plt.ylabel(r'$J_y$')\n",
    "    plt.savefig(\"03_Plots/DACTX_JxJy_a=%.0e_b=%.0e_g=%.0e.eps\"%(a,b,g))\n",
    "\n",
    "\n"
   ]
  },
  {
   "cell_type": "code",
   "execution_count": 166,
   "metadata": {},
   "outputs": [
    {
     "data": {
      "text/plain": [
       "(0.1746740138484229, 1.458643626728015e-08)"
      ]
     },
     "execution_count": 166,
     "metadata": {},
     "output_type": "execute_result"
    }
   ],
   "source": [
    "# f = lambda y, x: x*y**2\n",
    "# integrate.dblquad(f, 0, 2, lambda x: 0, lambda x: 1)\n",
    "# integrate.dblquad(int_octu_leb,0,100,lambda x : 0 , lambda x: 100 , args = (a,b,g,))\n"
   ]
  },
  {
   "cell_type": "code",
   "execution_count": 176,
   "metadata": {
    "scrolled": false
   },
   "outputs": [
    {
     "name": "stdout",
     "output_type": "stream",
     "text": [
      "a 0.001\n",
      "b -0.0\n",
      "x 0.0 0.0166666666667 0.833333333333\n",
      "y 0.0 0.0166666666667 0.833333333333\n",
      "Max growth 0.833333333333\n",
      "Jx (1000000,)\n",
      "Jy (1000000,)\n",
      "Weights (1000000,)\n",
      "[]\n"
     ]
    },
    {
     "data": {
      "text/plain": [
       "<matplotlib.text.Text at 0x7fe99f07a748>"
      ]
     },
     "execution_count": 176,
     "metadata": {},
     "output_type": "execute_result"
    },
    {
     "data": {
      "image/png": "[encoded data removed]",
      "text/plain": [
       "<matplotlib.figure.Figure at 0x7fe99e9a3588>"
      ]
     },
     "metadata": {},
     "output_type": "display_data"
    }
   ],
   "source": [
    "#Initial distribution\n",
    "nbin=100\n",
    "nbin2=100\n",
    " \n",
    "a=1e-3 \n",
    "b=-a * 0 \n",
    "g= 0.02\n",
    "\n",
    "noiseAmp = 0.0\n",
    "sepx = 0.1* np.sqrt(10)/np.sqrt(3)\n",
    "sepy = 0.1* np.sqrt(10) /np.sqrt(3)\n",
    "N = int(1e6)\n",
    "numt = 50\n",
    "Jmax=6\n",
    "dist=1\n",
    "\n",
    "dJx_exp = 0.5*sepx**2\n",
    "dJy_exp = 0.5*sepy**2\n",
    "print('a',a)\n",
    "print('b',b)\n",
    "print(\"x\",noiseAmp,dJx_exp,dJx_exp*numt)\n",
    "print(\"y\",noiseAmp,dJy_exp,dJy_exp*numt)\n",
    "print(\"Max growth\",numt*dJx_exp)\n",
    "\n",
    "\n",
    "if dist==1:\n",
    "    Jx = st.chi2.rvs(2, size=N)*0.5\n",
    "    Jy = st.chi2.rvs(2, size=N)*0.5\n",
    "    weights = np.ones(N)\n",
    "elif dist==2:\n",
    "    Jx = np.random.uniform(0,Jmax,N)\n",
    "    Jy = np.random.uniform(0,Jmax,N)\n",
    "    weights = np.exp(-Jx-Jy)\n",
    "elif dist==3:\n",
    "    N1 = int(N/2)\n",
    "    Jx1 = st.chi2.rvs(2, size=N1)*0.5\n",
    "    Jy1 = st.chi2.rvs(2, size=N1)*0.5\n",
    "    weights1 = np.ones(N1)\n",
    "    Jx2 = np.random.uniform(0,Jmax,N-N1)\n",
    "    Jy2 = np.random.uniform(0,Jmax,N-N1)\n",
    "    weights2 = np.exp(-Jx2-Jy2)\n",
    "    Jx = np.concatenate((Jx1,Jx2))\n",
    "    Jy = np.concatenate((Jy1,Jy2))\n",
    "    weights = np.concatenate((weights1,weights2))\n",
    "\n",
    "print('Jx',np.shape(Jx))\n",
    "print('Jy',np.shape(Jy))\n",
    "print('Weights',np.shape(weights))\n",
    "\n",
    "\n",
    "Jx0 = Jx.copy()\n",
    "Jy0 = Jy.copy()\n",
    "\n",
    "plt.figure()\n",
    "x = np.linspace(0,Jmax*1.2,100)\n",
    "plt.plot(x,np.exp(-x),label='Analytical')\n",
    "\n",
    "vals,edges = np.histogram(Jx,bins=nbin,normed=True,weights=weights);\n",
    "# center = center_edges(edges)\n",
    "# plt.plot(center,vals,label='Before')\n",
    "plt.hist(Jx,bins=edges,normed=True, histtype='step',label='Before',weights=weights)\n",
    "\n",
    "fac = integrate.nquad(int_octu_leb, [[0,100],[0,100]],args = (a,b,g))[0]\n",
    "for i in range(numt):\n",
    "    if 1:\n",
    "        Jx+= (dJx_exp +sepx*np.sqrt(2*Jx)*np.cos(np.1andom.uniform(0,pi2,N)) )*octu_leb(Jx,Jy,a,b,g)\n",
    "        Jy+= (dJy_exp +sepy*np.sqrt(2*Jy)*np.cos(np.random.uniform(0,pi2,N)) )*octu_leb(Jx,Jy,b,a,g)\n",
    "    \n",
    "\n",
    "    elif 1:\n",
    "        #Try to modify. the current one is o so wrong\n",
    "        fac = octu_leb(Jx,Jy,a,b,g)\n",
    "        Jx+= (dJx_exp )*fac + sepx*np.sqrt(2*Jx)*np.cos(np.random.uniform(0,pi2,N))*fac**(0.5)\n",
    "        Jy+= (dJy_exp )*octu_leb(Jx,Jy,b,a,g) + sepy*np.sqrt(2*Jy)*np.cos(np.random.uniform(0,pi2,N))*1\n",
    "        Jx = np.abs(Jx) \n",
    "        Jy = np.abs(Jy) \n",
    "        \n",
    "    else:\n",
    "        Jx+= dJx_exp*octu_leb(Jx,Jy,a,b,g)\n",
    "        Jy+= dJy_exp*octu_leb(Jx,Jy,a,b,g)\n",
    "\n",
    "        Jx += np.random.randn(N)*noiseAmp# np.sqrt(np.random.randn(N)**2)*noiseAmp\n",
    "        Jy += np.random.randn(N)*noiseAmp\n",
    "        Jx  =  np.abs(Jx)\n",
    "        Jy  = np.abs(Jy)\n",
    "        \n",
    "# vals,edges = np.histogram(Jx,bins=edges,normed=True);\n",
    "# center = center_edges(edges)\n",
    "# plt.plot(center,vals,label='After')\n",
    "\n",
    "print(Jx[Jx<0])\n",
    "vals,_,_=plt.hist(Jx,bins=edges,normed=True, histtype='step',label='After',weights=weights)\n",
    "plt.xlim(0,Jmax)\n",
    "# plt.ylim(np.min(vals[int(nbin/2):]),10) #[np.nonzero(a)]\n",
    "plt.ylim(np.min(vals[np.nonzero(vals)]),10)\n",
    "plt.yscale('Log')\n",
    "plt.legend(loc=0)\n",
    "plt.xlabel(r'$J_x$')\n",
    "plt.title(\"Density\")\n"
   ]
  },
  {
   "cell_type": "code",
   "execution_count": 177,
   "metadata": {
    "scrolled": false
   },
   "outputs": [
    {
     "ename": "NameError",
     "evalue": "name 'plt' is not defined",
     "output_type": "error",
     "traceback": [
      "\u001b[0;31m---------------------------------------------------------------------------\u001b[0m",
      "\u001b[0;31mNameError\u001b[0m                                 Traceback (most recent call last)",
      "\u001b[0;32m<ipython-input-3-48b0f0496c94>\u001b[0m in \u001b[0;36m<module>\u001b[0;34m()\u001b[0m\n\u001b[0;32m----> 1\u001b[0;31m \u001b[0mplt\u001b[0m\u001b[0;34m.\u001b[0m\u001b[0mfigure\u001b[0m\u001b[0;34m(\u001b[0m\u001b[0;34m)\u001b[0m\u001b[0;34m\u001b[0m\u001b[0m\n\u001b[0m\u001b[1;32m      2\u001b[0m \u001b[0mplt\u001b[0m\u001b[0;34m.\u001b[0m\u001b[0mxlabel\u001b[0m\u001b[0;34m(\u001b[0m\u001b[0;34mr'$J_{x,0}$'\u001b[0m\u001b[0;34m)\u001b[0m\u001b[0;34m\u001b[0m\u001b[0m\n\u001b[1;32m      3\u001b[0m \u001b[0mplt\u001b[0m\u001b[0;34m.\u001b[0m\u001b[0mtitle\u001b[0m\u001b[0;34m(\u001b[0m\u001b[0;34mr\"Change of $J_x$\"\u001b[0m\u001b[0;34m)\u001b[0m\u001b[0;34m\u001b[0m\u001b[0m\n\u001b[1;32m      4\u001b[0m \u001b[0mxx\u001b[0m\u001b[0;34m=\u001b[0m\u001b[0mJx0\u001b[0m\u001b[0;34m\u001b[0m\u001b[0m\n\u001b[1;32m      5\u001b[0m \u001b[0mW\u001b[0m\u001b[0;34m,\u001b[0m\u001b[0medges\u001b[0m \u001b[0;34m=\u001b[0m \u001b[0mnp\u001b[0m\u001b[0;34m.\u001b[0m\u001b[0mhistogram\u001b[0m\u001b[0;34m(\u001b[0m\u001b[0mxx\u001b[0m\u001b[0;34m,\u001b[0m\u001b[0mbins\u001b[0m\u001b[0;34m=\u001b[0m\u001b[0medges\u001b[0m\u001b[0;34m)\u001b[0m\u001b[0;34m\u001b[0m\u001b[0m\n",
      "\u001b[0;31mNameError\u001b[0m: name 'plt' is not defined"
     ]
    }
   ],
   "source": [
    "plt.figure()\n",
    "plt.xlabel(r'$J_{x,0}$')\n",
    "plt.title(r\"Change of $J_x$\")\n",
    "xx=Jx0\n",
    "W,edges = np.histogram(xx,bins=edges)\n",
    "vals,_ = np.histogram(xx,bins=edges,weights=Jx-Jx0)\n",
    "vals = vals/W\n",
    "\n",
    "leb1=np.zeros_like(x)\n",
    "for i,J in enumerate(x):\n",
    "    leb1[i] = integrate.quad(intJy_octu_leb,0,100,args = (J,a,b,g))[0]\n",
    "\n",
    "\n",
    "plt.plot(x, dJx_exp*numt*leb1,label='Lebedev 1 kick')\n",
    "# plt.plot(x,dJx_exp*numt*octu_leb(x,0,a,b,g),label='Lebedev')\n",
    "plt.plot(center_edges(edges),vals,label='Lebedev N kicks')\n",
    "# plt.hist(Jx0,bins=edges,histtype='step',weights=Jx-Jx0,label='Numerical');\n",
    "# plt.ylim(0,0.4)\n",
    "l1,l2 = plt.ylim()\n",
    "plt.ylim(max(l1,0),min(l2,dJx_exp*numt))\n",
    "plt.xlim(0,Jmax)\n",
    "plt.legend(loc=0)\n",
    "plt.savefig(\"03_Plots/DACT_Lebedev_OPa%.0e_OPb%.0e_nt%d_np%d_Kx%.0e.eps\"%(a,b,numt,N,sepx))\n",
    "plt.savefig(\"03_Plots/DACT_Lebedev_OPa%.0e_OPb%.0e_nt%d_np%d_Kx%.0e.png\"%(a,b,numt,N,sepx))\n",
    "\n",
    "# # Plot 2d\n",
    "# plt.pcolor(JX,JY,F,norm =LogNorm(vmin=vmin,vmax=vmax))\n",
    "# plt.colorbar(label=r'Reduction of $\\Delta J_x$')\n",
    "# plt.title(r\"$a=%.0e$, $b=%.0e$, $g=%.2f$\"%(a,b,g)+'\\n')\n",
    "# plt.xlabel(r'$J_x$')\n",
    "# plt.ylabel(r'$J_y$')\n",
    "\n",
    "plt.figure()\n",
    "plt.xlabel(r'$J_{x0}$')\n",
    "plt.title(r\"Change of $J_x$\")\n",
    "plt.plot(Jx0,Jx-Jx0,'.')\n",
    "plt.xlim(0,Jmax*1.1)\n",
    "plt.grid(True)\n",
    "\n",
    "###################################################################\n",
    "################ PCOLOR with NANS #################################\n",
    "###################################################################\n",
    "\n",
    "H0,xedges,yedges = np.histogram2d(Jx0,Jy0,nbin2,range=[[0,Jmax],[0,Jmax]],weights=weights);\n",
    "H0=H0.transpose()\n",
    "X,Y = np.meshgrid(xedges,yedges)\n",
    "\n",
    "H1,xedges,yedges = np.histogram2d(Jx,Jy,nbin2,range=[[0,Jmax],[0,Jmax]],weights=weights);\n",
    "H1=H1.transpose()\n",
    "\n",
    "# H2,xedges,yedges = np.histogram2d(Jx0,Jx-Jx0,nbin2,range=[[0,Jmax],[0,Jmax]],weights=weights);\n",
    "# H2=H1.transpose()\n",
    "\n",
    "\n",
    "DJx = Jx-Jx0\n",
    "# H3,xedges,yedges = np.histogram2d(Jx0,Jy0,nbin2,range=[[0,Jmax],[0,Jmax]],weights=DJx);\n",
    "W,xedges,yedges = np.histogram2d(Jx0,Jy0,nbin2,range=[[0,Jmax],[0,Jmax]]); #weights=1\n",
    "H3,xedges,yedges = np.histogram2d(Jx0,Jy0,nbin2,range=[[0,Jmax],[0,Jmax]],weights=DJx);\n",
    "H3=(H3/W).transpose()\n",
    "\n",
    "\n",
    "# F = H3/H1 # (H2-H1)/H1\n",
    "FS = [H0,H1,H3,H1-H0]\n",
    "for i,F in enumerate(FS):\n",
    "#     if i==3: continue\n",
    "    F = np.ma.masked_where(np.isnan(F), F)\n",
    "    # F = np.ma.masked_where(np.nonzero(F), F)\n",
    "    \n",
    "    plt.figure()\n",
    "    plt.title([\"Distribution at start\", \"Distribution at finish\", r\"$\\Delta J_x$\",\"Change of distribution\"][i])\n",
    "    if i==3 or i ==2:\n",
    "        vmax =np.nanmax(np.abs(F))\n",
    "        vmin=np.nanmin(F)\n",
    "        plt.pcolor(X,Y,F,vmin=vmin,vmax=vmax)\n",
    "    else:\n",
    "        vmax =np.nanmax(np.abs(F))\n",
    "        vmin=[1,1,1e-3][dist]\n",
    "        vmin=1e-2\n",
    "        if i==2:\n",
    "            vmin=1\n",
    "        plt.pcolor(X,Y,F,norm =LogNorm(vmin=vmin,vmax=vmax))\n",
    "    \n",
    "    plt.colorbar()\n",
    "    plt.xlabel(r'$J_x$')\n",
    "    plt.ylabel(r'$J_y$')\n",
    "    \n",
    "    \n",
    "plt.figure()    \n",
    "plt.ylabel(r\"$\\Delta J_x$\")\n",
    "plt.xlabel(r'$J_{x0}$')\n",
    "lim = numt*dJx_exp*1e1\n",
    "plt.hist2d(Jx0,Jx-Jx0,nbin2,range=[[0,Jmax],[-lim,lim]],weights=weights);\n",
    "plt.colorbar()"
   ]
  },
  {
   "cell_type": "code",
   "execution_count": 242,
   "metadata": {},
   "outputs": [
    {
     "name": "stdout",
     "output_type": "stream",
     "text": [
      "12.4557897619\n",
      "[ 5.65624131  2.75016417  4.42426276 ...,  5.51908178  5.9597329\n",
      "  3.78278052]\n"
     ]
    }
   ],
   "source": [
    "print(np.max(Jx-Jx0))\n",
    "np.cos(pi2*np.random.uniform(0,1,N)) \n",
    "print(Jx0)"
   ]
  },
  {
   "cell_type": "code",
   "execution_count": null,
   "metadata": {
    "collapsed": true
   },
   "outputs": [],
   "source": []
  }
 ],
 "metadata": {
  "kernelspec": {
   "display_name": "Python 3",
   "language": "python",
   "name": "python3"
  },
  "language_info": {
   "codemirror_mode": {
    "name": "ipython",
    "version": 3
   },
   "file_extension": ".py",
   "mimetype": "text/x-python",
   "name": "python",
   "nbconvert_exporter": "python",
   "pygments_lexer": "ipython3",
   "version": "3.6.1"
  }
 },
 "nbformat": 4,
 "nbformat_minor": 1
}
